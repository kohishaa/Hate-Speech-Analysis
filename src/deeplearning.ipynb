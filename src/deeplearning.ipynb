{
  "cells": [
    {
      "cell_type": "markdown",
      "metadata": {
        "id": "mVlVk-TsBfJy"
      },
      "source": [
        "## Importing libraries"
      ]
    },
    {
      "cell_type": "code",
      "execution_count": 6,
      "metadata": {
        "id": "2_pyZH5VBfJ0"
      },
      "outputs": [],
      "source": [
        "import pandas\n",
        "import keras"
      ]
    },
    {
      "cell_type": "code",
      "execution_count": 7,
      "metadata": {
        "id": "uue_45EjBfJ3"
      },
      "outputs": [],
      "source": [
        "from keras.layers import Dense, Dropout, Activation,LSTM\n",
        "from keras.layers import Embedding\n",
        "from keras.layers import GRU\n",
        "from keras.layers import Conv1D, MaxPooling1D\n",
        "from keras.preprocessing.text import Tokenizer\n",
        "from keras.preprocessing.sequence import pad_sequences\n",
        "import pandas as pd\n",
        "from sklearn.model_selection import train_test_split\n",
        "import numpy as np\n",
        "from keras.models import Sequential"
      ]
    },
    {
      "cell_type": "code",
      "execution_count": 8,
      "metadata": {
        "id": "b7uYvr6IBfJ3"
      },
      "outputs": [],
      "source": [
        "#from google.colab import drive"
      ]
    },
    {
      "cell_type": "code",
      "execution_count": 9,
      "metadata": {
        "colab": {
          "base_uri": "https://localhost:8080/"
        },
        "id": "0g6O-z5sB6H-",
        "outputId": "27f3fa3e-bf63-4ec0-ab7b-1b5466f770fa"
      },
      "outputs": [
        {
          "name": "stdout",
          "output_type": "stream",
          "text": [
            "Mounted at /content/drive\n"
          ]
        }
      ],
      "source": [
        "#drive.mount('/content/drive')"
      ]
    },
    {
      "cell_type": "code",
      "execution_count": 27,
      "metadata": {
        "id": "CH72pMxUBfJ4"
      },
      "outputs": [],
      "source": [
        "finaldata=pd.read_csv('/content/drive/My Drive/project/data.csv')"
      ]
    },
    {
      "cell_type": "code",
      "execution_count": 28,
      "metadata": {
        "id": "8r6BXOaKFrsq"
      },
      "outputs": [],
      "source": [
        "finaldata['target']=finaldata['target'].replace({'NoHate':0,'Hate':1})"
      ]
    },
    {
      "cell_type": "code",
      "execution_count": 11,
      "metadata": {
        "colab": {
          "base_uri": "https://localhost:8080/"
        },
        "id": "m0uLDHapBfJ4",
        "outputId": "8a723fe0-e601-46ec-cf6e-031d55928291"
      },
      "outputs": [
        {
          "data": {
            "text/plain": [
              "(187902, 11)"
            ]
          },
          "execution_count": 11,
          "metadata": {},
          "output_type": "execute_result"
        }
      ],
      "source": [
        "finaldata.shape"
      ]
    },
    {
      "cell_type": "code",
      "execution_count": 12,
      "metadata": {
        "colab": {
          "base_uri": "https://localhost:8080/"
        },
        "id": "t0uFcvHXBfJ4",
        "outputId": "0df7a3f0-3d54-437e-ffbd-bcc9b8a58dc1"
      },
      "outputs": [
        {
          "data": {
            "text/plain": [
              "Index(['Unnamed: 0.1', 'Unnamed: 0', 'comment_text', 'target', 'Num_words',\n",
              "       'words', 'clean_comment', 'clean_comment_wo_stop',\n",
              "       'clean_comment_lemmatized', 'clean_comment_string',\n",
              "       'clean_comment_string1'],\n",
              "      dtype='object')"
            ]
          },
          "execution_count": 12,
          "metadata": {},
          "output_type": "execute_result"
        }
      ],
      "source": [
        "finaldata.columns"
      ]
    },
    {
      "cell_type": "code",
      "execution_count": 13,
      "metadata": {
        "colab": {
          "base_uri": "https://localhost:8080/",
          "height": 306
        },
        "id": "nkeIW-P-BfJ4",
        "outputId": "20b36618-166c-4720-9e73-96bf0c05e836"
      },
      "outputs": [
        {
          "data": {
            "text/html": [
              "\n",
              "  <div id=\"df-9ccac389-79b5-4e91-8252-78add42b7a01\" class=\"colab-df-container\">\n",
              "    <div>\n",
              "<style scoped>\n",
              "    .dataframe tbody tr th:only-of-type {\n",
              "        vertical-align: middle;\n",
              "    }\n",
              "\n",
              "    .dataframe tbody tr th {\n",
              "        vertical-align: top;\n",
              "    }\n",
              "\n",
              "    .dataframe thead th {\n",
              "        text-align: right;\n",
              "    }\n",
              "</style>\n",
              "<table border=\"1\" class=\"dataframe\">\n",
              "  <thead>\n",
              "    <tr style=\"text-align: right;\">\n",
              "      <th></th>\n",
              "      <th>Unnamed: 0.1</th>\n",
              "      <th>Unnamed: 0</th>\n",
              "      <th>comment_text</th>\n",
              "      <th>target</th>\n",
              "      <th>Num_words</th>\n",
              "      <th>words</th>\n",
              "      <th>clean_comment</th>\n",
              "      <th>clean_comment_wo_stop</th>\n",
              "      <th>clean_comment_lemmatized</th>\n",
              "      <th>clean_comment_string</th>\n",
              "      <th>clean_comment_string1</th>\n",
              "    </tr>\n",
              "  </thead>\n",
              "  <tbody>\n",
              "    <tr>\n",
              "      <th>9955</th>\n",
              "      <td>9955</td>\n",
              "      <td>9955</td>\n",
              "      <td>I would check on the Clinton Foundation articl...</td>\n",
              "      <td>NoHate</td>\n",
              "      <td>51</td>\n",
              "      <td>['I', 'would', 'check', 'on', 'the', 'Clinton'...</td>\n",
              "      <td>i would check on the clinton foundation articl...</td>\n",
              "      <td>would check clinton foundation article edits s...</td>\n",
              "      <td>would check clinton foundation article edits s...</td>\n",
              "      <td>would check clinton foundation article edits s...</td>\n",
              "      <td>would check clinton foundation article edits s...</td>\n",
              "    </tr>\n",
              "    <tr>\n",
              "      <th>21775</th>\n",
              "      <td>21775</td>\n",
              "      <td>21775</td>\n",
              "      <td>May 2007 (UTC)\\n\\nI'm afraid that you've jumpe...</td>\n",
              "      <td>NoHate</td>\n",
              "      <td>30</td>\n",
              "      <td>['May', '2007', '(UTC)', \"I'm\", 'afraid', 'tha...</td>\n",
              "      <td>may       utc   i m afraid that you ve jumped ...</td>\n",
              "      <td>may utc afraid jumped without looking although...</td>\n",
              "      <td>may utc afraid jumped without looking although...</td>\n",
              "      <td>may utc afraid jumped without looking although...</td>\n",
              "      <td>may utc afraid jumped without looking although...</td>\n",
              "    </tr>\n",
              "  </tbody>\n",
              "</table>\n",
              "</div>\n",
              "    <div class=\"colab-df-buttons\">\n",
              "\n",
              "  <div class=\"colab-df-container\">\n",
              "    <button class=\"colab-df-convert\" onclick=\"convertToInteractive('df-9ccac389-79b5-4e91-8252-78add42b7a01')\"\n",
              "            title=\"Convert this dataframe to an interactive table.\"\n",
              "            style=\"display:none;\">\n",
              "\n",
              "  <svg xmlns=\"http://www.w3.org/2000/svg\" height=\"24px\" viewBox=\"0 -960 960 960\">\n",
              "    <path d=\"M120-120v-720h720v720H120Zm60-500h600v-160H180v160Zm220 220h160v-160H400v160Zm0 220h160v-160H400v160ZM180-400h160v-160H180v160Zm440 0h160v-160H620v160ZM180-180h160v-160H180v160Zm440 0h160v-160H620v160Z\"/>\n",
              "  </svg>\n",
              "    </button>\n",
              "\n",
              "  <style>\n",
              "    .colab-df-container {\n",
              "      display:flex;\n",
              "      gap: 12px;\n",
              "    }\n",
              "\n",
              "    .colab-df-convert {\n",
              "      background-color: #E8F0FE;\n",
              "      border: none;\n",
              "      border-radius: 50%;\n",
              "      cursor: pointer;\n",
              "      display: none;\n",
              "      fill: #1967D2;\n",
              "      height: 32px;\n",
              "      padding: 0 0 0 0;\n",
              "      width: 32px;\n",
              "    }\n",
              "\n",
              "    .colab-df-convert:hover {\n",
              "      background-color: #E2EBFA;\n",
              "      box-shadow: 0px 1px 2px rgba(60, 64, 67, 0.3), 0px 1px 3px 1px rgba(60, 64, 67, 0.15);\n",
              "      fill: #174EA6;\n",
              "    }\n",
              "\n",
              "    .colab-df-buttons div {\n",
              "      margin-bottom: 4px;\n",
              "    }\n",
              "\n",
              "    [theme=dark] .colab-df-convert {\n",
              "      background-color: #3B4455;\n",
              "      fill: #D2E3FC;\n",
              "    }\n",
              "\n",
              "    [theme=dark] .colab-df-convert:hover {\n",
              "      background-color: #434B5C;\n",
              "      box-shadow: 0px 1px 3px 1px rgba(0, 0, 0, 0.15);\n",
              "      filter: drop-shadow(0px 1px 2px rgba(0, 0, 0, 0.3));\n",
              "      fill: #FFFFFF;\n",
              "    }\n",
              "  </style>\n",
              "\n",
              "    <script>\n",
              "      const buttonEl =\n",
              "        document.querySelector('#df-9ccac389-79b5-4e91-8252-78add42b7a01 button.colab-df-convert');\n",
              "      buttonEl.style.display =\n",
              "        google.colab.kernel.accessAllowed ? 'block' : 'none';\n",
              "\n",
              "      async function convertToInteractive(key) {\n",
              "        const element = document.querySelector('#df-9ccac389-79b5-4e91-8252-78add42b7a01');\n",
              "        const dataTable =\n",
              "          await google.colab.kernel.invokeFunction('convertToInteractive',\n",
              "                                                    [key], {});\n",
              "        if (!dataTable) return;\n",
              "\n",
              "        const docLinkHtml = 'Like what you see? Visit the ' +\n",
              "          '<a target=\"_blank\" href=https://colab.research.google.com/notebooks/data_table.ipynb>data table notebook</a>'\n",
              "          + ' to learn more about interactive tables.';\n",
              "        element.innerHTML = '';\n",
              "        dataTable['output_type'] = 'display_data';\n",
              "        await google.colab.output.renderOutput(dataTable, element);\n",
              "        const docLink = document.createElement('div');\n",
              "        docLink.innerHTML = docLinkHtml;\n",
              "        element.appendChild(docLink);\n",
              "      }\n",
              "    </script>\n",
              "  </div>\n",
              "\n",
              "\n",
              "<div id=\"df-8265b711-baac-47f9-bd02-4c1bab5fd5f8\">\n",
              "  <button class=\"colab-df-quickchart\" onclick=\"quickchart('df-8265b711-baac-47f9-bd02-4c1bab5fd5f8')\"\n",
              "            title=\"Suggest charts.\"\n",
              "            style=\"display:none;\">\n",
              "\n",
              "<svg xmlns=\"http://www.w3.org/2000/svg\" height=\"24px\"viewBox=\"0 0 24 24\"\n",
              "     width=\"24px\">\n",
              "    <g>\n",
              "        <path d=\"M19 3H5c-1.1 0-2 .9-2 2v14c0 1.1.9 2 2 2h14c1.1 0 2-.9 2-2V5c0-1.1-.9-2-2-2zM9 17H7v-7h2v7zm4 0h-2V7h2v10zm4 0h-2v-4h2v4z\"/>\n",
              "    </g>\n",
              "</svg>\n",
              "  </button>\n",
              "\n",
              "<style>\n",
              "  .colab-df-quickchart {\n",
              "      --bg-color: #E8F0FE;\n",
              "      --fill-color: #1967D2;\n",
              "      --hover-bg-color: #E2EBFA;\n",
              "      --hover-fill-color: #174EA6;\n",
              "      --disabled-fill-color: #AAA;\n",
              "      --disabled-bg-color: #DDD;\n",
              "  }\n",
              "\n",
              "  [theme=dark] .colab-df-quickchart {\n",
              "      --bg-color: #3B4455;\n",
              "      --fill-color: #D2E3FC;\n",
              "      --hover-bg-color: #434B5C;\n",
              "      --hover-fill-color: #FFFFFF;\n",
              "      --disabled-bg-color: #3B4455;\n",
              "      --disabled-fill-color: #666;\n",
              "  }\n",
              "\n",
              "  .colab-df-quickchart {\n",
              "    background-color: var(--bg-color);\n",
              "    border: none;\n",
              "    border-radius: 50%;\n",
              "    cursor: pointer;\n",
              "    display: none;\n",
              "    fill: var(--fill-color);\n",
              "    height: 32px;\n",
              "    padding: 0;\n",
              "    width: 32px;\n",
              "  }\n",
              "\n",
              "  .colab-df-quickchart:hover {\n",
              "    background-color: var(--hover-bg-color);\n",
              "    box-shadow: 0 1px 2px rgba(60, 64, 67, 0.3), 0 1px 3px 1px rgba(60, 64, 67, 0.15);\n",
              "    fill: var(--button-hover-fill-color);\n",
              "  }\n",
              "\n",
              "  .colab-df-quickchart-complete:disabled,\n",
              "  .colab-df-quickchart-complete:disabled:hover {\n",
              "    background-color: var(--disabled-bg-color);\n",
              "    fill: var(--disabled-fill-color);\n",
              "    box-shadow: none;\n",
              "  }\n",
              "\n",
              "  .colab-df-spinner {\n",
              "    border: 2px solid var(--fill-color);\n",
              "    border-color: transparent;\n",
              "    border-bottom-color: var(--fill-color);\n",
              "    animation:\n",
              "      spin 1s steps(1) infinite;\n",
              "  }\n",
              "\n",
              "  @keyframes spin {\n",
              "    0% {\n",
              "      border-color: transparent;\n",
              "      border-bottom-color: var(--fill-color);\n",
              "      border-left-color: var(--fill-color);\n",
              "    }\n",
              "    20% {\n",
              "      border-color: transparent;\n",
              "      border-left-color: var(--fill-color);\n",
              "      border-top-color: var(--fill-color);\n",
              "    }\n",
              "    30% {\n",
              "      border-color: transparent;\n",
              "      border-left-color: var(--fill-color);\n",
              "      border-top-color: var(--fill-color);\n",
              "      border-right-color: var(--fill-color);\n",
              "    }\n",
              "    40% {\n",
              "      border-color: transparent;\n",
              "      border-right-color: var(--fill-color);\n",
              "      border-top-color: var(--fill-color);\n",
              "    }\n",
              "    60% {\n",
              "      border-color: transparent;\n",
              "      border-right-color: var(--fill-color);\n",
              "    }\n",
              "    80% {\n",
              "      border-color: transparent;\n",
              "      border-right-color: var(--fill-color);\n",
              "      border-bottom-color: var(--fill-color);\n",
              "    }\n",
              "    90% {\n",
              "      border-color: transparent;\n",
              "      border-bottom-color: var(--fill-color);\n",
              "    }\n",
              "  }\n",
              "</style>\n",
              "\n",
              "  <script>\n",
              "    async function quickchart(key) {\n",
              "      const quickchartButtonEl =\n",
              "        document.querySelector('#' + key + ' button');\n",
              "      quickchartButtonEl.disabled = true;  // To prevent multiple clicks.\n",
              "      quickchartButtonEl.classList.add('colab-df-spinner');\n",
              "      try {\n",
              "        const charts = await google.colab.kernel.invokeFunction(\n",
              "            'suggestCharts', [key], {});\n",
              "      } catch (error) {\n",
              "        console.error('Error during call to suggestCharts:', error);\n",
              "      }\n",
              "      quickchartButtonEl.classList.remove('colab-df-spinner');\n",
              "      quickchartButtonEl.classList.add('colab-df-quickchart-complete');\n",
              "    }\n",
              "    (() => {\n",
              "      let quickchartButtonEl =\n",
              "        document.querySelector('#df-8265b711-baac-47f9-bd02-4c1bab5fd5f8 button');\n",
              "      quickchartButtonEl.style.display =\n",
              "        google.colab.kernel.accessAllowed ? 'block' : 'none';\n",
              "    })();\n",
              "  </script>\n",
              "</div>\n",
              "    </div>\n",
              "  </div>\n"
            ],
            "text/plain": [
              "       Unnamed: 0.1  Unnamed: 0  \\\n",
              "9955           9955        9955   \n",
              "21775         21775       21775   \n",
              "\n",
              "                                            comment_text  target  Num_words  \\\n",
              "9955   I would check on the Clinton Foundation articl...  NoHate         51   \n",
              "21775  May 2007 (UTC)\\n\\nI'm afraid that you've jumpe...  NoHate         30   \n",
              "\n",
              "                                                   words  \\\n",
              "9955   ['I', 'would', 'check', 'on', 'the', 'Clinton'...   \n",
              "21775  ['May', '2007', '(UTC)', \"I'm\", 'afraid', 'tha...   \n",
              "\n",
              "                                           clean_comment  \\\n",
              "9955   i would check on the clinton foundation articl...   \n",
              "21775  may       utc   i m afraid that you ve jumped ...   \n",
              "\n",
              "                                   clean_comment_wo_stop  \\\n",
              "9955   would check clinton foundation article edits s...   \n",
              "21775  may utc afraid jumped without looking although...   \n",
              "\n",
              "                                clean_comment_lemmatized  \\\n",
              "9955   would check clinton foundation article edits s...   \n",
              "21775  may utc afraid jumped without looking although...   \n",
              "\n",
              "                                    clean_comment_string  \\\n",
              "9955   would check clinton foundation article edits s...   \n",
              "21775  may utc afraid jumped without looking although...   \n",
              "\n",
              "                                   clean_comment_string1  \n",
              "9955   would check clinton foundation article edits s...  \n",
              "21775  may utc afraid jumped without looking although...  "
            ]
          },
          "execution_count": 13,
          "metadata": {},
          "output_type": "execute_result"
        }
      ],
      "source": [
        "finaldata.sample(2)"
      ]
    },
    {
      "cell_type": "code",
      "execution_count": 29,
      "metadata": {
        "id": "BFtyOHyKBfJ4"
      },
      "outputs": [],
      "source": [
        "textdata=finaldata['clean_comment_string1']\n",
        "target=finaldata['target']"
      ]
    },
    {
      "cell_type": "code",
      "execution_count": 30,
      "metadata": {
        "id": "gZrJ6Os6BfJ5"
      },
      "outputs": [],
      "source": [
        "X_train,X_test,Y_train,Y_test=train_test_split(textdata,target,test_size=0.25,random_state=12,stratify=target)"
      ]
    },
    {
      "cell_type": "code",
      "execution_count": 31,
      "metadata": {
        "colab": {
          "base_uri": "https://localhost:8080/"
        },
        "id": "02imf0wRBfJ5",
        "outputId": "0d6232d2-e99c-4cd6-97c1-43fbb11a48a2"
      },
      "outputs": [
        {
          "data": {
            "text/plain": [
              "(140926,)"
            ]
          },
          "execution_count": 31,
          "metadata": {},
          "output_type": "execute_result"
        }
      ],
      "source": [
        "X_train.shape "
      ]
    },
    {
      "cell_type": "code",
      "execution_count": 32,
      "metadata": {
        "colab": {
          "base_uri": "https://localhost:8080/"
        },
        "id": "cOtPnVvFBfJ5",
        "outputId": "1e1b4159-f4ec-472e-dbe9-8d7019b27e61"
      },
      "outputs": [
        {
          "data": {
            "text/plain": [
              "0    118563\n",
              "1     22363\n",
              "Name: target, dtype: int64"
            ]
          },
          "execution_count": 32,
          "metadata": {},
          "output_type": "execute_result"
        }
      ],
      "source": [
        "Y_train.value_counts()"
      ]
    },
    {
      "cell_type": "code",
      "execution_count": 25,
      "metadata": {
        "colab": {
          "base_uri": "https://localhost:8080/"
        },
        "id": "0-hGPu68En8O",
        "outputId": "e5ed1220-a99a-4e7c-daaa-c630c20a952c"
      },
      "outputs": [
        {
          "data": {
            "text/plain": [
              "128261    NoHate\n",
              "174406    NoHate\n",
              "85701     NoHate\n",
              "24428       Hate\n",
              "183427      Hate\n",
              "           ...  \n",
              "107979    NoHate\n",
              "180277    NoHate\n",
              "59923     NoHate\n",
              "37394     NoHate\n",
              "93683     NoHate\n",
              "Name: target, Length: 140926, dtype: object"
            ]
          },
          "execution_count": 25,
          "metadata": {},
          "output_type": "execute_result"
        }
      ],
      "source": [
        "Y_train"
      ]
    },
    {
      "cell_type": "code",
      "execution_count": 33,
      "metadata": {
        "id": "lae2krm3BfJ5"
      },
      "outputs": [],
      "source": [
        "def tokenizer(X_train, X_test,maxword=75000,sequ=50):\n",
        "    np.random.seed(7)\n",
        "    text = np.concatenate((X_train, X_test), axis=0).astype('str')\n",
        "    text = np.array(text)\n",
        "    tokenizer = Tokenizer(num_words=maxword)\n",
        "    tokenizer.fit_on_texts(text)\n",
        "    sequences = tokenizer.texts_to_sequences(text)\n",
        "    word_index = tokenizer.word_index\n",
        "    text = pad_sequences(sequences, maxlen=sequ)\n",
        "    indices = np.arange(text.shape[0])\n",
        "    text = text[indices]\n",
        "    print(text.shape)\n",
        "    X_train = text[0:len(X_train), ]\n",
        "    X_test = text[len(X_train):, ]\n",
        "    embeddings_index = {}\n",
        "    f = open(\"/content/drive/My Drive/project/glove.6B.50d.txt\", encoding=\"utf8\")\n",
        "    for line in f:\n",
        "        values = line.split()\n",
        "        word = values[0]\n",
        "        try:\n",
        "            coefs = np.asarray(values[1:], dtype='float32')\n",
        "        except:\n",
        "            pass\n",
        "        embeddings_index[word] = coefs\n",
        "    f.close()\n",
        "    return (X_train, X_test, word_index,embeddings_index)"
      ]
    },
    {
      "cell_type": "code",
      "execution_count": 34,
      "metadata": {
        "colab": {
          "base_uri": "https://localhost:8080/"
        },
        "id": "v-dV6WzcBfJ5",
        "outputId": "779e7814-c4d7-43f4-c73a-c28c986cf634"
      },
      "outputs": [
        {
          "name": "stdout",
          "output_type": "stream",
          "text": [
            "(187902, 50)\n"
          ]
        }
      ],
      "source": [
        "train_Glove,test_Glove, wordindex,embeddingsindex = tokenizer(X_train,X_test)"
      ]
    },
    {
      "cell_type": "code",
      "execution_count": 35,
      "metadata": {
        "id": "2EYMg8iCBfJ5"
      },
      "outputs": [],
      "source": [
        "def LSTMCNN(wordi, embeddings_index, nclasses, MAX_SEQUENCE_LENGTH=50, EMBEDDING_DIM=50):\n",
        "    kernel_size = 2\n",
        "    filters = 64\n",
        "    pool_size = 2\n",
        "    gru_node = 256\n",
        "    embedding_matrix = np.random.random((len(wordi) + 1, EMBEDDING_DIM))\n",
        "    for word, i in wordi.items():\n",
        "        embedding_vector = embeddings_index.get(word)\n",
        "        if embedding_vector is not None:\n",
        "            if len(embedding_matrix[i]) !=len(embedding_vector):\n",
        "                print(\"EMBEDDING_DIM is not equal to embedding_vector file ,GloVe,\")\n",
        "                exit(1)\n",
        "\n",
        "            embedding_matrix[i] = embedding_vector\n",
        "    model = Sequential()\n",
        "    model.add(Embedding(len(wordi) + 1,\n",
        "                                EMBEDDING_DIM,\n",
        "                                weights=[embedding_matrix],\n",
        "                                input_length=MAX_SEQUENCE_LENGTH,\n",
        "                                trainable=True))\n",
        "    model.add(Dropout(0.25))\n",
        "    model.add(Conv1D(filters, kernel_size, activation='relu'))\n",
        "    model.add(MaxPooling1D(pool_size=pool_size))\n",
        "    model.add(Conv1D(filters, kernel_size, activation='relu'))\n",
        "    model.add(MaxPooling1D(pool_size=pool_size))\n",
        "    model.add(Conv1D(filters, kernel_size, activation='relu'))\n",
        "    model.add(MaxPooling1D(pool_size=pool_size))\n",
        "    model.add(Conv1D(filters, kernel_size, activation='relu'))\n",
        "    model.add(MaxPooling1D(pool_size=pool_size))\n",
        "    model.add(LSTM(gru_node, return_sequences=True, recurrent_dropout=0.2))\n",
        "    model.add(LSTM(gru_node, return_sequences=True, recurrent_dropout=0.2))\n",
        "    model.add(LSTM(gru_node, return_sequences=True, recurrent_dropout=0.2))\n",
        "    model.add(LSTM(gru_node, recurrent_dropout=0.2))\n",
        "    model.add(Dense(1024,activation='relu'))\n",
        "    model.add(Dense(nclasses))\n",
        "    model.add(Activation('softmax'))\n",
        "    model.compile(loss='sparse_categorical_crossentropy',\n",
        "                  optimizer='adam',\n",
        "                  metrics=['accuracy'])\n",
        "\n",
        "    return model"
      ]
    },
    {
      "cell_type": "code",
      "execution_count": 36,
      "metadata": {
        "colab": {
          "base_uri": "https://localhost:8080/"
        },
        "id": "Z1ZZBCXzBfJ5",
        "outputId": "6ce192ed-c41f-4379-a154-9d14bd552c5b"
      },
      "outputs": [
        {
          "name": "stderr",
          "output_type": "stream",
          "text": [
            "WARNING:tensorflow:Layer lstm_4 will not use cuDNN kernels since it doesn't meet the criteria. It will use a generic GPU kernel as fallback when running on GPU.\n",
            "WARNING:tensorflow:Layer lstm_5 will not use cuDNN kernels since it doesn't meet the criteria. It will use a generic GPU kernel as fallback when running on GPU.\n",
            "WARNING:tensorflow:Layer lstm_6 will not use cuDNN kernels since it doesn't meet the criteria. It will use a generic GPU kernel as fallback when running on GPU.\n",
            "WARNING:tensorflow:Layer lstm_7 will not use cuDNN kernels since it doesn't meet the criteria. It will use a generic GPU kernel as fallback when running on GPU.\n"
          ]
        }
      ],
      "source": [
        "modelrcnnlstm = LSTMCNN(wordindex,embeddingsindex, 3)"
      ]
    },
    {
      "cell_type": "code",
      "execution_count": 37,
      "metadata": {
        "colab": {
          "base_uri": "https://localhost:8080/"
        },
        "id": "ZNWAofK0BfJ5",
        "outputId": "92443493-35ab-4ab4-f4aa-d1e32d1b1341"
      },
      "outputs": [
        {
          "name": "stdout",
          "output_type": "stream",
          "text": [
            "Model: \"sequential_1\"\n",
            "_________________________________________________________________\n",
            " Layer (type)                Output Shape              Param #   \n",
            "=================================================================\n",
            " embedding_1 (Embedding)     (None, 50, 50)            8843350   \n",
            "                                                                 \n",
            " dropout_1 (Dropout)         (None, 50, 50)            0         \n",
            "                                                                 \n",
            " conv1d_4 (Conv1D)           (None, 49, 64)            6464      \n",
            "                                                                 \n",
            " max_pooling1d_4 (MaxPoolin  (None, 24, 64)            0         \n",
            " g1D)                                                            \n",
            "                                                                 \n",
            " conv1d_5 (Conv1D)           (None, 23, 64)            8256      \n",
            "                                                                 \n",
            " max_pooling1d_5 (MaxPoolin  (None, 11, 64)            0         \n",
            " g1D)                                                            \n",
            "                                                                 \n",
            " conv1d_6 (Conv1D)           (None, 10, 64)            8256      \n",
            "                                                                 \n",
            " max_pooling1d_6 (MaxPoolin  (None, 5, 64)             0         \n",
            " g1D)                                                            \n",
            "                                                                 \n",
            " conv1d_7 (Conv1D)           (None, 4, 64)             8256      \n",
            "                                                                 \n",
            " max_pooling1d_7 (MaxPoolin  (None, 2, 64)             0         \n",
            " g1D)                                                            \n",
            "                                                                 \n",
            " lstm_4 (LSTM)               (None, 2, 256)            328704    \n",
            "                                                                 \n",
            " lstm_5 (LSTM)               (None, 2, 256)            525312    \n",
            "                                                                 \n",
            " lstm_6 (LSTM)               (None, 2, 256)            525312    \n",
            "                                                                 \n",
            " lstm_7 (LSTM)               (None, 256)               525312    \n",
            "                                                                 \n",
            " dense_2 (Dense)             (None, 1024)              263168    \n",
            "                                                                 \n",
            " dense_3 (Dense)             (None, 3)                 3075      \n",
            "                                                                 \n",
            " activation_1 (Activation)   (None, 3)                 0         \n",
            "                                                                 \n",
            "=================================================================\n",
            "Total params: 11045465 (42.14 MB)\n",
            "Trainable params: 11045465 (42.14 MB)\n",
            "Non-trainable params: 0 (0.00 Byte)\n",
            "_________________________________________________________________\n"
          ]
        }
      ],
      "source": [
        "modelrcnnlstm.summary()"
      ]
    },
    {
      "cell_type": "code",
      "execution_count": 38,
      "metadata": {
        "colab": {
          "base_uri": "https://localhost:8080/"
        },
        "id": "6SOF-lcbBfJ5",
        "outputId": "b839d5dc-cedb-4f82-dd51-61ca7d9ea38f"
      },
      "outputs": [
        {
          "name": "stdout",
          "output_type": "stream",
          "text": [
            "Epoch 1/5\n",
            "1101/1101 - 150s - loss: 0.3166 - accuracy: 0.8750 - 150s/epoch - 136ms/step\n",
            "Epoch 2/5\n",
            "1101/1101 - 66s - loss: 0.2586 - accuracy: 0.8953 - 66s/epoch - 60ms/step\n",
            "Epoch 3/5\n",
            "1101/1101 - 60s - loss: 0.2431 - accuracy: 0.9009 - 60s/epoch - 54ms/step\n",
            "Epoch 4/5\n",
            "1101/1101 - 59s - loss: 0.2294 - accuracy: 0.9058 - 59s/epoch - 54ms/step\n",
            "Epoch 5/5\n",
            "1101/1101 - 57s - loss: 0.2170 - accuracy: 0.9113 - 57s/epoch - 52ms/step\n"
          ]
        },
        {
          "data": {
            "text/plain": [
              "<keras.src.callbacks.History at 0x7b5e40179720>"
            ]
          },
          "execution_count": 38,
          "metadata": {},
          "output_type": "execute_result"
        }
      ],
      "source": [
        "modelrcnnlstm.fit(train_Glove,Y_train,epochs=5,batch_size=128,verbose=2)"
      ]
    },
    {
      "cell_type": "code",
      "execution_count": 39,
      "metadata": {
        "colab": {
          "base_uri": "https://localhost:8080/"
        },
        "id": "mVql469lIBcQ",
        "outputId": "bf7582c8-67be-4fc4-9d34-cfbfbe95215d"
      },
      "outputs": [
        {
          "name": "stdout",
          "output_type": "stream",
          "text": [
            "1468/1468 [==============================] - 9s 5ms/step\n"
          ]
        }
      ],
      "source": [
        "hate_prediction=modelrcnnlstm.predict(test_Glove)"
      ]
    },
    {
      "cell_type": "code",
      "execution_count": 40,
      "metadata": {
        "id": "yJ0GlbvLIKlq"
      },
      "outputs": [],
      "source": [
        "predict_class = np.argmax(hate_prediction, axis=1)"
      ]
    },
    {
      "cell_type": "code",
      "execution_count": 41,
      "metadata": {
        "colab": {
          "base_uri": "https://localhost:8080/"
        },
        "id": "wWXGQ27bIMKB",
        "outputId": "d7240af3-f859-48a7-ba55-c2db63f30b3e"
      },
      "outputs": [
        {
          "data": {
            "text/plain": [
              "array([0, 1, 1, ..., 0, 0, 1])"
            ]
          },
          "execution_count": 41,
          "metadata": {},
          "output_type": "execute_result"
        }
      ],
      "source": [
        "predict_class"
      ]
    }
  ],
  "metadata": {
    "accelerator": "GPU",
    "colab": {
      "gpuType": "T4",
      "provenance": []
    },
    "kernelspec": {
      "display_name": "Python 3",
      "name": "python3"
    },
    "language_info": {
      "codemirror_mode": {
        "name": "ipython",
        "version": 3
      },
      "file_extension": ".py",
      "mimetype": "text/x-python",
      "name": "python",
      "nbconvert_exporter": "python",
      "pygments_lexer": "ipython3",
      "version": "3.9.16"
    }
  },
  "nbformat": 4,
  "nbformat_minor": 0
}
