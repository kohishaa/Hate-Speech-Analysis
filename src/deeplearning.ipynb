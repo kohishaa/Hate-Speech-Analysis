{
 "cells": [
  {
   "cell_type": "markdown",
   "metadata": {},
   "source": [
    "## Importing libraries"
   ]
  },
  {
   "cell_type": "code",
   "execution_count": 13,
   "metadata": {},
   "outputs": [],
   "source": [
    "from keras.models import Sequential\n",
    "from keras.layers import Dense, Dropout, Activation,LSTM\n",
    "from keras.layers import Embedding\n",
    "from keras.layers import GRU\n",
    "from keras.layers import Conv1D, MaxPooling1D\n",
    "from keras.preprocessing.text import Tokenizer\n",
    "from keras.preprocessing.sequence import pad_sequences\n",
    "import pandas as pd\n",
    "from sklearn.model_selection import train_test_split\n",
    "import numpy as np"
   ]
  },
  {
   "cell_type": "code",
   "execution_count": 4,
   "metadata": {},
   "outputs": [],
   "source": [
    "finaldata=pd.read_csv('data.csv')"
   ]
  },
  {
   "cell_type": "code",
   "execution_count": 8,
   "metadata": {},
   "outputs": [
    {
     "data": {
      "text/plain": [
       "(187902, 11)"
      ]
     },
     "execution_count": 8,
     "metadata": {},
     "output_type": "execute_result"
    }
   ],
   "source": [
    "finaldata.shape"
   ]
  },
  {
   "cell_type": "code",
   "execution_count": 5,
   "metadata": {},
   "outputs": [
    {
     "data": {
      "text/plain": [
       "Index(['Unnamed: 0.1', 'Unnamed: 0', 'comment_text', 'target', 'Num_words',\n",
       "       'words', 'clean_comment', 'clean_comment_wo_stop',\n",
       "       'clean_comment_lemmatized', 'clean_comment_string',\n",
       "       'clean_comment_string1'],\n",
       "      dtype='object')"
      ]
     },
     "execution_count": 5,
     "metadata": {},
     "output_type": "execute_result"
    }
   ],
   "source": [
    "finaldata.columns"
   ]
  },
  {
   "cell_type": "code",
   "execution_count": 6,
   "metadata": {},
   "outputs": [
    {
     "data": {
      "text/html": [
       "<div>\n",
       "<style scoped>\n",
       "    .dataframe tbody tr th:only-of-type {\n",
       "        vertical-align: middle;\n",
       "    }\n",
       "\n",
       "    .dataframe tbody tr th {\n",
       "        vertical-align: top;\n",
       "    }\n",
       "\n",
       "    .dataframe thead th {\n",
       "        text-align: right;\n",
       "    }\n",
       "</style>\n",
       "<table border=\"1\" class=\"dataframe\">\n",
       "  <thead>\n",
       "    <tr style=\"text-align: right;\">\n",
       "      <th></th>\n",
       "      <th>Unnamed: 0.1</th>\n",
       "      <th>Unnamed: 0</th>\n",
       "      <th>comment_text</th>\n",
       "      <th>target</th>\n",
       "      <th>Num_words</th>\n",
       "      <th>words</th>\n",
       "      <th>clean_comment</th>\n",
       "      <th>clean_comment_wo_stop</th>\n",
       "      <th>clean_comment_lemmatized</th>\n",
       "      <th>clean_comment_string</th>\n",
       "      <th>clean_comment_string1</th>\n",
       "    </tr>\n",
       "  </thead>\n",
       "  <tbody>\n",
       "    <tr>\n",
       "      <th>110771</th>\n",
       "      <td>110771</td>\n",
       "      <td>110771</td>\n",
       "      <td>Dr Stephen I. Rosen\\n\\nEB has sent Mongo a pho...</td>\n",
       "      <td>NoHate</td>\n",
       "      <td>15</td>\n",
       "      <td>['Dr', 'Stephen', 'I.', 'Rosen', 'EB', 'has', ...</td>\n",
       "      <td>dr stephen i rosen\\n\\neb has sent mongo a phot...</td>\n",
       "      <td>dr stephen rosen eb sent mongo photo taken eb ...</td>\n",
       "      <td>dr stephen rosen eb sent mongo photo taken eb ...</td>\n",
       "      <td>dr stephen rosen eb sent mongo photo taken eb ...</td>\n",
       "      <td>dr stephen rosen eb sent mongo photo taken eb ...</td>\n",
       "    </tr>\n",
       "    <tr>\n",
       "      <th>62719</th>\n",
       "      <td>62719</td>\n",
       "      <td>62719</td>\n",
       "      <td>the validity of their message is not what Wiki...</td>\n",
       "      <td>NoHate</td>\n",
       "      <td>11</td>\n",
       "      <td>['the', 'validity', 'of', 'their', 'message', ...</td>\n",
       "      <td>the validity of their message is not what wiki...</td>\n",
       "      <td>validity message wiki</td>\n",
       "      <td>validity message wiki</td>\n",
       "      <td>validity message wiki</td>\n",
       "      <td>validity message wiki</td>\n",
       "    </tr>\n",
       "  </tbody>\n",
       "</table>\n",
       "</div>"
      ],
      "text/plain": [
       "        Unnamed: 0.1  Unnamed: 0  \\\n",
       "110771        110771      110771   \n",
       "62719          62719       62719   \n",
       "\n",
       "                                             comment_text  target  Num_words  \\\n",
       "110771  Dr Stephen I. Rosen\\n\\nEB has sent Mongo a pho...  NoHate         15   \n",
       "62719   the validity of their message is not what Wiki...  NoHate         11   \n",
       "\n",
       "                                                    words  \\\n",
       "110771  ['Dr', 'Stephen', 'I.', 'Rosen', 'EB', 'has', ...   \n",
       "62719   ['the', 'validity', 'of', 'their', 'message', ...   \n",
       "\n",
       "                                            clean_comment  \\\n",
       "110771  dr stephen i rosen\\n\\neb has sent mongo a phot...   \n",
       "62719   the validity of their message is not what wiki...   \n",
       "\n",
       "                                    clean_comment_wo_stop  \\\n",
       "110771  dr stephen rosen eb sent mongo photo taken eb ...   \n",
       "62719                               validity message wiki   \n",
       "\n",
       "                                 clean_comment_lemmatized  \\\n",
       "110771  dr stephen rosen eb sent mongo photo taken eb ...   \n",
       "62719                               validity message wiki   \n",
       "\n",
       "                                     clean_comment_string  \\\n",
       "110771  dr stephen rosen eb sent mongo photo taken eb ...   \n",
       "62719                               validity message wiki   \n",
       "\n",
       "                                    clean_comment_string1  \n",
       "110771  dr stephen rosen eb sent mongo photo taken eb ...  \n",
       "62719                               validity message wiki  "
      ]
     },
     "execution_count": 6,
     "metadata": {},
     "output_type": "execute_result"
    }
   ],
   "source": [
    "finaldata.sample(2)"
   ]
  },
  {
   "cell_type": "code",
   "execution_count": 7,
   "metadata": {},
   "outputs": [],
   "source": [
    "textdata=finaldata['clean_comment_string1']\n",
    "target=finaldata['target']"
   ]
  },
  {
   "cell_type": "code",
   "execution_count": 11,
   "metadata": {},
   "outputs": [],
   "source": [
    "X_train,X_test,Y_train,Y_test=train_test_split(textdata,target,test_size=0.25,random_state=12,stratify=target)"
   ]
  },
  {
   "cell_type": "code",
   "execution_count": 12,
   "metadata": {},
   "outputs": [
    {
     "data": {
      "text/plain": [
       "(140926,)"
      ]
     },
     "execution_count": 12,
     "metadata": {},
     "output_type": "execute_result"
    }
   ],
   "source": [
    "X_train.shape"
   ]
  },
  {
   "cell_type": "code",
   "execution_count": 14,
   "metadata": {},
   "outputs": [
    {
     "data": {
      "text/plain": [
       "target\n",
       "NoHate    118563\n",
       "Hate       22363\n",
       "Name: count, dtype: int64"
      ]
     },
     "execution_count": 14,
     "metadata": {},
     "output_type": "execute_result"
    }
   ],
   "source": [
    "Y_train.value_counts()"
   ]
  },
  {
   "cell_type": "code",
   "execution_count": null,
   "metadata": {},
   "outputs": [],
   "source": [
    "def tokenizer(X_train, X_test,maxword=75000,sequ=50):\n",
    "    np.random.seed(7)\n",
    "    text = np.concatenate((X_train, X_test), axis=0).astype('str')\n",
    "    text = np.array(text)\n",
    "    tokenizer = Tokenizer(num_words=maxword)\n",
    "    tokenizer.fit_on_texts(text)\n",
    "    sequences = tokenizer.texts_to_sequences(text)\n",
    "    word_index = tokenizer.word_index\n",
    "    text = pad_sequences(sequences, maxlen=sequ)\n",
    "    indices = np.arange(text.shape[0])\n",
    "    text = text[indices]\n",
    "    print(text.shape)\n",
    "    X_train = text[0:len(X_train), ]\n",
    "    X_test = text[len(X_train):, ]\n",
    "    embeddings_index = {}\n",
    "    f = open(\"/Users/kohishaaruganti/Documents/Final/finalCapstone/data/glove.6B\", encoding=\"utf8\")\n",
    "    for line in f:\n",
    "        values = line.split()\n",
    "        word = values[0]\n",
    "        try:\n",
    "            coefs = np.asarray(values[1:], dtype='float32')\n",
    "        except:\n",
    "            pass\n",
    "        embeddings_index[word] = coefs\n",
    "    f.close()\n",
    "    return (X_train, X_test, word_index,embeddings_index)"
   ]
  },
  {
   "cell_type": "code",
   "execution_count": null,
   "metadata": {},
   "outputs": [],
   "source": []
  }
 ],
 "metadata": {
  "kernelspec": {
   "display_name": "hatespeechvenv",
   "language": "python",
   "name": "python3"
  },
  "language_info": {
   "codemirror_mode": {
    "name": "ipython",
    "version": 3
   },
   "file_extension": ".py",
   "mimetype": "text/x-python",
   "name": "python",
   "nbconvert_exporter": "python",
   "pygments_lexer": "ipython3",
   "version": "3.9.7"
  }
 },
 "nbformat": 4,
 "nbformat_minor": 2
}
