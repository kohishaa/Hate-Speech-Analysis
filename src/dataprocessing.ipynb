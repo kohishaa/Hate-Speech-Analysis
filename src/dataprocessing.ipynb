{
 "cells": [
  {
   "cell_type": "code",
   "execution_count": 1,
   "metadata": {},
   "outputs": [],
   "source": [
    "import pandas as pd\n",
    "import nltk\n",
    "import seaborn as sns\n",
    "import matplotlib.pyplot as plt\n",
    "from nltk.tokenize import word_tokenize,sent_tokenize\n",
    "from nltk.corpus import stopwords\n",
    "from nltk.stem import PorterStemmer\n",
    "import re\n",
    "from string import punctuation\n",
    "from nltk.stem import WordNetLemmatizer\n",
    "import numpy as np \n",
    "from sklearn.feature_extraction.text import TfidfVectorizer, CountVectorizer\n",
    "import string\n",
    "from sklearn.model_selection import train_test_split\n",
    "import matplotlib.pyplot as plt\n",
    "import seaborn as sns\n",
    "from sklearn import svm\n",
    "from sklearn.svm import LinearSVC\n",
    "import sklearn.metrics as metrics\n",
    "from sklearn.metrics import accuracy_score\n",
    "from sklearn.tree import DecisionTreeClassifier\n",
    "from matplotlib.pyplot import figure\n",
    "from sklearn.ensemble import AdaBoostClassifier\n",
    "from sklearn.ensemble import VotingClassifier\n",
    "#from xgboost import XGBClassifier\n",
    "from sklearn.pipeline import Pipeline\n",
    "from sklearn.model_selection import cross_val_score\n",
    "from sklearn.model_selection import GridSearchCV\n",
    "from sklearn.naive_bayes import MultinomialNB\n",
    "from sklearn.feature_extraction.text import TfidfTransformer  \n",
    "from sklearn.svm import SVC\n",
    "import joblib\n",
    "\n",
    "from lime.lime_text import LimeTextExplainer\n",
    "import streamlit as st\n",
    "import streamlit.components.v1 as components\n"
   ]
  },
  {
   "cell_type": "code",
   "execution_count": 2,
   "metadata": {},
   "outputs": [],
   "source": [
    "data=pd.read_csv('data.csv')"
   ]
  },
  {
   "cell_type": "code",
   "execution_count": 3,
   "metadata": {},
   "outputs": [
    {
     "data": {
      "text/plain": [
       "Index(['Unnamed: 0.1', 'Unnamed: 0', 'comment_text', 'target', 'Num_words',\n",
       "       'words', 'clean_comment', 'clean_comment_wo_stop',\n",
       "       'clean_comment_lemmatized', 'clean_comment_string',\n",
       "       'clean_comment_string1'],\n",
       "      dtype='object')"
      ]
     },
     "execution_count": 3,
     "metadata": {},
     "output_type": "execute_result"
    }
   ],
   "source": [
    "data.columns"
   ]
  },
  {
   "cell_type": "code",
   "execution_count": 4,
   "metadata": {},
   "outputs": [
    {
     "data": {
      "text/plain": [
       "Unnamed: 0.1                 int64\n",
       "Unnamed: 0                   int64\n",
       "comment_text                object\n",
       "target                      object\n",
       "Num_words                    int64\n",
       "words                       object\n",
       "clean_comment               object\n",
       "clean_comment_wo_stop       object\n",
       "clean_comment_lemmatized    object\n",
       "clean_comment_string        object\n",
       "clean_comment_string1       object\n",
       "dtype: object"
      ]
     },
     "execution_count": 4,
     "metadata": {},
     "output_type": "execute_result"
    }
   ],
   "source": [
    "data.dtypes"
   ]
  },
  {
   "cell_type": "code",
   "execution_count": 5,
   "metadata": {},
   "outputs": [
    {
     "data": {
      "text/html": [
       "<div>\n",
       "<style scoped>\n",
       "    .dataframe tbody tr th:only-of-type {\n",
       "        vertical-align: middle;\n",
       "    }\n",
       "\n",
       "    .dataframe tbody tr th {\n",
       "        vertical-align: top;\n",
       "    }\n",
       "\n",
       "    .dataframe thead th {\n",
       "        text-align: right;\n",
       "    }\n",
       "</style>\n",
       "<table border=\"1\" class=\"dataframe\">\n",
       "  <thead>\n",
       "    <tr style=\"text-align: right;\">\n",
       "      <th></th>\n",
       "      <th>Unnamed: 0.1</th>\n",
       "      <th>Unnamed: 0</th>\n",
       "      <th>comment_text</th>\n",
       "      <th>target</th>\n",
       "      <th>Num_words</th>\n",
       "      <th>words</th>\n",
       "      <th>clean_comment</th>\n",
       "      <th>clean_comment_wo_stop</th>\n",
       "      <th>clean_comment_lemmatized</th>\n",
       "      <th>clean_comment_string</th>\n",
       "      <th>clean_comment_string1</th>\n",
       "    </tr>\n",
       "  </thead>\n",
       "  <tbody>\n",
       "    <tr>\n",
       "      <th>0</th>\n",
       "      <td>0</td>\n",
       "      <td>0</td>\n",
       "      <td>Explanation\\nWhy the edits made under my usern...</td>\n",
       "      <td>NoHate</td>\n",
       "      <td>43</td>\n",
       "      <td>['Explanation', 'Why', 'the', 'edits', 'made',...</td>\n",
       "      <td>explanation why the edits made under my userna...</td>\n",
       "      <td>explanation edits made username hardcore metal...</td>\n",
       "      <td>explanation edits made username hardcore metal...</td>\n",
       "      <td>explanation edits made username hardcore metal...</td>\n",
       "      <td>explanation edits made username hardcore metal...</td>\n",
       "    </tr>\n",
       "    <tr>\n",
       "      <th>1</th>\n",
       "      <td>1</td>\n",
       "      <td>1</td>\n",
       "      <td>D'aww! He matches this background colour I'm s...</td>\n",
       "      <td>NoHate</td>\n",
       "      <td>17</td>\n",
       "      <td>[\"D'aww!\", 'He', 'matches', 'this', 'backgroun...</td>\n",
       "      <td>d aww  he matches this background colour i m s...</td>\n",
       "      <td>aww matches background colour seemingly stuck ...</td>\n",
       "      <td>aww matches background colour seemingly stuck ...</td>\n",
       "      <td>aww matches background colour seemingly stuck ...</td>\n",
       "      <td>aww matches background colour seemingly stuck ...</td>\n",
       "    </tr>\n",
       "    <tr>\n",
       "      <th>2</th>\n",
       "      <td>2</td>\n",
       "      <td>2</td>\n",
       "      <td>Hey man, I'm really not trying to edit war. It...</td>\n",
       "      <td>NoHate</td>\n",
       "      <td>42</td>\n",
       "      <td>['Hey', 'man,', \"I'm\", 'really', 'not', 'tryin...</td>\n",
       "      <td>hey man  i m really not trying to edit war  it...</td>\n",
       "      <td>hey man really trying edit war guy constantly ...</td>\n",
       "      <td>hey man really trying edit war guy constantly ...</td>\n",
       "      <td>hey man really trying edit war guy constantly ...</td>\n",
       "      <td>hey man really trying edit war guy constantly ...</td>\n",
       "    </tr>\n",
       "    <tr>\n",
       "      <th>3</th>\n",
       "      <td>3</td>\n",
       "      <td>3</td>\n",
       "      <td>\"\\nMore\\nI can't make any real suggestions on ...</td>\n",
       "      <td>NoHate</td>\n",
       "      <td>113</td>\n",
       "      <td>['\"', 'More', 'I', \"can't\", 'make', 'any', 're...</td>\n",
       "      <td>more i can t make any real suggestions on im...</td>\n",
       "      <td>make real suggestions improvement wondered sec...</td>\n",
       "      <td>make real suggestions improvement wondered sec...</td>\n",
       "      <td>make real suggestions improvement wondered sec...</td>\n",
       "      <td>make real suggestions improvement wondered sec...</td>\n",
       "    </tr>\n",
       "    <tr>\n",
       "      <th>4</th>\n",
       "      <td>4</td>\n",
       "      <td>4</td>\n",
       "      <td>You, sir, are my hero. Any chance you remember...</td>\n",
       "      <td>NoHate</td>\n",
       "      <td>13</td>\n",
       "      <td>['You,', 'sir,', 'are', 'my', 'hero.', 'Any', ...</td>\n",
       "      <td>you  sir  are my hero  any chance you remember...</td>\n",
       "      <td>sir hero chance remember page</td>\n",
       "      <td>sir hero chance remember page</td>\n",
       "      <td>sir hero chance remember page</td>\n",
       "      <td>sir hero chance remember page</td>\n",
       "    </tr>\n",
       "  </tbody>\n",
       "</table>\n",
       "</div>"
      ],
      "text/plain": [
       "   Unnamed: 0.1  Unnamed: 0  \\\n",
       "0             0           0   \n",
       "1             1           1   \n",
       "2             2           2   \n",
       "3             3           3   \n",
       "4             4           4   \n",
       "\n",
       "                                        comment_text  target  Num_words  \\\n",
       "0  Explanation\\nWhy the edits made under my usern...  NoHate         43   \n",
       "1  D'aww! He matches this background colour I'm s...  NoHate         17   \n",
       "2  Hey man, I'm really not trying to edit war. It...  NoHate         42   \n",
       "3  \"\\nMore\\nI can't make any real suggestions on ...  NoHate        113   \n",
       "4  You, sir, are my hero. Any chance you remember...  NoHate         13   \n",
       "\n",
       "                                               words  \\\n",
       "0  ['Explanation', 'Why', 'the', 'edits', 'made',...   \n",
       "1  [\"D'aww!\", 'He', 'matches', 'this', 'backgroun...   \n",
       "2  ['Hey', 'man,', \"I'm\", 'really', 'not', 'tryin...   \n",
       "3  ['\"', 'More', 'I', \"can't\", 'make', 'any', 're...   \n",
       "4  ['You,', 'sir,', 'are', 'my', 'hero.', 'Any', ...   \n",
       "\n",
       "                                       clean_comment  \\\n",
       "0  explanation why the edits made under my userna...   \n",
       "1  d aww  he matches this background colour i m s...   \n",
       "2  hey man  i m really not trying to edit war  it...   \n",
       "3    more i can t make any real suggestions on im...   \n",
       "4  you  sir  are my hero  any chance you remember...   \n",
       "\n",
       "                               clean_comment_wo_stop  \\\n",
       "0  explanation edits made username hardcore metal...   \n",
       "1  aww matches background colour seemingly stuck ...   \n",
       "2  hey man really trying edit war guy constantly ...   \n",
       "3  make real suggestions improvement wondered sec...   \n",
       "4                      sir hero chance remember page   \n",
       "\n",
       "                            clean_comment_lemmatized  \\\n",
       "0  explanation edits made username hardcore metal...   \n",
       "1  aww matches background colour seemingly stuck ...   \n",
       "2  hey man really trying edit war guy constantly ...   \n",
       "3  make real suggestions improvement wondered sec...   \n",
       "4                      sir hero chance remember page   \n",
       "\n",
       "                                clean_comment_string  \\\n",
       "0  explanation edits made username hardcore metal...   \n",
       "1  aww matches background colour seemingly stuck ...   \n",
       "2  hey man really trying edit war guy constantly ...   \n",
       "3  make real suggestions improvement wondered sec...   \n",
       "4                      sir hero chance remember page   \n",
       "\n",
       "                               clean_comment_string1  \n",
       "0  explanation edits made username hardcore metal...  \n",
       "1  aww matches background colour seemingly stuck ...  \n",
       "2  hey man really trying edit war guy constantly ...  \n",
       "3  make real suggestions improvement wondered sec...  \n",
       "4                      sir hero chance remember page  "
      ]
     },
     "execution_count": 5,
     "metadata": {},
     "output_type": "execute_result"
    }
   ],
   "source": [
    "data.head()  "
   ]
  },
  {
   "cell_type": "code",
   "execution_count": 6,
   "metadata": {},
   "outputs": [
    {
     "data": {
      "text/plain": [
       "NoHate    158084\n",
       "Hate       29818\n",
       "Name: target, dtype: int64"
      ]
     },
     "execution_count": 6,
     "metadata": {},
     "output_type": "execute_result"
    }
   ],
   "source": [
    "data['target'].value_counts()"
   ]
  },
  {
   "cell_type": "code",
   "execution_count": 7,
   "metadata": {},
   "outputs": [
    {
     "data": {
      "text/html": [
       "<div>\n",
       "<style scoped>\n",
       "    .dataframe tbody tr th:only-of-type {\n",
       "        vertical-align: middle;\n",
       "    }\n",
       "\n",
       "    .dataframe tbody tr th {\n",
       "        vertical-align: top;\n",
       "    }\n",
       "\n",
       "    .dataframe thead th {\n",
       "        text-align: right;\n",
       "    }\n",
       "</style>\n",
       "<table border=\"1\" class=\"dataframe\">\n",
       "  <thead>\n",
       "    <tr style=\"text-align: right;\">\n",
       "      <th></th>\n",
       "      <th>Unnamed: 0.1</th>\n",
       "      <th>Unnamed: 0</th>\n",
       "      <th>comment_text</th>\n",
       "      <th>target</th>\n",
       "      <th>Num_words</th>\n",
       "      <th>words</th>\n",
       "      <th>clean_comment</th>\n",
       "      <th>clean_comment_wo_stop</th>\n",
       "      <th>clean_comment_lemmatized</th>\n",
       "      <th>clean_comment_string</th>\n",
       "      <th>clean_comment_string1</th>\n",
       "    </tr>\n",
       "  </thead>\n",
       "  <tbody>\n",
       "    <tr>\n",
       "      <th>0</th>\n",
       "      <td>0</td>\n",
       "      <td>0</td>\n",
       "      <td>Explanation\\nWhy the edits made under my usern...</td>\n",
       "      <td>NoHate</td>\n",
       "      <td>43</td>\n",
       "      <td>[Explanation, Why, the, edits, made, under, my...</td>\n",
       "      <td>explanation why the edits made under my userna...</td>\n",
       "      <td>explanation edits made username hardcore metal...</td>\n",
       "      <td>explanation edits made username hardcore metal...</td>\n",
       "      <td>explanation edits made username hardcore metal...</td>\n",
       "      <td>explanation edits made username hardcore metal...</td>\n",
       "    </tr>\n",
       "    <tr>\n",
       "      <th>1</th>\n",
       "      <td>1</td>\n",
       "      <td>1</td>\n",
       "      <td>D'aww! He matches this background colour I'm s...</td>\n",
       "      <td>NoHate</td>\n",
       "      <td>17</td>\n",
       "      <td>[D'aww!, He, matches, this, background, colour...</td>\n",
       "      <td>d aww  he matches this background colour i m s...</td>\n",
       "      <td>aww matches background colour seemingly stuck ...</td>\n",
       "      <td>aww matches background colour seemingly stuck ...</td>\n",
       "      <td>aww matches background colour seemingly stuck ...</td>\n",
       "      <td>aww matches background colour seemingly stuck ...</td>\n",
       "    </tr>\n",
       "    <tr>\n",
       "      <th>2</th>\n",
       "      <td>2</td>\n",
       "      <td>2</td>\n",
       "      <td>Hey man, I'm really not trying to edit war. It...</td>\n",
       "      <td>NoHate</td>\n",
       "      <td>42</td>\n",
       "      <td>[Hey, man,, I'm, really, not, trying, to, edit...</td>\n",
       "      <td>hey man  i m really not trying to edit war  it...</td>\n",
       "      <td>hey man really trying edit war guy constantly ...</td>\n",
       "      <td>hey man really trying edit war guy constantly ...</td>\n",
       "      <td>hey man really trying edit war guy constantly ...</td>\n",
       "      <td>hey man really trying edit war guy constantly ...</td>\n",
       "    </tr>\n",
       "    <tr>\n",
       "      <th>3</th>\n",
       "      <td>3</td>\n",
       "      <td>3</td>\n",
       "      <td>\"\\nMore\\nI can't make any real suggestions on ...</td>\n",
       "      <td>NoHate</td>\n",
       "      <td>113</td>\n",
       "      <td>[\", More, I, can't, make, any, real, suggestio...</td>\n",
       "      <td>more i can t make any real suggestions on im...</td>\n",
       "      <td>make real suggestions improvement wondered sec...</td>\n",
       "      <td>make real suggestions improvement wondered sec...</td>\n",
       "      <td>make real suggestions improvement wondered sec...</td>\n",
       "      <td>make real suggestions improvement wondered sec...</td>\n",
       "    </tr>\n",
       "    <tr>\n",
       "      <th>4</th>\n",
       "      <td>4</td>\n",
       "      <td>4</td>\n",
       "      <td>You, sir, are my hero. Any chance you remember...</td>\n",
       "      <td>NoHate</td>\n",
       "      <td>13</td>\n",
       "      <td>[You,, sir,, are, my, hero., Any, chance, you,...</td>\n",
       "      <td>you  sir  are my hero  any chance you remember...</td>\n",
       "      <td>sir hero chance remember page</td>\n",
       "      <td>sir hero chance remember page</td>\n",
       "      <td>sir hero chance remember page</td>\n",
       "      <td>sir hero chance remember page</td>\n",
       "    </tr>\n",
       "  </tbody>\n",
       "</table>\n",
       "</div>"
      ],
      "text/plain": [
       "   Unnamed: 0.1  Unnamed: 0  \\\n",
       "0             0           0   \n",
       "1             1           1   \n",
       "2             2           2   \n",
       "3             3           3   \n",
       "4             4           4   \n",
       "\n",
       "                                        comment_text  target  Num_words  \\\n",
       "0  Explanation\\nWhy the edits made under my usern...  NoHate         43   \n",
       "1  D'aww! He matches this background colour I'm s...  NoHate         17   \n",
       "2  Hey man, I'm really not trying to edit war. It...  NoHate         42   \n",
       "3  \"\\nMore\\nI can't make any real suggestions on ...  NoHate        113   \n",
       "4  You, sir, are my hero. Any chance you remember...  NoHate         13   \n",
       "\n",
       "                                               words  \\\n",
       "0  [Explanation, Why, the, edits, made, under, my...   \n",
       "1  [D'aww!, He, matches, this, background, colour...   \n",
       "2  [Hey, man,, I'm, really, not, trying, to, edit...   \n",
       "3  [\", More, I, can't, make, any, real, suggestio...   \n",
       "4  [You,, sir,, are, my, hero., Any, chance, you,...   \n",
       "\n",
       "                                       clean_comment  \\\n",
       "0  explanation why the edits made under my userna...   \n",
       "1  d aww  he matches this background colour i m s...   \n",
       "2  hey man  i m really not trying to edit war  it...   \n",
       "3    more i can t make any real suggestions on im...   \n",
       "4  you  sir  are my hero  any chance you remember...   \n",
       "\n",
       "                               clean_comment_wo_stop  \\\n",
       "0  explanation edits made username hardcore metal...   \n",
       "1  aww matches background colour seemingly stuck ...   \n",
       "2  hey man really trying edit war guy constantly ...   \n",
       "3  make real suggestions improvement wondered sec...   \n",
       "4                      sir hero chance remember page   \n",
       "\n",
       "                            clean_comment_lemmatized  \\\n",
       "0  explanation edits made username hardcore metal...   \n",
       "1  aww matches background colour seemingly stuck ...   \n",
       "2  hey man really trying edit war guy constantly ...   \n",
       "3  make real suggestions improvement wondered sec...   \n",
       "4                      sir hero chance remember page   \n",
       "\n",
       "                                clean_comment_string  \\\n",
       "0  explanation edits made username hardcore metal...   \n",
       "1  aww matches background colour seemingly stuck ...   \n",
       "2  hey man really trying edit war guy constantly ...   \n",
       "3  make real suggestions improvement wondered sec...   \n",
       "4                      sir hero chance remember page   \n",
       "\n",
       "                               clean_comment_string1  \n",
       "0  explanation edits made username hardcore metal...  \n",
       "1  aww matches background colour seemingly stuck ...  \n",
       "2  hey man really trying edit war guy constantly ...  \n",
       "3  make real suggestions improvement wondered sec...  \n",
       "4                      sir hero chance remember page  "
      ]
     },
     "execution_count": 7,
     "metadata": {},
     "output_type": "execute_result"
    }
   ],
   "source": [
    "#data_eda=pd.DataFrame()\n",
    "data['Num_words'] = data['comment_text'].apply(lambda x:len(str(x).split()))\n",
    "data['words'] = data['comment_text'].apply(lambda x:str(x).split())\n",
    "data.head()"
   ]
  },
  {
   "cell_type": "code",
   "execution_count": 8,
   "metadata": {},
   "outputs": [
    {
     "name": "stderr",
     "output_type": "stream",
     "text": [
<<<<<<< HEAD
      "/var/folders/6_/c_yztxs130s4ql02g_p5b3900000gn/T/ipykernel_6343/1566971603.py:3: UserWarning: \n",
=======
      "/var/folders/6_/c_yztxs130s4ql02g_p5b3900000gn/T/ipykernel_4492/1566971603.py:3: UserWarning: \n",
>>>>>>> 5162d6ab0bf96e57e18222aeaa7034505dab3020
      "\n",
      "`distplot` is a deprecated function and will be removed in seaborn v0.14.0.\n",
      "\n",
      "Please adapt your code to use either `displot` (a figure-level function with\n",
      "similar flexibility) or `histplot` (an axes-level function for histograms).\n",
      "\n",
      "For a guide to updating your code to use the new functions, please see\n",
      "https://gist.github.com/mwaskom/de44147ed2974457ad6372750bbe5751\n",
      "\n",
      "  ax = sns.distplot(data['Num_words'])\n"
     ]
    },
    {
     "data": {
      "image/png": "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",
      "text/plain": [
       "<Figure size 800x400 with 1 Axes>"
      ]
     },
     "metadata": {},
     "output_type": "display_data"
    }
   ],
   "source": [
    "sns.set(rc={\"figure.figsize\": (8, 4)}); np.random.seed(0)\n",
    "x = np.random.randn(100)\n",
    "ax = sns.distplot(data['Num_words'])\n",
    "plt.show()"
   ]
  },
  {
   "cell_type": "code",
   "execution_count": 9,
   "metadata": {},
   "outputs": [
    {
     "name": "stderr",
     "output_type": "stream",
     "text": [
<<<<<<< HEAD
      "/var/folders/6_/c_yztxs130s4ql02g_p5b3900000gn/T/ipykernel_6343/2524509095.py:1: FutureWarning: The default value of regex will change from True to False in a future version.\n",
=======
      "/var/folders/6_/c_yztxs130s4ql02g_p5b3900000gn/T/ipykernel_4492/2524509095.py:1: FutureWarning: The default value of regex will change from True to False in a future version.\n",
>>>>>>> 5162d6ab0bf96e57e18222aeaa7034505dab3020
      "  data['clean_comment'] = data['comment_text'].str.replace(\"[^a-zA-Z#]\", \" \")\n"
     ]
    }
   ],
   "source": [
    "data['clean_comment'] = data['comment_text'].str.replace(\"[^a-zA-Z#]\", \" \")"
   ]
  },
  {
   "cell_type": "code",
   "execution_count": 10,
   "metadata": {},
   "outputs": [
    {
     "data": {
      "text/html": [
       "<div>\n",
       "<style scoped>\n",
       "    .dataframe tbody tr th:only-of-type {\n",
       "        vertical-align: middle;\n",
       "    }\n",
       "\n",
       "    .dataframe tbody tr th {\n",
       "        vertical-align: top;\n",
       "    }\n",
       "\n",
       "    .dataframe thead th {\n",
       "        text-align: right;\n",
       "    }\n",
       "</style>\n",
       "<table border=\"1\" class=\"dataframe\">\n",
       "  <thead>\n",
       "    <tr style=\"text-align: right;\">\n",
       "      <th></th>\n",
       "      <th>Unnamed: 0.1</th>\n",
       "      <th>Unnamed: 0</th>\n",
       "      <th>comment_text</th>\n",
       "      <th>target</th>\n",
       "      <th>Num_words</th>\n",
       "      <th>words</th>\n",
       "      <th>clean_comment</th>\n",
       "      <th>clean_comment_wo_stop</th>\n",
       "      <th>clean_comment_lemmatized</th>\n",
       "      <th>clean_comment_string</th>\n",
       "      <th>clean_comment_string1</th>\n",
       "    </tr>\n",
       "  </thead>\n",
       "  <tbody>\n",
       "    <tr>\n",
       "      <th>0</th>\n",
       "      <td>0</td>\n",
       "      <td>0</td>\n",
       "      <td>Explanation\\nWhy the edits made under my usern...</td>\n",
       "      <td>NoHate</td>\n",
       "      <td>43</td>\n",
       "      <td>[Explanation, Why, the, edits, made, under, my...</td>\n",
       "      <td>Explanation Why the edits made under my userna...</td>\n",
       "      <td>explanation edits made username hardcore metal...</td>\n",
       "      <td>explanation edits made username hardcore metal...</td>\n",
       "      <td>explanation edits made username hardcore metal...</td>\n",
       "      <td>explanation edits made username hardcore metal...</td>\n",
       "    </tr>\n",
       "    <tr>\n",
       "      <th>1</th>\n",
       "      <td>1</td>\n",
       "      <td>1</td>\n",
       "      <td>D'aww! He matches this background colour I'm s...</td>\n",
       "      <td>NoHate</td>\n",
       "      <td>17</td>\n",
       "      <td>[D'aww!, He, matches, this, background, colour...</td>\n",
       "      <td>D aww  He matches this background colour I m s...</td>\n",
       "      <td>aww matches background colour seemingly stuck ...</td>\n",
       "      <td>aww matches background colour seemingly stuck ...</td>\n",
       "      <td>aww matches background colour seemingly stuck ...</td>\n",
       "      <td>aww matches background colour seemingly stuck ...</td>\n",
       "    </tr>\n",
       "    <tr>\n",
       "      <th>2</th>\n",
       "      <td>2</td>\n",
       "      <td>2</td>\n",
       "      <td>Hey man, I'm really not trying to edit war. It...</td>\n",
       "      <td>NoHate</td>\n",
       "      <td>42</td>\n",
       "      <td>[Hey, man,, I'm, really, not, trying, to, edit...</td>\n",
       "      <td>Hey man  I m really not trying to edit war  It...</td>\n",
       "      <td>hey man really trying edit war guy constantly ...</td>\n",
       "      <td>hey man really trying edit war guy constantly ...</td>\n",
       "      <td>hey man really trying edit war guy constantly ...</td>\n",
       "      <td>hey man really trying edit war guy constantly ...</td>\n",
       "    </tr>\n",
       "    <tr>\n",
       "      <th>3</th>\n",
       "      <td>3</td>\n",
       "      <td>3</td>\n",
       "      <td>\"\\nMore\\nI can't make any real suggestions on ...</td>\n",
       "      <td>NoHate</td>\n",
       "      <td>113</td>\n",
       "      <td>[\", More, I, can't, make, any, real, suggestio...</td>\n",
       "      <td>More I can t make any real suggestions on im...</td>\n",
       "      <td>make real suggestions improvement wondered sec...</td>\n",
       "      <td>make real suggestions improvement wondered sec...</td>\n",
       "      <td>make real suggestions improvement wondered sec...</td>\n",
       "      <td>make real suggestions improvement wondered sec...</td>\n",
       "    </tr>\n",
       "    <tr>\n",
       "      <th>4</th>\n",
       "      <td>4</td>\n",
       "      <td>4</td>\n",
       "      <td>You, sir, are my hero. Any chance you remember...</td>\n",
       "      <td>NoHate</td>\n",
       "      <td>13</td>\n",
       "      <td>[You,, sir,, are, my, hero., Any, chance, you,...</td>\n",
       "      <td>You  sir  are my hero  Any chance you remember...</td>\n",
       "      <td>sir hero chance remember page</td>\n",
       "      <td>sir hero chance remember page</td>\n",
       "      <td>sir hero chance remember page</td>\n",
       "      <td>sir hero chance remember page</td>\n",
       "    </tr>\n",
       "  </tbody>\n",
       "</table>\n",
       "</div>"
      ],
      "text/plain": [
       "   Unnamed: 0.1  Unnamed: 0  \\\n",
       "0             0           0   \n",
       "1             1           1   \n",
       "2             2           2   \n",
       "3             3           3   \n",
       "4             4           4   \n",
       "\n",
       "                                        comment_text  target  Num_words  \\\n",
       "0  Explanation\\nWhy the edits made under my usern...  NoHate         43   \n",
       "1  D'aww! He matches this background colour I'm s...  NoHate         17   \n",
       "2  Hey man, I'm really not trying to edit war. It...  NoHate         42   \n",
       "3  \"\\nMore\\nI can't make any real suggestions on ...  NoHate        113   \n",
       "4  You, sir, are my hero. Any chance you remember...  NoHate         13   \n",
       "\n",
       "                                               words  \\\n",
       "0  [Explanation, Why, the, edits, made, under, my...   \n",
       "1  [D'aww!, He, matches, this, background, colour...   \n",
       "2  [Hey, man,, I'm, really, not, trying, to, edit...   \n",
       "3  [\", More, I, can't, make, any, real, suggestio...   \n",
       "4  [You,, sir,, are, my, hero., Any, chance, you,...   \n",
       "\n",
       "                                       clean_comment  \\\n",
       "0  Explanation Why the edits made under my userna...   \n",
       "1  D aww  He matches this background colour I m s...   \n",
       "2  Hey man  I m really not trying to edit war  It...   \n",
       "3    More I can t make any real suggestions on im...   \n",
       "4  You  sir  are my hero  Any chance you remember...   \n",
       "\n",
       "                               clean_comment_wo_stop  \\\n",
       "0  explanation edits made username hardcore metal...   \n",
       "1  aww matches background colour seemingly stuck ...   \n",
       "2  hey man really trying edit war guy constantly ...   \n",
       "3  make real suggestions improvement wondered sec...   \n",
       "4                      sir hero chance remember page   \n",
       "\n",
       "                            clean_comment_lemmatized  \\\n",
       "0  explanation edits made username hardcore metal...   \n",
       "1  aww matches background colour seemingly stuck ...   \n",
       "2  hey man really trying edit war guy constantly ...   \n",
       "3  make real suggestions improvement wondered sec...   \n",
       "4                      sir hero chance remember page   \n",
       "\n",
       "                                clean_comment_string  \\\n",
       "0  explanation edits made username hardcore metal...   \n",
       "1  aww matches background colour seemingly stuck ...   \n",
       "2  hey man really trying edit war guy constantly ...   \n",
       "3  make real suggestions improvement wondered sec...   \n",
       "4                      sir hero chance remember page   \n",
       "\n",
       "                               clean_comment_string1  \n",
       "0  explanation edits made username hardcore metal...  \n",
       "1  aww matches background colour seemingly stuck ...  \n",
       "2  hey man really trying edit war guy constantly ...  \n",
       "3  make real suggestions improvement wondered sec...  \n",
       "4                      sir hero chance remember page  "
      ]
     },
     "execution_count": 10,
     "metadata": {},
     "output_type": "execute_result"
    }
   ],
   "source": [
    "data.head()"
   ]
  },
  {
   "cell_type": "code",
   "execution_count": 11,
   "metadata": {},
   "outputs": [],
   "source": [
    "data['clean_comment']=data['clean_comment'].str.lower()"
   ]
  },
  {
   "cell_type": "code",
   "execution_count": 12,
   "metadata": {},
   "outputs": [
    {
     "name": "stderr",
     "output_type": "stream",
     "text": [
      "[nltk_data] Downloading package stopwords to\n",
      "[nltk_data]     /Users/kohishaaruganti/nltk_data...\n",
      "[nltk_data]   Package stopwords is already up-to-date!\n"
     ]
    },
    {
     "data": {
      "text/plain": [
       "True"
      ]
     },
     "execution_count": 12,
     "metadata": {},
     "output_type": "execute_result"
    }
   ],
   "source": [
    "nltk.download('stopwords')"
   ]
  },
  {
   "cell_type": "code",
   "execution_count": 13,
   "metadata": {},
   "outputs": [],
   "source": [
    "import string"
   ]
  },
  {
   "cell_type": "code",
   "execution_count": 14,
   "metadata": {},
   "outputs": [
    {
     "data": {
      "text/html": [
       "<div>\n",
       "<style scoped>\n",
       "    .dataframe tbody tr th:only-of-type {\n",
       "        vertical-align: middle;\n",
       "    }\n",
       "\n",
       "    .dataframe tbody tr th {\n",
       "        vertical-align: top;\n",
       "    }\n",
       "\n",
       "    .dataframe thead th {\n",
       "        text-align: right;\n",
       "    }\n",
       "</style>\n",
       "<table border=\"1\" class=\"dataframe\">\n",
       "  <thead>\n",
       "    <tr style=\"text-align: right;\">\n",
       "      <th></th>\n",
       "      <th>Unnamed: 0.1</th>\n",
       "      <th>Unnamed: 0</th>\n",
       "      <th>comment_text</th>\n",
       "      <th>target</th>\n",
       "      <th>Num_words</th>\n",
       "      <th>words</th>\n",
       "      <th>clean_comment</th>\n",
       "      <th>clean_comment_wo_stop</th>\n",
       "      <th>clean_comment_lemmatized</th>\n",
       "      <th>clean_comment_string</th>\n",
       "      <th>clean_comment_string1</th>\n",
       "    </tr>\n",
       "  </thead>\n",
       "  <tbody>\n",
       "    <tr>\n",
       "      <th>0</th>\n",
       "      <td>0</td>\n",
       "      <td>0</td>\n",
       "      <td>Explanation\\nWhy the edits made under my usern...</td>\n",
       "      <td>NoHate</td>\n",
       "      <td>43</td>\n",
       "      <td>[Explanation, Why, the, edits, made, under, my...</td>\n",
       "      <td>explanation why the edits made under my userna...</td>\n",
       "      <td>explanation edits made username hardcore metal...</td>\n",
       "      <td>explanation edits made username hardcore metal...</td>\n",
       "      <td>explanation edits made username hardcore metal...</td>\n",
       "      <td>explanation edits made username hardcore metal...</td>\n",
       "    </tr>\n",
       "    <tr>\n",
       "      <th>1</th>\n",
       "      <td>1</td>\n",
       "      <td>1</td>\n",
       "      <td>D'aww! He matches this background colour I'm s...</td>\n",
       "      <td>NoHate</td>\n",
       "      <td>17</td>\n",
       "      <td>[D'aww!, He, matches, this, background, colour...</td>\n",
       "      <td>d aww  he matches this background colour i m s...</td>\n",
       "      <td>aww matches background colour seemingly stuck ...</td>\n",
       "      <td>aww matches background colour seemingly stuck ...</td>\n",
       "      <td>aww matches background colour seemingly stuck ...</td>\n",
       "      <td>aww matches background colour seemingly stuck ...</td>\n",
       "    </tr>\n",
       "    <tr>\n",
       "      <th>2</th>\n",
       "      <td>2</td>\n",
       "      <td>2</td>\n",
       "      <td>Hey man, I'm really not trying to edit war. It...</td>\n",
       "      <td>NoHate</td>\n",
       "      <td>42</td>\n",
       "      <td>[Hey, man,, I'm, really, not, trying, to, edit...</td>\n",
       "      <td>hey man  i m really not trying to edit war  it...</td>\n",
       "      <td>hey man really trying edit war guy constantly ...</td>\n",
       "      <td>hey man really trying edit war guy constantly ...</td>\n",
       "      <td>hey man really trying edit war guy constantly ...</td>\n",
       "      <td>hey man really trying edit war guy constantly ...</td>\n",
       "    </tr>\n",
       "    <tr>\n",
       "      <th>3</th>\n",
       "      <td>3</td>\n",
       "      <td>3</td>\n",
       "      <td>\"\\nMore\\nI can't make any real suggestions on ...</td>\n",
       "      <td>NoHate</td>\n",
       "      <td>113</td>\n",
       "      <td>[\", More, I, can't, make, any, real, suggestio...</td>\n",
       "      <td>more i can t make any real suggestions on im...</td>\n",
       "      <td>make real suggestions improvement wondered sec...</td>\n",
       "      <td>make real suggestions improvement wondered sec...</td>\n",
       "      <td>make real suggestions improvement wondered sec...</td>\n",
       "      <td>make real suggestions improvement wondered sec...</td>\n",
       "    </tr>\n",
       "    <tr>\n",
       "      <th>4</th>\n",
       "      <td>4</td>\n",
       "      <td>4</td>\n",
       "      <td>You, sir, are my hero. Any chance you remember...</td>\n",
       "      <td>NoHate</td>\n",
       "      <td>13</td>\n",
       "      <td>[You,, sir,, are, my, hero., Any, chance, you,...</td>\n",
       "      <td>you  sir  are my hero  any chance you remember...</td>\n",
       "      <td>sir hero chance remember page</td>\n",
       "      <td>sir hero chance remember page</td>\n",
       "      <td>sir hero chance remember page</td>\n",
       "      <td>sir hero chance remember page</td>\n",
       "    </tr>\n",
       "  </tbody>\n",
       "</table>\n",
       "</div>"
      ],
      "text/plain": [
       "   Unnamed: 0.1  Unnamed: 0  \\\n",
       "0             0           0   \n",
       "1             1           1   \n",
       "2             2           2   \n",
       "3             3           3   \n",
       "4             4           4   \n",
       "\n",
       "                                        comment_text  target  Num_words  \\\n",
       "0  Explanation\\nWhy the edits made under my usern...  NoHate         43   \n",
       "1  D'aww! He matches this background colour I'm s...  NoHate         17   \n",
       "2  Hey man, I'm really not trying to edit war. It...  NoHate         42   \n",
       "3  \"\\nMore\\nI can't make any real suggestions on ...  NoHate        113   \n",
       "4  You, sir, are my hero. Any chance you remember...  NoHate         13   \n",
       "\n",
       "                                               words  \\\n",
       "0  [Explanation, Why, the, edits, made, under, my...   \n",
       "1  [D'aww!, He, matches, this, background, colour...   \n",
       "2  [Hey, man,, I'm, really, not, trying, to, edit...   \n",
       "3  [\", More, I, can't, make, any, real, suggestio...   \n",
       "4  [You,, sir,, are, my, hero., Any, chance, you,...   \n",
       "\n",
       "                                       clean_comment  \\\n",
       "0  explanation why the edits made under my userna...   \n",
       "1  d aww  he matches this background colour i m s...   \n",
       "2  hey man  i m really not trying to edit war  it...   \n",
       "3    more i can t make any real suggestions on im...   \n",
       "4  you  sir  are my hero  any chance you remember...   \n",
       "\n",
       "                               clean_comment_wo_stop  \\\n",
       "0  explanation edits made username hardcore metal...   \n",
       "1  aww matches background colour seemingly stuck ...   \n",
       "2  hey man really trying edit war guy constantly ...   \n",
       "3  make real suggestions improvement wondered sec...   \n",
       "4                      sir hero chance remember page   \n",
       "\n",
       "                            clean_comment_lemmatized  \\\n",
       "0  explanation edits made username hardcore metal...   \n",
       "1  aww matches background colour seemingly stuck ...   \n",
       "2  hey man really trying edit war guy constantly ...   \n",
       "3  make real suggestions improvement wondered sec...   \n",
       "4                      sir hero chance remember page   \n",
       "\n",
       "                                clean_comment_string  \\\n",
       "0  explanation edits made username hardcore metal...   \n",
       "1  aww matches background colour seemingly stuck ...   \n",
       "2  hey man really trying edit war guy constantly ...   \n",
       "3  make real suggestions improvement wondered sec...   \n",
       "4                      sir hero chance remember page   \n",
       "\n",
       "                               clean_comment_string1  \n",
       "0  explanation edits made username hardcore metal...  \n",
       "1  aww matches background colour seemingly stuck ...  \n",
       "2  hey man really trying edit war guy constantly ...  \n",
       "3  make real suggestions improvement wondered sec...  \n",
       "4                      sir hero chance remember page  "
      ]
     },
     "execution_count": 14,
     "metadata": {},
     "output_type": "execute_result"
    }
   ],
   "source": [
    "punct_remm = string.punctuation\n",
    "def remove_punctuation(text):\n",
    "    return text.translate(str.maketrans('', '', punct_remm))\n",
    "data[\"clean_comment\"] = data[\"clean_comment\"].apply(lambda text: remove_punctuation(text))\n",
    "data.head()"
   ]
  },
  {
   "cell_type": "code",
   "execution_count": 15,
   "metadata": {},
   "outputs": [
    {
     "data": {
      "text/html": [
       "<div>\n",
       "<style scoped>\n",
       "    .dataframe tbody tr th:only-of-type {\n",
       "        vertical-align: middle;\n",
       "    }\n",
       "\n",
       "    .dataframe tbody tr th {\n",
       "        vertical-align: top;\n",
       "    }\n",
       "\n",
       "    .dataframe thead th {\n",
       "        text-align: right;\n",
       "    }\n",
       "</style>\n",
       "<table border=\"1\" class=\"dataframe\">\n",
       "  <thead>\n",
       "    <tr style=\"text-align: right;\">\n",
       "      <th></th>\n",
       "      <th>Unnamed: 0.1</th>\n",
       "      <th>Unnamed: 0</th>\n",
       "      <th>comment_text</th>\n",
       "      <th>target</th>\n",
       "      <th>Num_words</th>\n",
       "      <th>words</th>\n",
       "      <th>clean_comment</th>\n",
       "      <th>clean_comment_wo_stop</th>\n",
       "      <th>clean_comment_lemmatized</th>\n",
       "      <th>clean_comment_string</th>\n",
       "      <th>clean_comment_string1</th>\n",
       "    </tr>\n",
       "  </thead>\n",
       "  <tbody>\n",
       "    <tr>\n",
       "      <th>0</th>\n",
       "      <td>0</td>\n",
       "      <td>0</td>\n",
       "      <td>Explanation\\nWhy the edits made under my usern...</td>\n",
       "      <td>NoHate</td>\n",
       "      <td>43</td>\n",
       "      <td>[Explanation, Why, the, edits, made, under, my...</td>\n",
       "      <td>explanation why the edits made under my userna...</td>\n",
       "      <td>explanation edits made username hardcore metal...</td>\n",
       "      <td>explanation edits made username hardcore metal...</td>\n",
       "      <td>explanation edits made username hardcore metal...</td>\n",
       "      <td>explanation edits made username hardcore metal...</td>\n",
       "    </tr>\n",
       "    <tr>\n",
       "      <th>1</th>\n",
       "      <td>1</td>\n",
       "      <td>1</td>\n",
       "      <td>D'aww! He matches this background colour I'm s...</td>\n",
       "      <td>NoHate</td>\n",
       "      <td>17</td>\n",
       "      <td>[D'aww!, He, matches, this, background, colour...</td>\n",
       "      <td>d aww  he matches this background colour i m s...</td>\n",
       "      <td>aww matches background colour seemingly stuck ...</td>\n",
       "      <td>aww matches background colour seemingly stuck ...</td>\n",
       "      <td>aww matches background colour seemingly stuck ...</td>\n",
       "      <td>aww matches background colour seemingly stuck ...</td>\n",
       "    </tr>\n",
       "    <tr>\n",
       "      <th>2</th>\n",
       "      <td>2</td>\n",
       "      <td>2</td>\n",
       "      <td>Hey man, I'm really not trying to edit war. It...</td>\n",
       "      <td>NoHate</td>\n",
       "      <td>42</td>\n",
       "      <td>[Hey, man,, I'm, really, not, trying, to, edit...</td>\n",
       "      <td>hey man  i m really not trying to edit war  it...</td>\n",
       "      <td>hey man really trying edit war guy constantly ...</td>\n",
       "      <td>hey man really trying edit war guy constantly ...</td>\n",
       "      <td>hey man really trying edit war guy constantly ...</td>\n",
       "      <td>hey man really trying edit war guy constantly ...</td>\n",
       "    </tr>\n",
       "    <tr>\n",
       "      <th>3</th>\n",
       "      <td>3</td>\n",
       "      <td>3</td>\n",
       "      <td>\"\\nMore\\nI can't make any real suggestions on ...</td>\n",
       "      <td>NoHate</td>\n",
       "      <td>113</td>\n",
       "      <td>[\", More, I, can't, make, any, real, suggestio...</td>\n",
       "      <td>more i can t make any real suggestions on im...</td>\n",
       "      <td>make real suggestions improvement wondered sec...</td>\n",
       "      <td>make real suggestions improvement wondered sec...</td>\n",
       "      <td>make real suggestions improvement wondered sec...</td>\n",
       "      <td>make real suggestions improvement wondered sec...</td>\n",
       "    </tr>\n",
       "    <tr>\n",
       "      <th>4</th>\n",
       "      <td>4</td>\n",
       "      <td>4</td>\n",
       "      <td>You, sir, are my hero. Any chance you remember...</td>\n",
       "      <td>NoHate</td>\n",
       "      <td>13</td>\n",
       "      <td>[You,, sir,, are, my, hero., Any, chance, you,...</td>\n",
       "      <td>you  sir  are my hero  any chance you remember...</td>\n",
       "      <td>sir hero chance remember page</td>\n",
       "      <td>sir hero chance remember page</td>\n",
       "      <td>sir hero chance remember page</td>\n",
       "      <td>sir hero chance remember page</td>\n",
       "    </tr>\n",
       "  </tbody>\n",
       "</table>\n",
       "</div>"
      ],
      "text/plain": [
       "   Unnamed: 0.1  Unnamed: 0  \\\n",
       "0             0           0   \n",
       "1             1           1   \n",
       "2             2           2   \n",
       "3             3           3   \n",
       "4             4           4   \n",
       "\n",
       "                                        comment_text  target  Num_words  \\\n",
       "0  Explanation\\nWhy the edits made under my usern...  NoHate         43   \n",
       "1  D'aww! He matches this background colour I'm s...  NoHate         17   \n",
       "2  Hey man, I'm really not trying to edit war. It...  NoHate         42   \n",
       "3  \"\\nMore\\nI can't make any real suggestions on ...  NoHate        113   \n",
       "4  You, sir, are my hero. Any chance you remember...  NoHate         13   \n",
       "\n",
       "                                               words  \\\n",
       "0  [Explanation, Why, the, edits, made, under, my...   \n",
       "1  [D'aww!, He, matches, this, background, colour...   \n",
       "2  [Hey, man,, I'm, really, not, trying, to, edit...   \n",
       "3  [\", More, I, can't, make, any, real, suggestio...   \n",
       "4  [You,, sir,, are, my, hero., Any, chance, you,...   \n",
       "\n",
       "                                       clean_comment  \\\n",
       "0  explanation why the edits made under my userna...   \n",
       "1  d aww  he matches this background colour i m s...   \n",
       "2  hey man  i m really not trying to edit war  it...   \n",
       "3    more i can t make any real suggestions on im...   \n",
       "4  you  sir  are my hero  any chance you remember...   \n",
       "\n",
       "                               clean_comment_wo_stop  \\\n",
       "0  explanation edits made username hardcore metal...   \n",
       "1  aww matches background colour seemingly stuck ...   \n",
       "2  hey man really trying edit war guy constantly ...   \n",
       "3  make real suggestions improvement wondered sec...   \n",
       "4                      sir hero chance remember page   \n",
       "\n",
       "                            clean_comment_lemmatized  \\\n",
       "0  explanation edits made username hardcore metal...   \n",
       "1  aww matches background colour seemingly stuck ...   \n",
       "2  hey man really trying edit war guy constantly ...   \n",
       "3  make real suggestions improvement wondered sec...   \n",
       "4                      sir hero chance remember page   \n",
       "\n",
       "                                clean_comment_string  \\\n",
       "0  explanation edits made username hardcore metal...   \n",
       "1  aww matches background colour seemingly stuck ...   \n",
       "2  hey man really trying edit war guy constantly ...   \n",
       "3  make real suggestions improvement wondered sec...   \n",
       "4                      sir hero chance remember page   \n",
       "\n",
       "                               clean_comment_string1  \n",
       "0  explanation edits made username hardcore metal...  \n",
       "1  aww matches background colour seemingly stuck ...  \n",
       "2  hey man really trying edit war guy constantly ...  \n",
       "3  make real suggestions improvement wondered sec...  \n",
       "4                      sir hero chance remember page  "
      ]
     },
     "execution_count": 15,
     "metadata": {},
     "output_type": "execute_result"
    }
   ],
   "source": [
    "STOPWORDS = set(stopwords.words('english'))\n",
    "def remove_stopwords(text):\n",
    "    return \" \".join([word for word in str(text).split() if word not in STOPWORDS])\n",
    "\n",
    "data[\"clean_comment_wo_stop\"] = data[\"clean_comment\"].apply(lambda text: remove_stopwords(text))\n",
    "data.head()\n"
   ]
  },
  {
   "cell_type": "code",
   "execution_count": 16,
   "metadata": {},
   "outputs": [
    {
     "data": {
      "text/plain": [
       "[('article', 57995),\n",
       " ('wikipedia', 48616),\n",
       " ('page', 46593),\n",
       " ('talk', 38200),\n",
       " ('one', 31530),\n",
       " ('would', 31471),\n",
       " ('like', 31323),\n",
       " ('please', 30186),\n",
       " ('see', 22785),\n",
       " ('people', 21775),\n",
       " ('think', 21502),\n",
       " ('also', 21293),\n",
       " ('know', 20543),\n",
       " ('edit', 18320),\n",
       " ('time', 17185),\n",
       " ('use', 17180),\n",
       " ('articles', 16848),\n",
       " ('may', 15966),\n",
       " ('get', 15605),\n",
       " ('user', 14644)]"
      ]
     },
     "execution_count": 16,
     "metadata": {},
     "output_type": "execute_result"
    }
   ],
   "source": [
    "# Checking Frequent words\n",
    "\n",
    "from collections import Counter\n",
    "cnt = Counter()\n",
    "for text in data[\"clean_comment_wo_stop\"].values:\n",
    "    for word in text.split():\n",
    "        cnt[word] += 1\n",
    "        \n",
    "cnt.most_common(20)"
   ]
  },
  {
   "cell_type": "code",
   "execution_count": 17,
   "metadata": {},
   "outputs": [],
   "source": [
    "# Stemming\n",
    "\n",
    "stemmer = PorterStemmer()\n",
    "def stem_words(text):\n",
    "    return \" \".join([stemmer.stem(word) for word in text.split()])\n"
   ]
  },
  {
   "cell_type": "code",
   "execution_count": 18,
   "metadata": {},
   "outputs": [
    {
     "name": "stderr",
     "output_type": "stream",
     "text": [
      "[nltk_data] Downloading package wordnet to\n",
      "[nltk_data]     /Users/kohishaaruganti/nltk_data...\n",
      "[nltk_data]   Package wordnet is already up-to-date!\n"
     ]
    },
    {
     "data": {
      "text/plain": [
       "True"
      ]
     },
     "execution_count": 18,
     "metadata": {},
     "output_type": "execute_result"
    }
   ],
   "source": [
    "\n",
    "nltk.download('wordnet')"
   ]
  },
  {
   "cell_type": "code",
   "execution_count": 19,
   "metadata": {},
   "outputs": [],
   "source": [
    "lemmatizer = WordNetLemmatizer()\n",
    "\n",
    "def lemma(doc):  \n",
    "    doc = \"\".join([lemmatizer.lemmatize(word) for word in doc])\n",
    "    return doc"
   ]
  },
  {
   "cell_type": "code",
   "execution_count": 20,
   "metadata": {},
   "outputs": [],
   "source": [
    "data[\"clean_comment_lemmatized\"] = data[\"clean_comment_wo_stop\"].apply(lemma)"
   ]
  },
  {
   "cell_type": "code",
   "execution_count": 21,
   "metadata": {},
   "outputs": [],
   "source": [
    "def onlystring(doc):\n",
    "    doc = \"\".join([char for char in doc if  not char.isdigit()])\n",
    "    return doc\n",
    "data[\"clean_comment_string\"] = data[\"clean_comment_lemmatized\"].apply(onlystring)"
   ]
  },
  {
   "cell_type": "code",
   "execution_count": 22,
   "metadata": {},
   "outputs": [],
   "source": [
    "def clean_text(sentence):    \n",
    "    rem_url=re.sub(r'http\\S+', '',sentence)\n",
    "    rem_num = re.sub('[0-9]+', '', rem_url)\n",
    "    emoji_pattern = re.compile(\"[\"\n",
    "                           u\"\\U0001F600-\\U0001F64F\"  \n",
    "                           u\"\\U0001F300-\\U0001F5FF\"  \n",
    "                           u\"\\U000024C2-\\U0001F251\"\n",
    "                           \"]+\", flags=re.UNICODE)\n",
    "    clean_text=emoji_pattern.sub(r\"\", rem_num)\n",
    "    return clean_text\n",
    "data[\"clean_comment_string1\"] = data[\"clean_comment_lemmatized\"].map(lambda s:clean_text(s)) "
   ]
  },
  {
   "cell_type": "code",
   "execution_count": 23,
   "metadata": {},
   "outputs": [
    {
     "data": {
      "text/html": [
       "<div>\n",
       "<style scoped>\n",
       "    .dataframe tbody tr th:only-of-type {\n",
       "        vertical-align: middle;\n",
       "    }\n",
       "\n",
       "    .dataframe tbody tr th {\n",
       "        vertical-align: top;\n",
       "    }\n",
       "\n",
       "    .dataframe thead th {\n",
       "        text-align: right;\n",
       "    }\n",
       "</style>\n",
       "<table border=\"1\" class=\"dataframe\">\n",
       "  <thead>\n",
       "    <tr style=\"text-align: right;\">\n",
       "      <th></th>\n",
       "      <th>Unnamed: 0.1</th>\n",
       "      <th>Unnamed: 0</th>\n",
       "      <th>comment_text</th>\n",
       "      <th>target</th>\n",
       "      <th>Num_words</th>\n",
       "      <th>words</th>\n",
       "      <th>clean_comment</th>\n",
       "      <th>clean_comment_wo_stop</th>\n",
       "      <th>clean_comment_lemmatized</th>\n",
       "      <th>clean_comment_string</th>\n",
       "      <th>clean_comment_string1</th>\n",
       "    </tr>\n",
       "  </thead>\n",
       "  <tbody>\n",
       "    <tr>\n",
       "      <th>64156</th>\n",
       "      <td>64156</td>\n",
       "      <td>64156</td>\n",
       "      <td>whoever has their information for the accident...</td>\n",
       "      <td>NoHate</td>\n",
       "      <td>91</td>\n",
       "      <td>[whoever, has, their, information, for, the, a...</td>\n",
       "      <td>whoever has their information for the accident...</td>\n",
       "      <td>whoever information accident happen morning wr...</td>\n",
       "      <td>whoever information accident happen morning wr...</td>\n",
       "      <td>whoever information accident happen morning wr...</td>\n",
       "      <td>whoever information accident happen morning wr...</td>\n",
       "    </tr>\n",
       "    <tr>\n",
       "      <th>7724</th>\n",
       "      <td>7724</td>\n",
       "      <td>7724</td>\n",
       "      <td>SUCK MY FUCKING COCK!</td>\n",
       "      <td>Hate</td>\n",
       "      <td>4</td>\n",
       "      <td>[SUCK, MY, FUCKING, COCK!]</td>\n",
       "      <td>suck my fucking cock</td>\n",
       "      <td>suck fucking cock</td>\n",
       "      <td>suck fucking cock</td>\n",
       "      <td>suck fucking cock</td>\n",
       "      <td>suck fucking cock</td>\n",
       "    </tr>\n",
       "    <tr>\n",
       "      <th>5904</th>\n",
       "      <td>5904</td>\n",
       "      <td>5904</td>\n",
       "      <td>Thanks. Let me have a peek at the source and s...</td>\n",
       "      <td>NoHate</td>\n",
       "      <td>16</td>\n",
       "      <td>[Thanks., Let, me, have, a, peek, at, the, sou...</td>\n",
       "      <td>thanks  let me have a peek at the source and s...</td>\n",
       "      <td>thanks let peek source see cheers</td>\n",
       "      <td>thanks let peek source see cheers</td>\n",
       "      <td>thanks let peek source see cheers</td>\n",
       "      <td>thanks let peek source see cheers</td>\n",
       "    </tr>\n",
       "    <tr>\n",
       "      <th>72711</th>\n",
       "      <td>72711</td>\n",
       "      <td>72711</td>\n",
       "      <td>School \\n\\nHe started school at Motholo primar...</td>\n",
       "      <td>NoHate</td>\n",
       "      <td>48</td>\n",
       "      <td>[School, He, started, school, at, Motholo, pri...</td>\n",
       "      <td>school   he started school at motholo primary ...</td>\n",
       "      <td>school started school motholo primary school y...</td>\n",
       "      <td>school started school motholo primary school y...</td>\n",
       "      <td>school started school motholo primary school y...</td>\n",
       "      <td>school started school motholo primary school y...</td>\n",
       "    </tr>\n",
       "    <tr>\n",
       "      <th>23284</th>\n",
       "      <td>23284</td>\n",
       "      <td>23284</td>\n",
       "      <td>Shes reportedly conceiding defeat tonight,http...</td>\n",
       "      <td>NoHate</td>\n",
       "      <td>8</td>\n",
       "      <td>[Shes, reportedly, conceiding, defeat, tonight...</td>\n",
       "      <td>shes reportedly conceiding defeat tonight http...</td>\n",
       "      <td>shes reportedly conceiding defeat tonight http...</td>\n",
       "      <td>shes reportedly conceiding defeat tonight http...</td>\n",
       "      <td>shes reportedly conceiding defeat tonight http...</td>\n",
       "      <td>shes reportedly conceiding defeat tonight http...</td>\n",
       "    </tr>\n",
       "    <tr>\n",
       "      <th>39061</th>\n",
       "      <td>39061</td>\n",
       "      <td>39061</td>\n",
       "      <td>\"\\nAnd why did you delete the information abou...</td>\n",
       "      <td>NoHate</td>\n",
       "      <td>39</td>\n",
       "      <td>[\", And, why, did, you, delete, the, informati...</td>\n",
       "      <td>and why did you delete the information about...</td>\n",
       "      <td>delete information gardner stuff documentation...</td>\n",
       "      <td>delete information gardner stuff documentation...</td>\n",
       "      <td>delete information gardner stuff documentation...</td>\n",
       "      <td>delete information gardner stuff documentation...</td>\n",
       "    </tr>\n",
       "    <tr>\n",
       "      <th>52244</th>\n",
       "      <td>52244</td>\n",
       "      <td>52244</td>\n",
       "      <td>\"\\nSure. Let's not worry about it at all. |The...</td>\n",
       "      <td>NoHate</td>\n",
       "      <td>11</td>\n",
       "      <td>[\", Sure., Let's, not, worry, about, it, at, a...</td>\n",
       "      <td>sure  let s not worry about it at all   the ...</td>\n",
       "      <td>sure let worry whovian</td>\n",
       "      <td>sure let worry whovian</td>\n",
       "      <td>sure let worry whovian</td>\n",
       "      <td>sure let worry whovian</td>\n",
       "    </tr>\n",
       "    <tr>\n",
       "      <th>108833</th>\n",
       "      <td>108833</td>\n",
       "      <td>108833</td>\n",
       "      <td>Your count of the elapsed time does not accoun...</td>\n",
       "      <td>NoHate</td>\n",
       "      <td>21</td>\n",
       "      <td>[Your, count, of, the, elapsed, time, does, no...</td>\n",
       "      <td>your count of the elapsed time does not accoun...</td>\n",
       "      <td>count elapsed time account previous period deb...</td>\n",
       "      <td>count elapsed time account previous period deb...</td>\n",
       "      <td>count elapsed time account previous period deb...</td>\n",
       "      <td>count elapsed time account previous period deb...</td>\n",
       "    </tr>\n",
       "    <tr>\n",
       "      <th>106656</th>\n",
       "      <td>106656</td>\n",
       "      <td>106656</td>\n",
       "      <td>That's certainly better.</td>\n",
       "      <td>NoHate</td>\n",
       "      <td>3</td>\n",
       "      <td>[That's, certainly, better.]</td>\n",
       "      <td>that s certainly better</td>\n",
       "      <td>certainly better</td>\n",
       "      <td>certainly better</td>\n",
       "      <td>certainly better</td>\n",
       "      <td>certainly better</td>\n",
       "    </tr>\n",
       "    <tr>\n",
       "      <th>154073</th>\n",
       "      <td>154073</td>\n",
       "      <td>154073</td>\n",
       "      <td>Reversion of East India Company link \\n\\nThe e...</td>\n",
       "      <td>NoHate</td>\n",
       "      <td>24</td>\n",
       "      <td>[Reversion, of, East, India, Company, link, Th...</td>\n",
       "      <td>reversion of east india company link   the edi...</td>\n",
       "      <td>reversion east india company link edit made co...</td>\n",
       "      <td>reversion east india company link edit made co...</td>\n",
       "      <td>reversion east india company link edit made co...</td>\n",
       "      <td>reversion east india company link edit made co...</td>\n",
       "    </tr>\n",
       "  </tbody>\n",
       "</table>\n",
       "</div>"
      ],
      "text/plain": [
       "        Unnamed: 0.1  Unnamed: 0  \\\n",
       "64156          64156       64156   \n",
       "7724            7724        7724   \n",
       "5904            5904        5904   \n",
       "72711          72711       72711   \n",
       "23284          23284       23284   \n",
       "39061          39061       39061   \n",
       "52244          52244       52244   \n",
       "108833        108833      108833   \n",
       "106656        106656      106656   \n",
       "154073        154073      154073   \n",
       "\n",
       "                                             comment_text  target  Num_words  \\\n",
       "64156   whoever has their information for the accident...  NoHate         91   \n",
       "7724                                SUCK MY FUCKING COCK!    Hate          4   \n",
       "5904    Thanks. Let me have a peek at the source and s...  NoHate         16   \n",
       "72711   School \\n\\nHe started school at Motholo primar...  NoHate         48   \n",
       "23284   Shes reportedly conceiding defeat tonight,http...  NoHate          8   \n",
       "39061   \"\\nAnd why did you delete the information abou...  NoHate         39   \n",
       "52244   \"\\nSure. Let's not worry about it at all. |The...  NoHate         11   \n",
       "108833  Your count of the elapsed time does not accoun...  NoHate         21   \n",
       "106656                           That's certainly better.  NoHate          3   \n",
       "154073  Reversion of East India Company link \\n\\nThe e...  NoHate         24   \n",
       "\n",
       "                                                    words  \\\n",
       "64156   [whoever, has, their, information, for, the, a...   \n",
       "7724                           [SUCK, MY, FUCKING, COCK!]   \n",
       "5904    [Thanks., Let, me, have, a, peek, at, the, sou...   \n",
       "72711   [School, He, started, school, at, Motholo, pri...   \n",
       "23284   [Shes, reportedly, conceiding, defeat, tonight...   \n",
       "39061   [\", And, why, did, you, delete, the, informati...   \n",
       "52244   [\", Sure., Let's, not, worry, about, it, at, a...   \n",
       "108833  [Your, count, of, the, elapsed, time, does, no...   \n",
       "106656                       [That's, certainly, better.]   \n",
       "154073  [Reversion, of, East, India, Company, link, Th...   \n",
       "\n",
       "                                            clean_comment  \\\n",
       "64156   whoever has their information for the accident...   \n",
       "7724                                suck my fucking cock    \n",
       "5904    thanks  let me have a peek at the source and s...   \n",
       "72711   school   he started school at motholo primary ...   \n",
       "23284   shes reportedly conceiding defeat tonight http...   \n",
       "39061     and why did you delete the information about...   \n",
       "52244     sure  let s not worry about it at all   the ...   \n",
       "108833  your count of the elapsed time does not accoun...   \n",
       "106656                           that s certainly better    \n",
       "154073  reversion of east india company link   the edi...   \n",
       "\n",
       "                                    clean_comment_wo_stop  \\\n",
       "64156   whoever information accident happen morning wr...   \n",
       "7724                                    suck fucking cock   \n",
       "5904                    thanks let peek source see cheers   \n",
       "72711   school started school motholo primary school y...   \n",
       "23284   shes reportedly conceiding defeat tonight http...   \n",
       "39061   delete information gardner stuff documentation...   \n",
       "52244                              sure let worry whovian   \n",
       "108833  count elapsed time account previous period deb...   \n",
       "106656                                   certainly better   \n",
       "154073  reversion east india company link edit made co...   \n",
       "\n",
       "                                 clean_comment_lemmatized  \\\n",
       "64156   whoever information accident happen morning wr...   \n",
       "7724                                    suck fucking cock   \n",
       "5904                    thanks let peek source see cheers   \n",
       "72711   school started school motholo primary school y...   \n",
       "23284   shes reportedly conceiding defeat tonight http...   \n",
       "39061   delete information gardner stuff documentation...   \n",
       "52244                              sure let worry whovian   \n",
       "108833  count elapsed time account previous period deb...   \n",
       "106656                                   certainly better   \n",
       "154073  reversion east india company link edit made co...   \n",
       "\n",
       "                                     clean_comment_string  \\\n",
       "64156   whoever information accident happen morning wr...   \n",
       "7724                                    suck fucking cock   \n",
       "5904                    thanks let peek source see cheers   \n",
       "72711   school started school motholo primary school y...   \n",
       "23284   shes reportedly conceiding defeat tonight http...   \n",
       "39061   delete information gardner stuff documentation...   \n",
       "52244                              sure let worry whovian   \n",
       "108833  count elapsed time account previous period deb...   \n",
       "106656                                   certainly better   \n",
       "154073  reversion east india company link edit made co...   \n",
       "\n",
       "                                    clean_comment_string1  \n",
       "64156   whoever information accident happen morning wr...  \n",
       "7724                                    suck fucking cock  \n",
       "5904                    thanks let peek source see cheers  \n",
       "72711   school started school motholo primary school y...  \n",
       "23284   shes reportedly conceiding defeat tonight http...  \n",
       "39061   delete information gardner stuff documentation...  \n",
       "52244                              sure let worry whovian  \n",
       "108833  count elapsed time account previous period deb...  \n",
       "106656                                   certainly better  \n",
       "154073  reversion east india company link edit made co...  "
      ]
     },
     "execution_count": 23,
     "metadata": {},
     "output_type": "execute_result"
    }
   ],
   "source": [
    "data.sample(10)"
   ]
  },
  {
   "cell_type": "code",
   "execution_count": 24,
   "metadata": {},
   "outputs": [],
   "source": [
    "#file = data.to_csv(\"data.csv\")"
   ]
  },
  {
   "cell_type": "code",
   "execution_count": 25,
   "metadata": {},
   "outputs": [],
   "source": [
    "data=pd.read_csv('data.csv')"
   ]
  },
  {
   "cell_type": "code",
   "execution_count": 26,
   "metadata": {},
   "outputs": [
    {
     "data": {
      "text/plain": [
       "227"
      ]
     },
     "execution_count": 26,
     "metadata": {},
     "output_type": "execute_result"
    }
   ],
   "source": [
    "data['clean_comment_string1'].isna().sum()"
   ]
  },
  {
   "cell_type": "code",
   "execution_count": 27,
   "metadata": {},
   "outputs": [],
   "source": [
    "#data=data[:1000]"
   ]
  },
  {
   "cell_type": "code",
   "execution_count": 28,
   "metadata": {},
<<<<<<< HEAD
   "outputs": [],
=======
   "outputs": [
    {
     "data": {
      "text/plain": [
       "NoHate    158084\n",
       "Hate       29818\n",
       "Name: target, dtype: int64"
      ]
     },
     "execution_count": 28,
     "metadata": {},
     "output_type": "execute_result"
    }
   ],
>>>>>>> 5162d6ab0bf96e57e18222aeaa7034505dab3020
   "source": [
    "data=data.dropna()"
   ]
  },
  {
   "cell_type": "code",
   "execution_count": 29,
   "metadata": {},
   "outputs": [
    {
     "data": {
      "text/plain": [
<<<<<<< HEAD
       "NoHate    157869\n",
       "Hate       29806\n",
       "Name: target, dtype: int64"
=======
       "(187902, 11)"
>>>>>>> 5162d6ab0bf96e57e18222aeaa7034505dab3020
      ]
     },
     "execution_count": 29,
     "metadata": {},
     "output_type": "execute_result"
    }
   ],
   "source": [
    "data[\"target\"].value_counts()"
   ]
  },
  {
   "cell_type": "code",
   "execution_count": 30,
   "metadata": {},
   "outputs": [
    {
     "data": {
      "text/plain": [
       "(187675, 11)"
      ]
     },
     "execution_count": 30,
     "metadata": {},
     "output_type": "execute_result"
    }
   ],
   "source": [
    "data.shape"
   ]
  },
  {
   "cell_type": "code",
   "execution_count": 31,
   "metadata": {},
   "outputs": [],
   "source": [
    "data_up=data.groupby('target').apply(lambda x: x.sample(18000))"
   ]
  },
  {
   "cell_type": "code",
<<<<<<< HEAD
   "execution_count": 32,
=======
   "execution_count": 31,
>>>>>>> 5162d6ab0bf96e57e18222aeaa7034505dab3020
   "metadata": {},
   "outputs": [
    {
     "ename": "ValueError",
     "evalue": "np.nan is an invalid document, expected byte or unicode string.",
     "output_type": "error",
     "traceback": [
      "\u001b[0;31m---------------------------------------------------------------------------\u001b[0m",
      "\u001b[0;31mValueError\u001b[0m                                Traceback (most recent call last)",
      "\u001b[1;32m/Users/kohishaaruganti/Documents/Final/finalCapstone/src/dataprocessing.ipynb Cell 31\u001b[0m line \u001b[0;36m5\n\u001b[1;32m      <a href='vscode-notebook-cell:/Users/kohishaaruganti/Documents/Final/finalCapstone/src/dataprocessing.ipynb#X42sZmlsZQ%3D%3D?line=2'>3</a>\u001b[0m tfidf_vectorizer \u001b[39m=\u001b[39m TfidfVectorizer(use_idf\u001b[39m=\u001b[39m\u001b[39mTrue\u001b[39;00m) \n\u001b[1;32m      <a href='vscode-notebook-cell:/Users/kohishaaruganti/Documents/Final/finalCapstone/src/dataprocessing.ipynb#X42sZmlsZQ%3D%3D?line=3'>4</a>\u001b[0m \u001b[39m#tfidf_vectorizer.fit\u001b[39;00m\n\u001b[0;32m----> <a href='vscode-notebook-cell:/Users/kohishaaruganti/Documents/Final/finalCapstone/src/dataprocessing.ipynb#X42sZmlsZQ%3D%3D?line=4'>5</a>\u001b[0m tfidf_vectorizer_vectors \u001b[39m=\u001b[39m tfidf_vectorizer\u001b[39m.\u001b[39;49mfit_transform(docs)\n",
      "File \u001b[0;32m~/opt/anaconda3/lib/python3.9/site-packages/sklearn/feature_extraction/text.py:2133\u001b[0m, in \u001b[0;36mTfidfVectorizer.fit_transform\u001b[0;34m(self, raw_documents, y)\u001b[0m\n\u001b[1;32m   2126\u001b[0m \u001b[39mself\u001b[39m\u001b[39m.\u001b[39m_check_params()\n\u001b[1;32m   2127\u001b[0m \u001b[39mself\u001b[39m\u001b[39m.\u001b[39m_tfidf \u001b[39m=\u001b[39m TfidfTransformer(\n\u001b[1;32m   2128\u001b[0m     norm\u001b[39m=\u001b[39m\u001b[39mself\u001b[39m\u001b[39m.\u001b[39mnorm,\n\u001b[1;32m   2129\u001b[0m     use_idf\u001b[39m=\u001b[39m\u001b[39mself\u001b[39m\u001b[39m.\u001b[39muse_idf,\n\u001b[1;32m   2130\u001b[0m     smooth_idf\u001b[39m=\u001b[39m\u001b[39mself\u001b[39m\u001b[39m.\u001b[39msmooth_idf,\n\u001b[1;32m   2131\u001b[0m     sublinear_tf\u001b[39m=\u001b[39m\u001b[39mself\u001b[39m\u001b[39m.\u001b[39msublinear_tf,\n\u001b[1;32m   2132\u001b[0m )\n\u001b[0;32m-> 2133\u001b[0m X \u001b[39m=\u001b[39m \u001b[39msuper\u001b[39;49m()\u001b[39m.\u001b[39;49mfit_transform(raw_documents)\n\u001b[1;32m   2134\u001b[0m \u001b[39mself\u001b[39m\u001b[39m.\u001b[39m_tfidf\u001b[39m.\u001b[39mfit(X)\n\u001b[1;32m   2135\u001b[0m \u001b[39m# X is already a transformed view of raw_documents so\u001b[39;00m\n\u001b[1;32m   2136\u001b[0m \u001b[39m# we set copy to False\u001b[39;00m\n",
      "File \u001b[0;32m~/opt/anaconda3/lib/python3.9/site-packages/sklearn/feature_extraction/text.py:1388\u001b[0m, in \u001b[0;36mCountVectorizer.fit_transform\u001b[0;34m(self, raw_documents, y)\u001b[0m\n\u001b[1;32m   1380\u001b[0m             warnings\u001b[39m.\u001b[39mwarn(\n\u001b[1;32m   1381\u001b[0m                 \u001b[39m\"\u001b[39m\u001b[39mUpper case characters found in\u001b[39m\u001b[39m\"\u001b[39m\n\u001b[1;32m   1382\u001b[0m                 \u001b[39m\"\u001b[39m\u001b[39m vocabulary while \u001b[39m\u001b[39m'\u001b[39m\u001b[39mlowercase\u001b[39m\u001b[39m'\u001b[39m\u001b[39m\"\u001b[39m\n\u001b[1;32m   1383\u001b[0m                 \u001b[39m\"\u001b[39m\u001b[39m is True. These entries will not\u001b[39m\u001b[39m\"\u001b[39m\n\u001b[1;32m   1384\u001b[0m                 \u001b[39m\"\u001b[39m\u001b[39m be matched with any documents\u001b[39m\u001b[39m\"\u001b[39m\n\u001b[1;32m   1385\u001b[0m             )\n\u001b[1;32m   1386\u001b[0m             \u001b[39mbreak\u001b[39;00m\n\u001b[0;32m-> 1388\u001b[0m vocabulary, X \u001b[39m=\u001b[39m \u001b[39mself\u001b[39;49m\u001b[39m.\u001b[39;49m_count_vocab(raw_documents, \u001b[39mself\u001b[39;49m\u001b[39m.\u001b[39;49mfixed_vocabulary_)\n\u001b[1;32m   1390\u001b[0m \u001b[39mif\u001b[39;00m \u001b[39mself\u001b[39m\u001b[39m.\u001b[39mbinary:\n\u001b[1;32m   1391\u001b[0m     X\u001b[39m.\u001b[39mdata\u001b[39m.\u001b[39mfill(\u001b[39m1\u001b[39m)\n",
      "File \u001b[0;32m~/opt/anaconda3/lib/python3.9/site-packages/sklearn/feature_extraction/text.py:1275\u001b[0m, in \u001b[0;36mCountVectorizer._count_vocab\u001b[0;34m(self, raw_documents, fixed_vocab)\u001b[0m\n\u001b[1;32m   1273\u001b[0m \u001b[39mfor\u001b[39;00m doc \u001b[39min\u001b[39;00m raw_documents:\n\u001b[1;32m   1274\u001b[0m     feature_counter \u001b[39m=\u001b[39m {}\n\u001b[0;32m-> 1275\u001b[0m     \u001b[39mfor\u001b[39;00m feature \u001b[39min\u001b[39;00m analyze(doc):\n\u001b[1;32m   1276\u001b[0m         \u001b[39mtry\u001b[39;00m:\n\u001b[1;32m   1277\u001b[0m             feature_idx \u001b[39m=\u001b[39m vocabulary[feature]\n",
      "File \u001b[0;32m~/opt/anaconda3/lib/python3.9/site-packages/sklearn/feature_extraction/text.py:106\u001b[0m, in \u001b[0;36m_analyze\u001b[0;34m(doc, analyzer, tokenizer, ngrams, preprocessor, decoder, stop_words)\u001b[0m\n\u001b[1;32m     84\u001b[0m \u001b[39m\u001b[39m\u001b[39m\"\"\"Chain together an optional series of text processing steps to go from\u001b[39;00m\n\u001b[1;32m     85\u001b[0m \u001b[39ma single document to ngrams, with or without tokenizing or preprocessing.\u001b[39;00m\n\u001b[1;32m     86\u001b[0m \n\u001b[0;32m   (...)\u001b[0m\n\u001b[1;32m    102\u001b[0m \u001b[39m    A sequence of tokens, possibly with pairs, triples, etc.\u001b[39;00m\n\u001b[1;32m    103\u001b[0m \u001b[39m\"\"\"\u001b[39;00m\n\u001b[1;32m    105\u001b[0m \u001b[39mif\u001b[39;00m decoder \u001b[39mis\u001b[39;00m \u001b[39mnot\u001b[39;00m \u001b[39mNone\u001b[39;00m:\n\u001b[0;32m--> 106\u001b[0m     doc \u001b[39m=\u001b[39m decoder(doc)\n\u001b[1;32m    107\u001b[0m \u001b[39mif\u001b[39;00m analyzer \u001b[39mis\u001b[39;00m \u001b[39mnot\u001b[39;00m \u001b[39mNone\u001b[39;00m:\n\u001b[1;32m    108\u001b[0m     doc \u001b[39m=\u001b[39m analyzer(doc)\n",
      "File \u001b[0;32m~/opt/anaconda3/lib/python3.9/site-packages/sklearn/feature_extraction/text.py:239\u001b[0m, in \u001b[0;36m_VectorizerMixin.decode\u001b[0;34m(self, doc)\u001b[0m\n\u001b[1;32m    236\u001b[0m     doc \u001b[39m=\u001b[39m doc\u001b[39m.\u001b[39mdecode(\u001b[39mself\u001b[39m\u001b[39m.\u001b[39mencoding, \u001b[39mself\u001b[39m\u001b[39m.\u001b[39mdecode_error)\n\u001b[1;32m    238\u001b[0m \u001b[39mif\u001b[39;00m doc \u001b[39mis\u001b[39;00m np\u001b[39m.\u001b[39mnan:\n\u001b[0;32m--> 239\u001b[0m     \u001b[39mraise\u001b[39;00m \u001b[39mValueError\u001b[39;00m(\n\u001b[1;32m    240\u001b[0m         \u001b[39m\"\u001b[39m\u001b[39mnp.nan is an invalid document, expected byte or unicode string.\u001b[39m\u001b[39m\"\u001b[39m\n\u001b[1;32m    241\u001b[0m     )\n\u001b[1;32m    243\u001b[0m \u001b[39mreturn\u001b[39;00m doc\n",
      "\u001b[0;31mValueError\u001b[0m: np.nan is an invalid document, expected byte or unicode string."
     ]
    }
   ],
   "source": [
    "# Vectorization\n",
    "docs = list(data_up['clean_comment_string1'])\n",
    "tfidf_vectorizer = TfidfVectorizer(use_idf=True) \n",
    "#tfidf_vectorizer.fit\n",
    "tfidf_vectorizer_vectors = tfidf_vectorizer.fit_transform(docs)\n",
    "#docs = tfidf_vectorizer_vectors.toarray()"
   ]
  },
  {
   "cell_type": "code",
   "execution_count": 33,
   "metadata": {},
   "outputs": [
    {
     "data": {
      "text/plain": [
       "['../model/tfidf50000.pkl']"
      ]
     },
<<<<<<< HEAD
     "execution_count": 33,
=======
     "execution_count": 31,
>>>>>>> 5162d6ab0bf96e57e18222aeaa7034505dab3020
     "metadata": {},
     "output_type": "execute_result"
    }
   ],
   "source": [
    "joblib.dump(tfidf_vectorizer,'../model/tfidf50000.pkl')"
   ]
  },
  {
   "cell_type": "code",
   "execution_count": 34,
   "metadata": {},
   "outputs": [
    {
     "data": {
      "text/plain": [
<<<<<<< HEAD
       "(36000, 61636)"
      ]
     },
     "execution_count": 34,
=======
       "(36000, 61273)"
      ]
     },
     "execution_count": 32,
>>>>>>> 5162d6ab0bf96e57e18222aeaa7034505dab3020
     "metadata": {},
     "output_type": "execute_result"
    }
   ],
   "source": [
    "tfidf_vectorizer_vectors.shape"
   ]
  },
  {
   "cell_type": "code",
   "execution_count": 35,
   "metadata": {},
   "outputs": [],
   "source": [
    "#### Train Test Split"
   ]
  },
  {
   "cell_type": "code",
   "execution_count": 36,
   "metadata": {},
   "outputs": [
    {
     "data": {
      "text/html": [
       "<div>\n",
       "<style scoped>\n",
       "    .dataframe tbody tr th:only-of-type {\n",
       "        vertical-align: middle;\n",
       "    }\n",
       "\n",
       "    .dataframe tbody tr th {\n",
       "        vertical-align: top;\n",
       "    }\n",
       "\n",
       "    .dataframe thead th {\n",
       "        text-align: right;\n",
       "    }\n",
       "</style>\n",
       "<table border=\"1\" class=\"dataframe\">\n",
       "  <thead>\n",
       "    <tr style=\"text-align: right;\">\n",
       "      <th></th>\n",
       "      <th></th>\n",
       "      <th>Unnamed: 0.1</th>\n",
       "      <th>Unnamed: 0</th>\n",
       "      <th>comment_text</th>\n",
       "      <th>target</th>\n",
       "      <th>Num_words</th>\n",
       "      <th>words</th>\n",
       "      <th>clean_comment</th>\n",
       "      <th>clean_comment_wo_stop</th>\n",
       "      <th>clean_comment_lemmatized</th>\n",
       "      <th>clean_comment_string</th>\n",
       "      <th>clean_comment_string1</th>\n",
       "    </tr>\n",
       "    <tr>\n",
       "      <th>target</th>\n",
       "      <th></th>\n",
       "      <th></th>\n",
       "      <th></th>\n",
       "      <th></th>\n",
       "      <th></th>\n",
       "      <th></th>\n",
       "      <th></th>\n",
       "      <th></th>\n",
       "      <th></th>\n",
       "      <th></th>\n",
       "      <th></th>\n",
       "      <th></th>\n",
       "    </tr>\n",
       "  </thead>\n",
       "  <tbody>\n",
       "    <tr>\n",
       "      <th rowspan=\"5\" valign=\"top\">Hate</th>\n",
<<<<<<< HEAD
       "      <th>187739</th>\n",
       "      <td>187739</td>\n",
       "      <td>187980</td>\n",
       "      <td>Trump tweeted 'This guy had nothing to do with...</td>\n",
       "      <td>Hate</td>\n",
       "      <td>14</td>\n",
       "      <td>['Trump', 'tweeted', \"'This\", 'guy', 'had', 'n...</td>\n",
       "      <td>trump tweeted  this guy had nothing to do with...</td>\n",
       "      <td>trump tweeted guy nothing policies hahaha loser</td>\n",
       "      <td>trump tweeted guy nothing policies hahaha loser</td>\n",
       "      <td>trump tweeted guy nothing policies hahaha loser</td>\n",
       "      <td>trump tweeted guy nothing policies hahaha loser</td>\n",
       "    </tr>\n",
       "    <tr>\n",
       "      <th>123900</th>\n",
       "      <td>123900</td>\n",
       "      <td>123900</td>\n",
       "      <td>Yet again your saying I am not going to pass i...</td>\n",
       "      <td>Hate</td>\n",
       "      <td>71</td>\n",
       "      <td>['Yet', 'again', 'your', 'saying', 'I', 'am', ...</td>\n",
       "      <td>yet again your saying i am not going to pass i...</td>\n",
       "      <td>yet saying going pass cause think long load bo...</td>\n",
       "      <td>yet saying going pass cause think long load bo...</td>\n",
       "      <td>yet saying going pass cause think long load bo...</td>\n",
       "      <td>yet saying going pass cause think long load bo...</td>\n",
       "    </tr>\n",
       "    <tr>\n",
       "      <th>39886</th>\n",
       "      <td>39886</td>\n",
       "      <td>39886</td>\n",
       "      <td>please, please killyourself you whiney little ...</td>\n",
       "      <td>Hate</td>\n",
       "      <td>8</td>\n",
       "      <td>['please,', 'please', 'killyourself', 'you', '...</td>\n",
       "      <td>please  please killyourself you whiney little ...</td>\n",
       "      <td>please please killyourself whiney little jewis...</td>\n",
       "      <td>please please killyourself whiney little jewis...</td>\n",
       "      <td>please please killyourself whiney little jewis...</td>\n",
       "      <td>please please killyourself whiney little jewis...</td>\n",
       "    </tr>\n",
       "    <tr>\n",
       "      <th>95433</th>\n",
       "      <td>95433</td>\n",
       "      <td>95433</td>\n",
       "      <td>Ass rape \\n\\nAre you in an ass raping relation...</td>\n",
       "      <td>Hate</td>\n",
       "      <td>20</td>\n",
       "      <td>['Ass', 'rape', 'Are', 'you', 'in', 'an', 'ass...</td>\n",
       "      <td>ass rape   are you in an ass raping relationsh...</td>\n",
       "      <td>ass rape ass raping relationship splash hotel ...</td>\n",
       "      <td>ass rape ass raping relationship splash hotel ...</td>\n",
       "      <td>ass rape ass raping relationship splash hotel ...</td>\n",
       "      <td>ass rape ass raping relationship splash hotel ...</td>\n",
       "    </tr>\n",
       "    <tr>\n",
       "      <th>16235</th>\n",
       "      <td>16235</td>\n",
       "      <td>16235</td>\n",
       "      <td>Well it was complete rubbish..\\nMaybe you shou...</td>\n",
       "      <td>Hate</td>\n",
       "      <td>38</td>\n",
       "      <td>['Well', 'it', 'was', 'complete', 'rubbish..',...</td>\n",
       "      <td>well it was complete rubbish   maybe you shoul...</td>\n",
       "      <td>well complete rubbish maybe get calculator cur...</td>\n",
       "      <td>well complete rubbish maybe get calculator cur...</td>\n",
       "      <td>well complete rubbish maybe get calculator cur...</td>\n",
       "      <td>well complete rubbish maybe get calculator cur...</td>\n",
=======
       "      <th>3945</th>\n",
       "      <td>3945</td>\n",
       "      <td>3945</td>\n",
       "      <td>YAWN!!     The above COMMENT is a quote from M...</td>\n",
       "      <td>Hate</td>\n",
       "      <td>26</td>\n",
       "      <td>[YAWN!!, The, above, COMMENT, is, a, quote, fr...</td>\n",
       "      <td>yawn       the above comment is a quote from m...</td>\n",
       "      <td>yawn comment quote mcneight yet still insistes...</td>\n",
       "      <td>yawn comment quote mcneight yet still insistes...</td>\n",
       "      <td>yawn comment quote mcneight yet still insistes...</td>\n",
       "      <td>yawn comment quote mcneight yet still insistes...</td>\n",
       "    </tr>\n",
       "    <tr>\n",
       "      <th>173007</th>\n",
       "      <td>173007</td>\n",
       "      <td>173248</td>\n",
       "      <td>Condolences to his family, they lost their son...</td>\n",
       "      <td>Hate</td>\n",
       "      <td>20</td>\n",
       "      <td>[Condolences, to, his, family,, they, lost, th...</td>\n",
       "      <td>condolences to his family  they lost their son...</td>\n",
       "      <td>condolences family lost son heart stop asshole...</td>\n",
       "      <td>condolences family lost son heart stop asshole...</td>\n",
       "      <td>condolences family lost son heart stop asshole...</td>\n",
       "      <td>condolences family lost son heart stop asshole...</td>\n",
       "    </tr>\n",
       "    <tr>\n",
       "      <th>134289</th>\n",
       "      <td>134289</td>\n",
       "      <td>134289</td>\n",
       "      <td>YOU\\n\\n        CUNT</td>\n",
       "      <td>Hate</td>\n",
       "      <td>2</td>\n",
       "      <td>[YOU, CUNT]</td>\n",
       "      <td>you          cunt</td>\n",
       "      <td>cunt</td>\n",
       "      <td>cunt</td>\n",
       "      <td>cunt</td>\n",
       "      <td>cunt</td>\n",
       "    </tr>\n",
       "    <tr>\n",
       "      <th>184408</th>\n",
       "      <td>184408</td>\n",
       "      <td>184649</td>\n",
       "      <td>If it would have been built then, it would hav...</td>\n",
       "      <td>Hate</td>\n",
       "      <td>19</td>\n",
       "      <td>[If, it, would, have, been, built, then,, it, ...</td>\n",
       "      <td>if it would have been built then  it would hav...</td>\n",
       "      <td>would built would ground level elevated rail i...</td>\n",
       "      <td>would built would ground level elevated rail i...</td>\n",
       "      <td>would built would ground level elevated rail i...</td>\n",
       "      <td>would built would ground level elevated rail i...</td>\n",
       "    </tr>\n",
       "    <tr>\n",
       "      <th>182996</th>\n",
       "      <td>182996</td>\n",
       "      <td>183237</td>\n",
       "      <td>Trump is definitely a worthless stain on Ameri...</td>\n",
       "      <td>Hate</td>\n",
       "      <td>16</td>\n",
       "      <td>[Trump, is, definitely, a, worthless, stain, o...</td>\n",
       "      <td>trump is definitely a worthless stain on ameri...</td>\n",
       "      <td>trump definitely worthless stain america defin...</td>\n",
       "      <td>trump definitely worthless stain america defin...</td>\n",
       "      <td>trump definitely worthless stain america defin...</td>\n",
       "      <td>trump definitely worthless stain america defin...</td>\n",
>>>>>>> 5162d6ab0bf96e57e18222aeaa7034505dab3020
       "    </tr>\n",
       "  </tbody>\n",
       "</table>\n",
       "</div>"
      ],
      "text/plain": [
       "               Unnamed: 0.1  Unnamed: 0  \\\n",
       "target                                    \n",
<<<<<<< HEAD
       "Hate   187739        187739      187980   \n",
       "       123900        123900      123900   \n",
       "       39886          39886       39886   \n",
       "       95433          95433       95433   \n",
       "       16235          16235       16235   \n",
       "\n",
       "                                                    comment_text target  \\\n",
       "target                                                                    \n",
       "Hate   187739  Trump tweeted 'This guy had nothing to do with...   Hate   \n",
       "       123900  Yet again your saying I am not going to pass i...   Hate   \n",
       "       39886   please, please killyourself you whiney little ...   Hate   \n",
       "       95433   Ass rape \\n\\nAre you in an ass raping relation...   Hate   \n",
       "       16235   Well it was complete rubbish..\\nMaybe you shou...   Hate   \n",
       "\n",
       "               Num_words                                              words  \\\n",
       "target                                                                        \n",
       "Hate   187739         14  ['Trump', 'tweeted', \"'This\", 'guy', 'had', 'n...   \n",
       "       123900         71  ['Yet', 'again', 'your', 'saying', 'I', 'am', ...   \n",
       "       39886           8  ['please,', 'please', 'killyourself', 'you', '...   \n",
       "       95433          20  ['Ass', 'rape', 'Are', 'you', 'in', 'an', 'ass...   \n",
       "       16235          38  ['Well', 'it', 'was', 'complete', 'rubbish..',...   \n",
       "\n",
       "                                                   clean_comment  \\\n",
       "target                                                             \n",
       "Hate   187739  trump tweeted  this guy had nothing to do with...   \n",
       "       123900  yet again your saying i am not going to pass i...   \n",
       "       39886   please  please killyourself you whiney little ...   \n",
       "       95433   ass rape   are you in an ass raping relationsh...   \n",
       "       16235   well it was complete rubbish   maybe you shoul...   \n",
       "\n",
       "                                           clean_comment_wo_stop  \\\n",
       "target                                                             \n",
       "Hate   187739    trump tweeted guy nothing policies hahaha loser   \n",
       "       123900  yet saying going pass cause think long load bo...   \n",
       "       39886   please please killyourself whiney little jewis...   \n",
       "       95433   ass rape ass raping relationship splash hotel ...   \n",
       "       16235   well complete rubbish maybe get calculator cur...   \n",
       "\n",
       "                                        clean_comment_lemmatized  \\\n",
       "target                                                             \n",
       "Hate   187739    trump tweeted guy nothing policies hahaha loser   \n",
       "       123900  yet saying going pass cause think long load bo...   \n",
       "       39886   please please killyourself whiney little jewis...   \n",
       "       95433   ass rape ass raping relationship splash hotel ...   \n",
       "       16235   well complete rubbish maybe get calculator cur...   \n",
       "\n",
       "                                            clean_comment_string  \\\n",
       "target                                                             \n",
       "Hate   187739    trump tweeted guy nothing policies hahaha loser   \n",
       "       123900  yet saying going pass cause think long load bo...   \n",
       "       39886   please please killyourself whiney little jewis...   \n",
       "       95433   ass rape ass raping relationship splash hotel ...   \n",
       "       16235   well complete rubbish maybe get calculator cur...   \n",
       "\n",
       "                                           clean_comment_string1  \n",
       "target                                                            \n",
       "Hate   187739    trump tweeted guy nothing policies hahaha loser  \n",
       "       123900  yet saying going pass cause think long load bo...  \n",
       "       39886   please please killyourself whiney little jewis...  \n",
       "       95433   ass rape ass raping relationship splash hotel ...  \n",
       "       16235   well complete rubbish maybe get calculator cur...  "
      ]
     },
     "execution_count": 36,
=======
       "Hate   3945            3945        3945   \n",
       "       173007        173007      173248   \n",
       "       134289        134289      134289   \n",
       "       184408        184408      184649   \n",
       "       182996        182996      183237   \n",
       "\n",
       "                                                    comment_text target  \\\n",
       "target                                                                    \n",
       "Hate   3945    YAWN!!     The above COMMENT is a quote from M...   Hate   \n",
       "       173007  Condolences to his family, they lost their son...   Hate   \n",
       "       134289                                YOU\\n\\n        CUNT   Hate   \n",
       "       184408  If it would have been built then, it would hav...   Hate   \n",
       "       182996  Trump is definitely a worthless stain on Ameri...   Hate   \n",
       "\n",
       "               Num_words                                              words  \\\n",
       "target                                                                        \n",
       "Hate   3945           26  [YAWN!!, The, above, COMMENT, is, a, quote, fr...   \n",
       "       173007         20  [Condolences, to, his, family,, they, lost, th...   \n",
       "       134289          2                                        [YOU, CUNT]   \n",
       "       184408         19  [If, it, would, have, been, built, then,, it, ...   \n",
       "       182996         16  [Trump, is, definitely, a, worthless, stain, o...   \n",
       "\n",
       "                                                   clean_comment  \\\n",
       "target                                                             \n",
       "Hate   3945    yawn       the above comment is a quote from m...   \n",
       "       173007  condolences to his family  they lost their son...   \n",
       "       134289                                  you          cunt   \n",
       "       184408  if it would have been built then  it would hav...   \n",
       "       182996  trump is definitely a worthless stain on ameri...   \n",
       "\n",
       "                                           clean_comment_wo_stop  \\\n",
       "target                                                             \n",
       "Hate   3945    yawn comment quote mcneight yet still insistes...   \n",
       "       173007  condolences family lost son heart stop asshole...   \n",
       "       134289                                               cunt   \n",
       "       184408  would built would ground level elevated rail i...   \n",
       "       182996  trump definitely worthless stain america defin...   \n",
       "\n",
       "                                        clean_comment_lemmatized  \\\n",
       "target                                                             \n",
       "Hate   3945    yawn comment quote mcneight yet still insistes...   \n",
       "       173007  condolences family lost son heart stop asshole...   \n",
       "       134289                                               cunt   \n",
       "       184408  would built would ground level elevated rail i...   \n",
       "       182996  trump definitely worthless stain america defin...   \n",
       "\n",
       "                                            clean_comment_string  \\\n",
       "target                                                             \n",
       "Hate   3945    yawn comment quote mcneight yet still insistes...   \n",
       "       173007  condolences family lost son heart stop asshole...   \n",
       "       134289                                               cunt   \n",
       "       184408  would built would ground level elevated rail i...   \n",
       "       182996  trump definitely worthless stain america defin...   \n",
       "\n",
       "                                           clean_comment_string1  \n",
       "target                                                            \n",
       "Hate   3945    yawn comment quote mcneight yet still insistes...  \n",
       "       173007  condolences family lost son heart stop asshole...  \n",
       "       134289                                               cunt  \n",
       "       184408  would built would ground level elevated rail i...  \n",
       "       182996  trump definitely worthless stain america defin...  "
      ]
     },
     "execution_count": 34,
>>>>>>> 5162d6ab0bf96e57e18222aeaa7034505dab3020
     "metadata": {},
     "output_type": "execute_result"
    }
   ],
   "source": [
    "data_up.head()"
   ]
  },
  {
   "cell_type": "code",
   "execution_count": 37,
   "metadata": {},
   "outputs": [],
   "source": [
    "data_up['target']=data_up['target'].replace({'NoHate':0,'Hate':1})\n",
    "y=data_up[['target']]"
   ]
  },
  {
   "cell_type": "code",
   "execution_count": 38,
   "metadata": {},
   "outputs": [],
   "source": [
    "nrows = len(data)\n",
    "total_sample_size = 1e4\n",
    "#dataup1=data.groupby('target').apply(lambda x: x.sample(int((x.count()/nrows)*total_sample_size)))"
   ]
  },
  {
   "cell_type": "code",
   "execution_count": 39,
   "metadata": {},
   "outputs": [],
   "source": [
    "X_train,X_test,Y_train,Y_test=train_test_split(tfidf_vectorizer_vectors,y,test_size=0.25,random_state=12,shuffle=True)"
   ]
  },
  {
   "cell_type": "markdown",
   "metadata": {},
   "source": [
    "Model Building"
   ]
  },
  {
   "cell_type": "code",
   "execution_count": 40,
   "metadata": {},
   "outputs": [],
   "source": [
    "model_DT=DecisionTreeClassifier(criterion='entropy')\n",
    "DT_fit=model_DT.fit(X_train,Y_train)\n",
    "DT_pred=model_DT.predict(X_test)"
   ]
  },
  {
   "cell_type": "code",
   "execution_count": 41,
   "metadata": {},
   "outputs": [
    {
     "data": {
      "text/plain": [
       "{'ccp_alpha': 0.0,\n",
       " 'class_weight': None,\n",
       " 'criterion': 'entropy',\n",
       " 'max_depth': None,\n",
       " 'max_features': None,\n",
       " 'max_leaf_nodes': None,\n",
       " 'min_impurity_decrease': 0.0,\n",
       " 'min_samples_leaf': 1,\n",
       " 'min_samples_split': 2,\n",
       " 'min_weight_fraction_leaf': 0.0,\n",
       " 'random_state': None,\n",
       " 'splitter': 'best'}"
      ]
     },
<<<<<<< HEAD
     "execution_count": 41,
=======
     "execution_count": 39,
>>>>>>> 5162d6ab0bf96e57e18222aeaa7034505dab3020
     "metadata": {},
     "output_type": "execute_result"
    }
   ],
   "source": [
    "model_DT.get_params()"
   ]
  },
  {
   "cell_type": "code",
   "execution_count": 42,
   "metadata": {},
   "outputs": [
    {
     "name": "stdout",
     "output_type": "stream",
     "text": [
<<<<<<< HEAD
      "Accuracy using DT Model 0.8042222222222222\n",
      "Recall Score using DT Model 0.8042222222222222\n",
      "Precision Score using DT Model 0.8042222222222222\n",
      "F1 Score using DT Model 0.8042222222222222\n",
      "Confusion Matrix using DT Model [[3549  947]\n",
      " [ 815 3689]]\n"
=======
      "Accuracy using DT Model 0.8161111111111111\n",
      "Recall Score using DT Model 0.8161111111111111\n",
      "Precision Score using DT Model 0.8161111111111111\n",
      "F1 Score using DT Model 0.8161111111111111\n",
      "Confusion Matrix using DT Model [[3750  746]\n",
      " [ 909 3595]]\n"
>>>>>>> 5162d6ab0bf96e57e18222aeaa7034505dab3020
     ]
    }
   ],
   "source": [
    "print(\"Accuracy using DT Model {}\".format(metrics.accuracy_score(Y_test,DT_pred)))\n",
    "print(\"Recall Score using DT Model {}\".format(metrics.recall_score(Y_test,DT_pred,average='micro')))\n",
    "print(\"Precision Score using DT Model {}\".format(metrics.precision_score(Y_test,DT_pred,average='micro')))\n",
    "print(\"F1 Score using DT Model {}\".format(metrics.f1_score(Y_test,DT_pred,average='micro')))\n",
    "print(\"Confusion Matrix using DT Model {}\".format(metrics.confusion_matrix(Y_test,DT_pred)))"
   ]
  },
  {
   "cell_type": "code",
   "execution_count": 43,
   "metadata": {},
   "outputs": [
    {
     "data": {
      "text/plain": [
       "['../model/model_dtbalanced.pkl']"
      ]
     },
<<<<<<< HEAD
     "execution_count": 43,
=======
     "execution_count": 41,
>>>>>>> 5162d6ab0bf96e57e18222aeaa7034505dab3020
     "metadata": {},
     "output_type": "execute_result"
    }
   ],
   "source": [
    "joblib.dump(model_DT,'../model/model_dtbalanced.pkl')\n"
   ]
  },
  {
   "cell_type": "code",
   "execution_count": 44,
   "metadata": {},
   "outputs": [
    {
     "name": "stdout",
     "output_type": "stream",
     "text": [
<<<<<<< HEAD
      "Accuracy using NB Model 0.8644444444444445\n",
      "Recall Score using NB Model 0.8644444444444445\n",
      "Precision Score using NB Model 0.8644444444444445\n",
      "F1 Score using NB Model 0.8644444444444445\n",
      "Confusion Matrix using NB Model [[3828  668]\n",
      " [ 552 3952]]\n"
=======
      "Accuracy using NB Model 0.8678888888888889\n",
      "Recall Score using NB Model 0.8678888888888889\n",
      "Precision Score using NB Model 0.8678888888888889\n",
      "F1 Score using NB Model 0.8678888888888889\n",
      "Confusion Matrix using NB Model [[3870  626]\n",
      " [ 563 3941]]\n"
>>>>>>> 5162d6ab0bf96e57e18222aeaa7034505dab3020
     ]
    },
    {
     "name": "stderr",
     "output_type": "stream",
     "text": [
      "/Users/kohishaaruganti/opt/anaconda3/lib/python3.9/site-packages/sklearn/utils/validation.py:1143: DataConversionWarning: A column-vector y was passed when a 1d array was expected. Please change the shape of y to (n_samples, ), for example using ravel().\n",
      "  y = column_or_1d(y, warn=True)\n"
     ]
    }
   ],
   "source": [
    "# MultiNominal Naive Bayes\n",
    "Model_NB = MultinomialNB()\n",
    "NB_fit=Model_NB.fit(X_train,Y_train)\n",
    "NB_pred = Model_NB.predict(X_test)\n",
    "print(\"Accuracy using NB Model {}\".format(metrics.accuracy_score(Y_test,NB_pred)))\n",
    "print(\"Recall Score using NB Model {}\".format(metrics.recall_score(Y_test,NB_pred,average='micro')))\n",
    "print(\"Precision Score using NB Model {}\".format(metrics.precision_score(Y_test,NB_pred,average='micro')))\n",
    "print(\"F1 Score using NB Model {}\".format(metrics.f1_score(Y_test,NB_pred,average='micro')))\n",
    "print(\"Confusion Matrix using NB Model {}\".format(metrics.confusion_matrix(Y_test,NB_pred)))"
   ]
  },
  {
   "cell_type": "code",
   "execution_count": 58,
   "metadata": {},
   "outputs": [
    {
     "name": "stdout",
     "output_type": "stream",
     "text": [
      "Confusion Matrix using NB Model:\n",
      "[[3828  668]\n",
      " [ 552 3952]]\n"
     ]
    },
    {
     "data": {
      "image/png": "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",
      "text/plain": [
       "<Figure size 800x600 with 1 Axes>"
      ]
     },
     "metadata": {},
     "output_type": "display_data"
    }
   ],
   "source": [
    "conf_matrix = metrics.confusion_matrix(Y_test, NB_pred)\n",
    "print(\"Confusion Matrix using NB Model:\\n{}\".format(conf_matrix))\n",
    "plt.figure(figsize=(8, 6))\n",
    "sns.heatmap(conf_matrix, annot=True, fmt=\"d\" , cbar=False)\n",
    "plt.title(\"Confusion Matrix\")\n",
    "plt.xlabel(\"Predicted label\")\n",
    "plt.ylabel(\"True label\")\n",
    "plt.show()"
   ]
  },
  {
   "cell_type": "code",
   "execution_count": 45,
   "metadata": {},
   "outputs": [
    {
     "data": {
      "text/plain": [
       "['../model/naive_bayesbalanced.pkl']"
      ]
     },
<<<<<<< HEAD
     "execution_count": 45,
=======
     "execution_count": 43,
>>>>>>> 5162d6ab0bf96e57e18222aeaa7034505dab3020
     "metadata": {},
     "output_type": "execute_result"
    }
   ],
   "source": [
    "joblib.dump(Model_NB,'../model/naive_bayesbalanced.pkl')"
   ]
  },
  {
   "cell_type": "code",
   "execution_count": 46,
   "metadata": {},
   "outputs": [
    {
     "name": "stderr",
     "output_type": "stream",
     "text": [
      "/Users/kohishaaruganti/opt/anaconda3/lib/python3.9/site-packages/sklearn/utils/validation.py:1143: DataConversionWarning: A column-vector y was passed when a 1d array was expected. Please change the shape of y to (n_samples, ), for example using ravel().\n",
      "  y = column_or_1d(y, warn=True)\n"
     ]
    },
    {
     "name": "stdout",
     "output_type": "stream",
     "text": [
<<<<<<< HEAD
      "Accuracy using SVM Model 0.8758888888888889\n",
      "Recall Score using SVM Model 0.8758888888888889\n",
      "Precision Score using SCM Model 0.8758888888888889\n",
      "F1 Score using SVM Model 0.8758888888888889\n",
      "Confusion Matrix using SVM Model [[4013  483]\n",
      " [ 634 3870]]\n"
=======
      "Accuracy using SVM Model 0.8783333333333333\n",
      "Recall Score using SVM Model 0.8783333333333333\n",
      "Precision Score using SCM Model 0.8783333333333333\n",
      "F1 Score using SVM Model 0.8783333333333333\n",
      "Confusion Matrix using SVM Model [[4062  434]\n",
      " [ 661 3843]]\n"
>>>>>>> 5162d6ab0bf96e57e18222aeaa7034505dab3020
     ]
    }
   ],
   "source": [
    "SVCmodel = svm.SVC(C=1.0, kernel='linear', degree=3, gamma='auto', probability=True)\n",
    "SVCmodel.fit(X_train,Y_train)\n",
    "#model_Evaluate(SVCmodel)\n",
    "svm_pred = SVCmodel.predict(X_test)\n",
    "print(\"Accuracy using SVM Model {}\".format(metrics.accuracy_score(Y_test,svm_pred)))\n",
    "print(\"Recall Score using SVM Model {}\".format(metrics.recall_score(Y_test,svm_pred,average='micro')))\n",
    "print(\"Precision Score using SCM Model {}\".format(metrics.precision_score(Y_test,svm_pred,average='micro')))\n",
    "print(\"F1 Score using SVM Model {}\".format(metrics.f1_score(Y_test,svm_pred,average='micro')))\n",
    "print(\"Confusion Matrix using SVM Model {}\".format(metrics.confusion_matrix(Y_test,svm_pred)))"
   ]
  },
  {
   "cell_type": "code",
   "execution_count": 61,
   "metadata": {},
   "outputs": [
    {
     "name": "stdout",
     "output_type": "stream",
     "text": [
      "Confusion Matrix using svm Model:\n",
      "[[4013  483]\n",
      " [ 634 3870]]\n"
     ]
    },
    {
     "data": {
      "image/png": "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",
      "text/plain": [
       "<Figure size 800x600 with 1 Axes>"
      ]
     },
     "metadata": {},
     "output_type": "display_data"
    }
   ],
   "source": [
    "conf_matrix = metrics.confusion_matrix(Y_test, svm_pred)\n",
    "print(\"Confusion Matrix using svm Model:\\n{}\".format(conf_matrix))\n",
    "plt.figure(figsize=(8, 6))\n",
    "sns.heatmap(conf_matrix, annot=True, fmt=\"d\", cmap=\"BuGn\", cbar=False)\n",
    "plt.title(\"Confusion Matrix\")\n",
    "plt.xlabel(\"Predicted label\")\n",
    "plt.ylabel(\"True label\")\n",
    "plt.show()"
   ]
  },
  {
   "cell_type": "code",
   "execution_count": 47,
   "metadata": {},
   "outputs": [
    {
     "data": {
      "text/plain": [
       "['../model/svcmodelbalanced.pkl']"
      ]
     },
<<<<<<< HEAD
     "execution_count": 47,
=======
     "execution_count": 45,
>>>>>>> 5162d6ab0bf96e57e18222aeaa7034505dab3020
     "metadata": {},
     "output_type": "execute_result"
    }
   ],
   "source": [
    "joblib.dump(SVCmodel,'../model/svcmodelbalanced.pkl')"
   ]
  },
  {
   "cell_type": "code",
   "execution_count": 48,
   "metadata": {},
   "outputs": [
    {
     "name": "stderr",
     "output_type": "stream",
     "text": [
      "/Users/kohishaaruganti/opt/anaconda3/lib/python3.9/site-packages/sklearn/ensemble/_gb.py:437: DataConversionWarning: A column-vector y was passed when a 1d array was expected. Please change the shape of y to (n_samples, ), for example using ravel().\n",
      "  y = column_or_1d(y, warn=True)\n"
     ]
    },
    {
     "name": "stdout",
     "output_type": "stream",
     "text": [
<<<<<<< HEAD
      "Accuracy using Gradiant Model 0.7498888888888889\n",
      "Recall Score using Gradiant Model 0.7498888888888889\n",
      "Precision Score using Gradiant Model 0.7498888888888889\n",
      "F1 Score using Gradiant Model 0.7498888888888889\n",
      "Confusion Matrix using Gradiant Model [[4368  128]\n",
      " [2123 2381]]\n"
=======
      "Accuracy using Gradiant Model 0.7506666666666667\n",
      "Recall Score using Gradiant Model 0.7506666666666667\n",
      "Precision Score using Gradiant Model 0.7506666666666667\n",
      "F1 Score using Gradiant Model 0.7506666666666667\n",
      "Confusion Matrix using Gradiant Model [[4359  137]\n",
      " [2107 2397]]\n"
>>>>>>> 5162d6ab0bf96e57e18222aeaa7034505dab3020
     ]
    }
   ],
   "source": [
    "from sklearn.ensemble import GradientBoostingClassifier\n",
    "\n",
    "model_gradboost = GradientBoostingClassifier(n_estimators=10, learning_rate=1.0)\n",
    "model_gradboost.fit(X_train, Y_train)\n",
    "Gradboost_pred=model_gradboost.predict(X_test)\n",
    "print(\"Accuracy using Gradiant Model {}\".format(metrics.accuracy_score(Y_test,Gradboost_pred)))\n",
    "print(\"Recall Score using Gradiant Model {}\".format(metrics.recall_score(Y_test,Gradboost_pred,average='micro')))\n",
    "print(\"Precision Score using Gradiant Model {}\".format(metrics.precision_score(Y_test,Gradboost_pred,average='micro')))\n",
    "print(\"F1 Score using Gradiant Model {}\".format(metrics.f1_score(Y_test,Gradboost_pred,average='micro')))\n",
    "print(\"Confusion Matrix using Gradiant Model {}\".format(metrics.confusion_matrix(Y_test,Gradboost_pred)))"
   ]
  },
  {
   "cell_type": "code",
   "execution_count": 49,
   "metadata": {},
   "outputs": [
    {
     "data": {
      "text/plain": [
       "['../model/gradboostbalanced.pkl']"
      ]
     },
<<<<<<< HEAD
     "execution_count": 49,
=======
     "execution_count": 47,
>>>>>>> 5162d6ab0bf96e57e18222aeaa7034505dab3020
     "metadata": {},
     "output_type": "execute_result"
    }
   ],
   "source": [
    "joblib.dump(model_gradboost,'../model/gradboostbalanced.pkl')"
   ]
  },
  {
   "cell_type": "code",
   "execution_count": 50,
   "metadata": {},
   "outputs": [
    {
     "data": {
      "text/plain": [
       "array([0])"
      ]
     },
<<<<<<< HEAD
     "execution_count": 50,
=======
     "execution_count": 48,
>>>>>>> 5162d6ab0bf96e57e18222aeaa7034505dab3020
     "metadata": {},
     "output_type": "execute_result"
    }
   ],
   "source": [
    "binary_text='I hate Icecream'\n",
    "binary_model = Pipeline([('vectorizer', tfidf_vectorizer), ('classifier', model_gradboost)])\n",
    "        # Generate Result\n",
    "result = binary_model.predict([binary_text])\n",
    "result"
   ]
  },
  {
   "cell_type": "markdown",
   "metadata": {},
   "source": []
  }
 ],
 "metadata": {
  "kernelspec": {
   "display_name": "hatespeechvenv",
   "language": "python",
   "name": "python3"
  },
  "language_info": {
   "codemirror_mode": {
    "name": "ipython",
    "version": 3
   },
   "file_extension": ".py",
   "mimetype": "text/x-python",
   "name": "python",
   "nbconvert_exporter": "python",
   "pygments_lexer": "ipython3",
   "version": "3.9.7"
  },
  "orig_nbformat": 4
 },
 "nbformat": 4,
 "nbformat_minor": 2
}
