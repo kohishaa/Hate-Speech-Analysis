{
 "cells": [
  {
   "cell_type": "code",
   "execution_count": 1,
   "metadata": {},
   "outputs": [],
   "source": [
    "import pandas as pd\n",
    "import nltk\n",
    "import seaborn as sns\n",
    "import matplotlib.pyplot as plt\n",
    "from nltk.tokenize import word_tokenize,sent_tokenize\n",
    "from nltk.corpus import stopwords\n",
    "from nltk.stem import PorterStemmer\n",
    "import re\n",
    "from string import punctuation\n",
    "from nltk.stem import WordNetLemmatizer\n",
    "import numpy as np \n",
    "from sklearn.feature_extraction.text import TfidfVectorizer, CountVectorizer\n",
    "import string\n",
    "from sklearn.model_selection import train_test_split\n",
    "import matplotlib.pyplot as plt\n",
    "import seaborn as sns\n",
    "from sklearn import svm\n",
    "from sklearn.svm import LinearSVC\n",
    "import sklearn.metrics as metrics\n",
    "from sklearn.metrics import accuracy_score\n",
    "from sklearn.tree import DecisionTreeClassifier\n",
    "from matplotlib.pyplot import figure\n",
    "from sklearn.ensemble import AdaBoostClassifier\n",
    "from sklearn.ensemble import VotingClassifier\n",
    "#from xgboost import XGBClassifier\n",
    "from sklearn.pipeline import Pipeline\n",
    "from sklearn.model_selection import cross_val_score\n",
    "from sklearn.model_selection import GridSearchCV\n",
    "from sklearn.naive_bayes import MultinomialNB\n",
    "from sklearn.feature_extraction.text import TfidfTransformer  \n",
    "from sklearn.svm import SVC\n",
    "import joblib\n",
    "\n",
    "from lime.lime_text import LimeTextExplainer\n",
    "import streamlit as st\n",
    "import streamlit.components.v1 as components\n"
   ]
  },
  {
   "cell_type": "code",
   "execution_count": 2,
   "metadata": {},
   "outputs": [],
   "source": [
    "data=pd.read_csv('finaldataset.csv')"
   ]
  },
  {
   "cell_type": "code",
   "execution_count": 3,
   "metadata": {},
   "outputs": [
    {
     "data": {
      "text/plain": [
       "Index(['Unnamed: 0', 'comment_text', 'target'], dtype='object')"
      ]
     },
     "execution_count": 3,
     "metadata": {},
     "output_type": "execute_result"
    }
   ],
   "source": [
    "data.columns"
   ]
  },
  {
   "cell_type": "code",
   "execution_count": 4,
   "metadata": {},
   "outputs": [
    {
     "data": {
      "text/plain": [
       "Unnamed: 0       int64\n",
       "comment_text    object\n",
       "target          object\n",
       "dtype: object"
      ]
     },
     "execution_count": 4,
     "metadata": {},
     "output_type": "execute_result"
    }
   ],
   "source": [
    "data.dtypes"
   ]
  },
  {
   "cell_type": "code",
   "execution_count": 5,
   "metadata": {},
   "outputs": [
    {
     "data": {
      "text/html": [
       "<div>\n",
       "<style scoped>\n",
       "    .dataframe tbody tr th:only-of-type {\n",
       "        vertical-align: middle;\n",
       "    }\n",
       "\n",
       "    .dataframe tbody tr th {\n",
       "        vertical-align: top;\n",
       "    }\n",
       "\n",
       "    .dataframe thead th {\n",
       "        text-align: right;\n",
       "    }\n",
       "</style>\n",
       "<table border=\"1\" class=\"dataframe\">\n",
       "  <thead>\n",
       "    <tr style=\"text-align: right;\">\n",
       "      <th></th>\n",
       "      <th>Unnamed: 0</th>\n",
       "      <th>comment_text</th>\n",
       "      <th>target</th>\n",
       "    </tr>\n",
       "  </thead>\n",
       "  <tbody>\n",
       "    <tr>\n",
       "      <th>0</th>\n",
       "      <td>0</td>\n",
       "      <td>Explanation\\nWhy the edits made under my usern...</td>\n",
       "      <td>NoHate</td>\n",
       "    </tr>\n",
       "    <tr>\n",
       "      <th>1</th>\n",
       "      <td>1</td>\n",
       "      <td>D'aww! He matches this background colour I'm s...</td>\n",
       "      <td>NoHate</td>\n",
       "    </tr>\n",
       "    <tr>\n",
       "      <th>2</th>\n",
       "      <td>2</td>\n",
       "      <td>Hey man, I'm really not trying to edit war. It...</td>\n",
       "      <td>NoHate</td>\n",
       "    </tr>\n",
       "    <tr>\n",
       "      <th>3</th>\n",
       "      <td>3</td>\n",
       "      <td>\"\\nMore\\nI can't make any real suggestions on ...</td>\n",
       "      <td>NoHate</td>\n",
       "    </tr>\n",
       "    <tr>\n",
       "      <th>4</th>\n",
       "      <td>4</td>\n",
       "      <td>You, sir, are my hero. Any chance you remember...</td>\n",
       "      <td>NoHate</td>\n",
       "    </tr>\n",
       "  </tbody>\n",
       "</table>\n",
       "</div>"
      ],
      "text/plain": [
       "   Unnamed: 0                                       comment_text  target\n",
       "0           0  Explanation\\nWhy the edits made under my usern...  NoHate\n",
       "1           1  D'aww! He matches this background colour I'm s...  NoHate\n",
       "2           2  Hey man, I'm really not trying to edit war. It...  NoHate\n",
       "3           3  \"\\nMore\\nI can't make any real suggestions on ...  NoHate\n",
       "4           4  You, sir, are my hero. Any chance you remember...  NoHate"
      ]
     },
     "execution_count": 5,
     "metadata": {},
     "output_type": "execute_result"
    }
   ],
   "source": [
    "data.head()  "
   ]
  },
  {
   "cell_type": "code",
   "execution_count": 6,
   "metadata": {},
   "outputs": [
    {
     "data": {
      "text/plain": [
       "NoHate    158084\n",
       "Hate       29818\n",
       "Name: target, dtype: int64"
      ]
     },
     "execution_count": 6,
     "metadata": {},
     "output_type": "execute_result"
    }
   ],
   "source": [
    "data['target'].value_counts()"
   ]
  },
  {
   "cell_type": "code",
   "execution_count": 7,
   "metadata": {},
   "outputs": [
    {
     "data": {
      "text/html": [
       "<div>\n",
       "<style scoped>\n",
       "    .dataframe tbody tr th:only-of-type {\n",
       "        vertical-align: middle;\n",
       "    }\n",
       "\n",
       "    .dataframe tbody tr th {\n",
       "        vertical-align: top;\n",
       "    }\n",
       "\n",
       "    .dataframe thead th {\n",
       "        text-align: right;\n",
       "    }\n",
       "</style>\n",
       "<table border=\"1\" class=\"dataframe\">\n",
       "  <thead>\n",
       "    <tr style=\"text-align: right;\">\n",
       "      <th></th>\n",
       "      <th>Unnamed: 0</th>\n",
       "      <th>comment_text</th>\n",
       "      <th>target</th>\n",
       "      <th>Num_words</th>\n",
       "      <th>words</th>\n",
       "    </tr>\n",
       "  </thead>\n",
       "  <tbody>\n",
       "    <tr>\n",
       "      <th>0</th>\n",
       "      <td>0</td>\n",
       "      <td>Explanation\\nWhy the edits made under my usern...</td>\n",
       "      <td>NoHate</td>\n",
       "      <td>43</td>\n",
       "      <td>[Explanation, Why, the, edits, made, under, my...</td>\n",
       "    </tr>\n",
       "    <tr>\n",
       "      <th>1</th>\n",
       "      <td>1</td>\n",
       "      <td>D'aww! He matches this background colour I'm s...</td>\n",
       "      <td>NoHate</td>\n",
       "      <td>17</td>\n",
       "      <td>[D'aww!, He, matches, this, background, colour...</td>\n",
       "    </tr>\n",
       "    <tr>\n",
       "      <th>2</th>\n",
       "      <td>2</td>\n",
       "      <td>Hey man, I'm really not trying to edit war. It...</td>\n",
       "      <td>NoHate</td>\n",
       "      <td>42</td>\n",
       "      <td>[Hey, man,, I'm, really, not, trying, to, edit...</td>\n",
       "    </tr>\n",
       "    <tr>\n",
       "      <th>3</th>\n",
       "      <td>3</td>\n",
       "      <td>\"\\nMore\\nI can't make any real suggestions on ...</td>\n",
       "      <td>NoHate</td>\n",
       "      <td>113</td>\n",
       "      <td>[\", More, I, can't, make, any, real, suggestio...</td>\n",
       "    </tr>\n",
       "    <tr>\n",
       "      <th>4</th>\n",
       "      <td>4</td>\n",
       "      <td>You, sir, are my hero. Any chance you remember...</td>\n",
       "      <td>NoHate</td>\n",
       "      <td>13</td>\n",
       "      <td>[You,, sir,, are, my, hero., Any, chance, you,...</td>\n",
       "    </tr>\n",
       "  </tbody>\n",
       "</table>\n",
       "</div>"
      ],
      "text/plain": [
       "   Unnamed: 0                                       comment_text  target  \\\n",
       "0           0  Explanation\\nWhy the edits made under my usern...  NoHate   \n",
       "1           1  D'aww! He matches this background colour I'm s...  NoHate   \n",
       "2           2  Hey man, I'm really not trying to edit war. It...  NoHate   \n",
       "3           3  \"\\nMore\\nI can't make any real suggestions on ...  NoHate   \n",
       "4           4  You, sir, are my hero. Any chance you remember...  NoHate   \n",
       "\n",
       "   Num_words                                              words  \n",
       "0         43  [Explanation, Why, the, edits, made, under, my...  \n",
       "1         17  [D'aww!, He, matches, this, background, colour...  \n",
       "2         42  [Hey, man,, I'm, really, not, trying, to, edit...  \n",
       "3        113  [\", More, I, can't, make, any, real, suggestio...  \n",
       "4         13  [You,, sir,, are, my, hero., Any, chance, you,...  "
      ]
     },
     "execution_count": 7,
     "metadata": {},
     "output_type": "execute_result"
    }
   ],
   "source": [
    "#data_eda=pd.DataFrame()\n",
    "data['Num_words'] = data['comment_text'].apply(lambda x:len(str(x).split()))\n",
    "data['words'] = data['comment_text'].apply(lambda x:str(x).split())\n",
    "data.head()"
   ]
  },
  {
   "cell_type": "code",
   "execution_count": 8,
   "metadata": {},
   "outputs": [
    {
     "name": "stderr",
     "output_type": "stream",
     "text": [
      "/var/folders/6_/c_yztxs130s4ql02g_p5b3900000gn/T/ipykernel_1796/1566971603.py:3: UserWarning: \n",
      "\n",
      "`distplot` is a deprecated function and will be removed in seaborn v0.14.0.\n",
      "\n",
      "Please adapt your code to use either `displot` (a figure-level function with\n",
      "similar flexibility) or `histplot` (an axes-level function for histograms).\n",
      "\n",
      "For a guide to updating your code to use the new functions, please see\n",
      "https://gist.github.com/mwaskom/de44147ed2974457ad6372750bbe5751\n",
      "\n",
      "  ax = sns.distplot(data['Num_words'])\n"
     ]
    },
    {
     "data": {
      "image/png": "[encoded data removed]",
      "text/plain": [
       "<Figure size 800x400 with 1 Axes>"
      ]
     },
     "metadata": {},
     "output_type": "display_data"
    }
   ],
   "source": [
    "sns.set(rc={\"figure.figsize\": (8, 4)}); np.random.seed(0)\n",
    "x = np.random.randn(100)\n",
    "ax = sns.distplot(data['Num_words'])\n",
    "plt.show()"
   ]
  },
  {
   "cell_type": "code",
   "execution_count": 9,
   "metadata": {},
   "outputs": [
    {
     "name": "stderr",
     "output_type": "stream",
     "text": [
      "/var/folders/6_/c_yztxs130s4ql02g_p5b3900000gn/T/ipykernel_1796/2524509095.py:1: FutureWarning: The default value of regex will change from True to False in a future version.\n",
      "  data['clean_comment'] = data['comment_text'].str.replace(\"[^a-zA-Z#]\", \" \")\n"
     ]
    }
   ],
   "source": [
    "data['clean_comment'] = data['comment_text'].str.replace(\"[^a-zA-Z#]\", \" \")"
   ]
  },
  {
   "cell_type": "code",
   "execution_count": 10,
   "metadata": {},
   "outputs": [
    {
     "data": {
      "text/html": [
       "<div>\n",
       "<style scoped>\n",
       "    .dataframe tbody tr th:only-of-type {\n",
       "        vertical-align: middle;\n",
       "    }\n",
       "\n",
       "    .dataframe tbody tr th {\n",
       "        vertical-align: top;\n",
       "    }\n",
       "\n",
       "    .dataframe thead th {\n",
       "        text-align: right;\n",
       "    }\n",
       "</style>\n",
       "<table border=\"1\" class=\"dataframe\">\n",
       "  <thead>\n",
       "    <tr style=\"text-align: right;\">\n",
       "      <th></th>\n",
       "      <th>Unnamed: 0</th>\n",
       "      <th>comment_text</th>\n",
       "      <th>target</th>\n",
       "      <th>Num_words</th>\n",
       "      <th>words</th>\n",
       "      <th>clean_comment</th>\n",
       "    </tr>\n",
       "  </thead>\n",
       "  <tbody>\n",
       "    <tr>\n",
       "      <th>0</th>\n",
       "      <td>0</td>\n",
       "      <td>Explanation\\nWhy the edits made under my usern...</td>\n",
       "      <td>NoHate</td>\n",
       "      <td>43</td>\n",
       "      <td>[Explanation, Why, the, edits, made, under, my...</td>\n",
       "      <td>Explanation Why the edits made under my userna...</td>\n",
       "    </tr>\n",
       "    <tr>\n",
       "      <th>1</th>\n",
       "      <td>1</td>\n",
       "      <td>D'aww! He matches this background colour I'm s...</td>\n",
       "      <td>NoHate</td>\n",
       "      <td>17</td>\n",
       "      <td>[D'aww!, He, matches, this, background, colour...</td>\n",
       "      <td>D aww  He matches this background colour I m s...</td>\n",
       "    </tr>\n",
       "    <tr>\n",
       "      <th>2</th>\n",
       "      <td>2</td>\n",
       "      <td>Hey man, I'm really not trying to edit war. It...</td>\n",
       "      <td>NoHate</td>\n",
       "      <td>42</td>\n",
       "      <td>[Hey, man,, I'm, really, not, trying, to, edit...</td>\n",
       "      <td>Hey man  I m really not trying to edit war  It...</td>\n",
       "    </tr>\n",
       "    <tr>\n",
       "      <th>3</th>\n",
       "      <td>3</td>\n",
       "      <td>\"\\nMore\\nI can't make any real suggestions on ...</td>\n",
       "      <td>NoHate</td>\n",
       "      <td>113</td>\n",
       "      <td>[\", More, I, can't, make, any, real, suggestio...</td>\n",
       "      <td>More I can t make any real suggestions on im...</td>\n",
       "    </tr>\n",
       "    <tr>\n",
       "      <th>4</th>\n",
       "      <td>4</td>\n",
       "      <td>You, sir, are my hero. Any chance you remember...</td>\n",
       "      <td>NoHate</td>\n",
       "      <td>13</td>\n",
       "      <td>[You,, sir,, are, my, hero., Any, chance, you,...</td>\n",
       "      <td>You  sir  are my hero  Any chance you remember...</td>\n",
       "    </tr>\n",
       "  </tbody>\n",
       "</table>\n",
       "</div>"
      ],
      "text/plain": [
       "   Unnamed: 0                                       comment_text  target  \\\n",
       "0           0  Explanation\\nWhy the edits made under my usern...  NoHate   \n",
       "1           1  D'aww! He matches this background colour I'm s...  NoHate   \n",
       "2           2  Hey man, I'm really not trying to edit war. It...  NoHate   \n",
       "3           3  \"\\nMore\\nI can't make any real suggestions on ...  NoHate   \n",
       "4           4  You, sir, are my hero. Any chance you remember...  NoHate   \n",
       "\n",
       "   Num_words                                              words  \\\n",
       "0         43  [Explanation, Why, the, edits, made, under, my...   \n",
       "1         17  [D'aww!, He, matches, this, background, colour...   \n",
       "2         42  [Hey, man,, I'm, really, not, trying, to, edit...   \n",
       "3        113  [\", More, I, can't, make, any, real, suggestio...   \n",
       "4         13  [You,, sir,, are, my, hero., Any, chance, you,...   \n",
       "\n",
       "                                       clean_comment  \n",
       "0  Explanation Why the edits made under my userna...  \n",
       "1  D aww  He matches this background colour I m s...  \n",
       "2  Hey man  I m really not trying to edit war  It...  \n",
       "3    More I can t make any real suggestions on im...  \n",
       "4  You  sir  are my hero  Any chance you remember...  "
      ]
     },
     "execution_count": 10,
     "metadata": {},
     "output_type": "execute_result"
    }
   ],
   "source": [
    "data.head()"
   ]
  },
  {
   "cell_type": "code",
   "execution_count": 11,
   "metadata": {},
   "outputs": [],
   "source": [
    "data['clean_comment']=data['clean_comment'].str.lower()"
   ]
  },
  {
   "cell_type": "code",
   "execution_count": 12,
   "metadata": {},
   "outputs": [
    {
     "name": "stderr",
     "output_type": "stream",
     "text": [
      "[nltk_data] Downloading package stopwords to\n",
      "[nltk_data]     /Users/kohishaaruganti/nltk_data...\n",
      "[nltk_data]   Package stopwords is already up-to-date!\n"
     ]
    },
    {
     "data": {
      "text/plain": [
       "True"
      ]
     },
     "execution_count": 12,
     "metadata": {},
     "output_type": "execute_result"
    }
   ],
   "source": [
    "nltk.download('stopwords')"
   ]
  },
  {
   "cell_type": "code",
   "execution_count": 13,
   "metadata": {},
   "outputs": [],
   "source": [
    "import string"
   ]
  },
  {
   "cell_type": "code",
   "execution_count": 14,
   "metadata": {},
   "outputs": [
    {
     "data": {
      "text/html": [
       "<div>\n",
       "<style scoped>\n",
       "    .dataframe tbody tr th:only-of-type {\n",
       "        vertical-align: middle;\n",
       "    }\n",
       "\n",
       "    .dataframe tbody tr th {\n",
       "        vertical-align: top;\n",
       "    }\n",
       "\n",
       "    .dataframe thead th {\n",
       "        text-align: right;\n",
       "    }\n",
       "</style>\n",
       "<table border=\"1\" class=\"dataframe\">\n",
       "  <thead>\n",
       "    <tr style=\"text-align: right;\">\n",
       "      <th></th>\n",
       "      <th>Unnamed: 0</th>\n",
       "      <th>comment_text</th>\n",
       "      <th>target</th>\n",
       "      <th>Num_words</th>\n",
       "      <th>words</th>\n",
       "      <th>clean_comment</th>\n",
       "    </tr>\n",
       "  </thead>\n",
       "  <tbody>\n",
       "    <tr>\n",
       "      <th>0</th>\n",
       "      <td>0</td>\n",
       "      <td>Explanation\\nWhy the edits made under my usern...</td>\n",
       "      <td>NoHate</td>\n",
       "      <td>43</td>\n",
       "      <td>[Explanation, Why, the, edits, made, under, my...</td>\n",
       "      <td>explanation why the edits made under my userna...</td>\n",
       "    </tr>\n",
       "    <tr>\n",
       "      <th>1</th>\n",
       "      <td>1</td>\n",
       "      <td>D'aww! He matches this background colour I'm s...</td>\n",
       "      <td>NoHate</td>\n",
       "      <td>17</td>\n",
       "      <td>[D'aww!, He, matches, this, background, colour...</td>\n",
       "      <td>d aww  he matches this background colour i m s...</td>\n",
       "    </tr>\n",
       "    <tr>\n",
       "      <th>2</th>\n",
       "      <td>2</td>\n",
       "      <td>Hey man, I'm really not trying to edit war. It...</td>\n",
       "      <td>NoHate</td>\n",
       "      <td>42</td>\n",
       "      <td>[Hey, man,, I'm, really, not, trying, to, edit...</td>\n",
       "      <td>hey man  i m really not trying to edit war  it...</td>\n",
       "    </tr>\n",
       "    <tr>\n",
       "      <th>3</th>\n",
       "      <td>3</td>\n",
       "      <td>\"\\nMore\\nI can't make any real suggestions on ...</td>\n",
       "      <td>NoHate</td>\n",
       "      <td>113</td>\n",
       "      <td>[\", More, I, can't, make, any, real, suggestio...</td>\n",
       "      <td>more i can t make any real suggestions on im...</td>\n",
       "    </tr>\n",
       "    <tr>\n",
       "      <th>4</th>\n",
       "      <td>4</td>\n",
       "      <td>You, sir, are my hero. Any chance you remember...</td>\n",
       "      <td>NoHate</td>\n",
       "      <td>13</td>\n",
       "      <td>[You,, sir,, are, my, hero., Any, chance, you,...</td>\n",
       "      <td>you  sir  are my hero  any chance you remember...</td>\n",
       "    </tr>\n",
       "  </tbody>\n",
       "</table>\n",
       "</div>"
      ],
      "text/plain": [
       "   Unnamed: 0                                       comment_text  target  \\\n",
       "0           0  Explanation\\nWhy the edits made under my usern...  NoHate   \n",
       "1           1  D'aww! He matches this background colour I'm s...  NoHate   \n",
       "2           2  Hey man, I'm really not trying to edit war. It...  NoHate   \n",
       "3           3  \"\\nMore\\nI can't make any real suggestions on ...  NoHate   \n",
       "4           4  You, sir, are my hero. Any chance you remember...  NoHate   \n",
       "\n",
       "   Num_words                                              words  \\\n",
       "0         43  [Explanation, Why, the, edits, made, under, my...   \n",
       "1         17  [D'aww!, He, matches, this, background, colour...   \n",
       "2         42  [Hey, man,, I'm, really, not, trying, to, edit...   \n",
       "3        113  [\", More, I, can't, make, any, real, suggestio...   \n",
       "4         13  [You,, sir,, are, my, hero., Any, chance, you,...   \n",
       "\n",
       "                                       clean_comment  \n",
       "0  explanation why the edits made under my userna...  \n",
       "1  d aww  he matches this background colour i m s...  \n",
       "2  hey man  i m really not trying to edit war  it...  \n",
       "3    more i can t make any real suggestions on im...  \n",
       "4  you  sir  are my hero  any chance you remember...  "
      ]
     },
     "execution_count": 14,
     "metadata": {},
     "output_type": "execute_result"
    }
   ],
   "source": [
    "punct_remm = string.punctuation\n",
    "def remove_punctuation(text):\n",
    "    return text.translate(str.maketrans('', '', punct_remm))\n",
    "data[\"clean_comment\"] = data[\"clean_comment\"].apply(lambda text: remove_punctuation(text))\n",
    "data.head()"
   ]
  },
  {
   "cell_type": "code",
   "execution_count": 15,
   "metadata": {},
   "outputs": [
    {
     "data": {
      "text/html": [
       "<div>\n",
       "<style scoped>\n",
       "    .dataframe tbody tr th:only-of-type {\n",
       "        vertical-align: middle;\n",
       "    }\n",
       "\n",
       "    .dataframe tbody tr th {\n",
       "        vertical-align: top;\n",
       "    }\n",
       "\n",
       "    .dataframe thead th {\n",
       "        text-align: right;\n",
       "    }\n",
       "</style>\n",
       "<table border=\"1\" class=\"dataframe\">\n",
       "  <thead>\n",
       "    <tr style=\"text-align: right;\">\n",
       "      <th></th>\n",
       "      <th>Unnamed: 0</th>\n",
       "      <th>comment_text</th>\n",
       "      <th>target</th>\n",
       "      <th>Num_words</th>\n",
       "      <th>words</th>\n",
       "      <th>clean_comment</th>\n",
       "      <th>clean_comment_wo_stop</th>\n",
       "    </tr>\n",
       "  </thead>\n",
       "  <tbody>\n",
       "    <tr>\n",
       "      <th>0</th>\n",
       "      <td>0</td>\n",
       "      <td>Explanation\\nWhy the edits made under my usern...</td>\n",
       "      <td>NoHate</td>\n",
       "      <td>43</td>\n",
       "      <td>[Explanation, Why, the, edits, made, under, my...</td>\n",
       "      <td>explanation why the edits made under my userna...</td>\n",
       "      <td>explanation edits made username hardcore metal...</td>\n",
       "    </tr>\n",
       "    <tr>\n",
       "      <th>1</th>\n",
       "      <td>1</td>\n",
       "      <td>D'aww! He matches this background colour I'm s...</td>\n",
       "      <td>NoHate</td>\n",
       "      <td>17</td>\n",
       "      <td>[D'aww!, He, matches, this, background, colour...</td>\n",
       "      <td>d aww  he matches this background colour i m s...</td>\n",
       "      <td>aww matches background colour seemingly stuck ...</td>\n",
       "    </tr>\n",
       "    <tr>\n",
       "      <th>2</th>\n",
       "      <td>2</td>\n",
       "      <td>Hey man, I'm really not trying to edit war. It...</td>\n",
       "      <td>NoHate</td>\n",
       "      <td>42</td>\n",
       "      <td>[Hey, man,, I'm, really, not, trying, to, edit...</td>\n",
       "      <td>hey man  i m really not trying to edit war  it...</td>\n",
       "      <td>hey man really trying edit war guy constantly ...</td>\n",
       "    </tr>\n",
       "    <tr>\n",
       "      <th>3</th>\n",
       "      <td>3</td>\n",
       "      <td>\"\\nMore\\nI can't make any real suggestions on ...</td>\n",
       "      <td>NoHate</td>\n",
       "      <td>113</td>\n",
       "      <td>[\", More, I, can't, make, any, real, suggestio...</td>\n",
       "      <td>more i can t make any real suggestions on im...</td>\n",
       "      <td>make real suggestions improvement wondered sec...</td>\n",
       "    </tr>\n",
       "    <tr>\n",
       "      <th>4</th>\n",
       "      <td>4</td>\n",
       "      <td>You, sir, are my hero. Any chance you remember...</td>\n",
       "      <td>NoHate</td>\n",
       "      <td>13</td>\n",
       "      <td>[You,, sir,, are, my, hero., Any, chance, you,...</td>\n",
       "      <td>you  sir  are my hero  any chance you remember...</td>\n",
       "      <td>sir hero chance remember page</td>\n",
       "    </tr>\n",
       "  </tbody>\n",
       "</table>\n",
       "</div>"
      ],
      "text/plain": [
       "   Unnamed: 0                                       comment_text  target  \\\n",
       "0           0  Explanation\\nWhy the edits made under my usern...  NoHate   \n",
       "1           1  D'aww! He matches this background colour I'm s...  NoHate   \n",
       "2           2  Hey man, I'm really not trying to edit war. It...  NoHate   \n",
       "3           3  \"\\nMore\\nI can't make any real suggestions on ...  NoHate   \n",
       "4           4  You, sir, are my hero. Any chance you remember...  NoHate   \n",
       "\n",
       "   Num_words                                              words  \\\n",
       "0         43  [Explanation, Why, the, edits, made, under, my...   \n",
       "1         17  [D'aww!, He, matches, this, background, colour...   \n",
       "2         42  [Hey, man,, I'm, really, not, trying, to, edit...   \n",
       "3        113  [\", More, I, can't, make, any, real, suggestio...   \n",
       "4         13  [You,, sir,, are, my, hero., Any, chance, you,...   \n",
       "\n",
       "                                       clean_comment  \\\n",
       "0  explanation why the edits made under my userna...   \n",
       "1  d aww  he matches this background colour i m s...   \n",
       "2  hey man  i m really not trying to edit war  it...   \n",
       "3    more i can t make any real suggestions on im...   \n",
       "4  you  sir  are my hero  any chance you remember...   \n",
       "\n",
       "                               clean_comment_wo_stop  \n",
       "0  explanation edits made username hardcore metal...  \n",
       "1  aww matches background colour seemingly stuck ...  \n",
       "2  hey man really trying edit war guy constantly ...  \n",
       "3  make real suggestions improvement wondered sec...  \n",
       "4                      sir hero chance remember page  "
      ]
     },
     "execution_count": 15,
     "metadata": {},
     "output_type": "execute_result"
    }
   ],
   "source": [
    "STOPWORDS = set(stopwords.words('english'))\n",
    "def remove_stopwords(text):\n",
    "    return \" \".join([word for word in str(text).split() if word not in STOPWORDS])\n",
    "\n",
    "data[\"clean_comment_wo_stop\"] = data[\"clean_comment\"].apply(lambda text: remove_stopwords(text))\n",
    "data.head()\n"
   ]
  },
  {
   "cell_type": "code",
   "execution_count": 16,
   "metadata": {},
   "outputs": [
    {
     "data": {
      "text/plain": [
       "[('article', 57995),\n",
       " ('wikipedia', 48616),\n",
       " ('page', 46593),\n",
       " ('talk', 38200),\n",
       " ('one', 31530),\n",
       " ('would', 31471),\n",
       " ('like', 31323),\n",
       " ('please', 30186),\n",
       " ('see', 22785),\n",
       " ('people', 21775),\n",
       " ('think', 21502),\n",
       " ('also', 21293),\n",
       " ('know', 20543),\n",
       " ('edit', 18320),\n",
       " ('time', 17185),\n",
       " ('use', 17180),\n",
       " ('articles', 16848),\n",
       " ('may', 15966),\n",
       " ('get', 15605),\n",
       " ('user', 14644)]"
      ]
     },
     "execution_count": 16,
     "metadata": {},
     "output_type": "execute_result"
    }
   ],
   "source": [
    "# Checking Frequent words\n",
    "\n",
    "from collections import Counter\n",
    "cnt = Counter()\n",
    "for text in data[\"clean_comment_wo_stop\"].values:\n",
    "    for word in text.split():\n",
    "        cnt[word] += 1\n",
    "        \n",
    "cnt.most_common(20)"
   ]
  },
  {
   "cell_type": "code",
   "execution_count": 17,
   "metadata": {},
   "outputs": [],
   "source": [
    "# Stemming\n",
    "\n",
    "stemmer = PorterStemmer()\n",
    "def stem_words(text):\n",
    "    return \" \".join([stemmer.stem(word) for word in text.split()])\n"
   ]
  },
  {
   "cell_type": "code",
   "execution_count": 18,
   "metadata": {},
   "outputs": [
    {
     "name": "stderr",
     "output_type": "stream",
     "text": [
      "[nltk_data] Downloading package wordnet to\n",
      "[nltk_data]     /Users/kohishaaruganti/nltk_data...\n",
      "[nltk_data]   Package wordnet is already up-to-date!\n"
     ]
    },
    {
     "data": {
      "text/plain": [
       "True"
      ]
     },
     "execution_count": 18,
     "metadata": {},
     "output_type": "execute_result"
    }
   ],
   "source": [
    "\n",
    "nltk.download('wordnet')"
   ]
  },
  {
   "cell_type": "code",
   "execution_count": 19,
   "metadata": {},
   "outputs": [],
   "source": [
    "lemmatizer = WordNetLemmatizer()\n",
    "\n",
    "def lemma(doc):  \n",
    "    doc = \"\".join([lemmatizer.lemmatize(word) for word in doc])\n",
    "    return doc"
   ]
  },
  {
   "cell_type": "code",
   "execution_count": 20,
   "metadata": {},
   "outputs": [],
   "source": [
    "data[\"clean_comment_lemmatized\"] = data[\"clean_comment_wo_stop\"].apply(lemma)"
   ]
  },
  {
   "cell_type": "code",
   "execution_count": 21,
   "metadata": {},
   "outputs": [],
   "source": [
    "def onlystring(doc):\n",
    "    doc = \"\".join([char for char in doc if  not char.isdigit()])\n",
    "    return doc\n",
    "data[\"clean_comment_string\"] = data[\"clean_comment_lemmatized\"].apply(onlystring)"
   ]
  },
  {
   "cell_type": "code",
   "execution_count": 22,
   "metadata": {},
   "outputs": [],
   "source": [
    "def clean_text(sentence):    \n",
    "    rem_url=re.sub(r'http\\S+', '',sentence)\n",
    "    rem_num = re.sub('[0-9]+', '', rem_url)\n",
    "    emoji_pattern = re.compile(\"[\"\n",
    "                           u\"\\U0001F600-\\U0001F64F\"  \n",
    "                           u\"\\U0001F300-\\U0001F5FF\"  \n",
    "                           u\"\\U000024C2-\\U0001F251\"\n",
    "                           \"]+\", flags=re.UNICODE)\n",
    "    clean_text=emoji_pattern.sub(r\"\", rem_num)\n",
    "    return clean_text\n",
    "data[\"clean_comment_string1\"] = data[\"clean_comment_lemmatized\"].map(lambda s:clean_text(s)) "
   ]
  },
  {
   "cell_type": "code",
   "execution_count": 23,
   "metadata": {},
   "outputs": [
    {
     "data": {
      "text/html": [
       "<div>\n",
       "<style scoped>\n",
       "    .dataframe tbody tr th:only-of-type {\n",
       "        vertical-align: middle;\n",
       "    }\n",
       "\n",
       "    .dataframe tbody tr th {\n",
       "        vertical-align: top;\n",
       "    }\n",
       "\n",
       "    .dataframe thead th {\n",
       "        text-align: right;\n",
       "    }\n",
       "</style>\n",
       "<table border=\"1\" class=\"dataframe\">\n",
       "  <thead>\n",
       "    <tr style=\"text-align: right;\">\n",
       "      <th></th>\n",
       "      <th>Unnamed: 0</th>\n",
       "      <th>comment_text</th>\n",
       "      <th>target</th>\n",
       "      <th>Num_words</th>\n",
       "      <th>words</th>\n",
       "      <th>clean_comment</th>\n",
       "      <th>clean_comment_wo_stop</th>\n",
       "      <th>clean_comment_lemmatized</th>\n",
       "      <th>clean_comment_string</th>\n",
       "      <th>clean_comment_string1</th>\n",
       "    </tr>\n",
       "  </thead>\n",
       "  <tbody>\n",
       "    <tr>\n",
       "      <th>64156</th>\n",
       "      <td>64156</td>\n",
       "      <td>whoever has their information for the accident...</td>\n",
       "      <td>NoHate</td>\n",
       "      <td>91</td>\n",
       "      <td>[whoever, has, their, information, for, the, a...</td>\n",
       "      <td>whoever has their information for the accident...</td>\n",
       "      <td>whoever information accident happen morning wr...</td>\n",
       "      <td>whoever information accident happen morning wr...</td>\n",
       "      <td>whoever information accident happen morning wr...</td>\n",
       "      <td>whoever information accident happen morning wr...</td>\n",
       "    </tr>\n",
       "    <tr>\n",
       "      <th>7724</th>\n",
       "      <td>7724</td>\n",
       "      <td>SUCK MY FUCKING COCK!</td>\n",
       "      <td>Hate</td>\n",
       "      <td>4</td>\n",
       "      <td>[SUCK, MY, FUCKING, COCK!]</td>\n",
       "      <td>suck my fucking cock</td>\n",
       "      <td>suck fucking cock</td>\n",
       "      <td>suck fucking cock</td>\n",
       "      <td>suck fucking cock</td>\n",
       "      <td>suck fucking cock</td>\n",
       "    </tr>\n",
       "    <tr>\n",
       "      <th>5904</th>\n",
       "      <td>5904</td>\n",
       "      <td>Thanks. Let me have a peek at the source and s...</td>\n",
       "      <td>NoHate</td>\n",
       "      <td>16</td>\n",
       "      <td>[Thanks., Let, me, have, a, peek, at, the, sou...</td>\n",
       "      <td>thanks  let me have a peek at the source and s...</td>\n",
       "      <td>thanks let peek source see cheers</td>\n",
       "      <td>thanks let peek source see cheers</td>\n",
       "      <td>thanks let peek source see cheers</td>\n",
       "      <td>thanks let peek source see cheers</td>\n",
       "    </tr>\n",
       "    <tr>\n",
       "      <th>72711</th>\n",
       "      <td>72711</td>\n",
       "      <td>School \\n\\nHe started school at Motholo primar...</td>\n",
       "      <td>NoHate</td>\n",
       "      <td>48</td>\n",
       "      <td>[School, He, started, school, at, Motholo, pri...</td>\n",
       "      <td>school   he started school at motholo primary ...</td>\n",
       "      <td>school started school motholo primary school y...</td>\n",
       "      <td>school started school motholo primary school y...</td>\n",
       "      <td>school started school motholo primary school y...</td>\n",
       "      <td>school started school motholo primary school y...</td>\n",
       "    </tr>\n",
       "    <tr>\n",
       "      <th>23284</th>\n",
       "      <td>23284</td>\n",
       "      <td>Shes reportedly conceiding defeat tonight,http...</td>\n",
       "      <td>NoHate</td>\n",
       "      <td>8</td>\n",
       "      <td>[Shes, reportedly, conceiding, defeat, tonight...</td>\n",
       "      <td>shes reportedly conceiding defeat tonight http...</td>\n",
       "      <td>shes reportedly conceiding defeat tonight http...</td>\n",
       "      <td>shes reportedly conceiding defeat tonight http...</td>\n",
       "      <td>shes reportedly conceiding defeat tonight http...</td>\n",
       "      <td>shes reportedly conceiding defeat tonight http...</td>\n",
       "    </tr>\n",
       "    <tr>\n",
       "      <th>39061</th>\n",
       "      <td>39061</td>\n",
       "      <td>\"\\nAnd why did you delete the information abou...</td>\n",
       "      <td>NoHate</td>\n",
       "      <td>39</td>\n",
       "      <td>[\", And, why, did, you, delete, the, informati...</td>\n",
       "      <td>and why did you delete the information about...</td>\n",
       "      <td>delete information gardner stuff documentation...</td>\n",
       "      <td>delete information gardner stuff documentation...</td>\n",
       "      <td>delete information gardner stuff documentation...</td>\n",
       "      <td>delete information gardner stuff documentation...</td>\n",
       "    </tr>\n",
       "    <tr>\n",
       "      <th>52244</th>\n",
       "      <td>52244</td>\n",
       "      <td>\"\\nSure. Let's not worry about it at all. |The...</td>\n",
       "      <td>NoHate</td>\n",
       "      <td>11</td>\n",
       "      <td>[\", Sure., Let's, not, worry, about, it, at, a...</td>\n",
       "      <td>sure  let s not worry about it at all   the ...</td>\n",
       "      <td>sure let worry whovian</td>\n",
       "      <td>sure let worry whovian</td>\n",
       "      <td>sure let worry whovian</td>\n",
       "      <td>sure let worry whovian</td>\n",
       "    </tr>\n",
       "    <tr>\n",
       "      <th>108833</th>\n",
       "      <td>108833</td>\n",
       "      <td>Your count of the elapsed time does not accoun...</td>\n",
       "      <td>NoHate</td>\n",
       "      <td>21</td>\n",
       "      <td>[Your, count, of, the, elapsed, time, does, no...</td>\n",
       "      <td>your count of the elapsed time does not accoun...</td>\n",
       "      <td>count elapsed time account previous period deb...</td>\n",
       "      <td>count elapsed time account previous period deb...</td>\n",
       "      <td>count elapsed time account previous period deb...</td>\n",
       "      <td>count elapsed time account previous period deb...</td>\n",
       "    </tr>\n",
       "    <tr>\n",
       "      <th>106656</th>\n",
       "      <td>106656</td>\n",
       "      <td>That's certainly better.</td>\n",
       "      <td>NoHate</td>\n",
       "      <td>3</td>\n",
       "      <td>[That's, certainly, better.]</td>\n",
       "      <td>that s certainly better</td>\n",
       "      <td>certainly better</td>\n",
       "      <td>certainly better</td>\n",
       "      <td>certainly better</td>\n",
       "      <td>certainly better</td>\n",
       "    </tr>\n",
       "    <tr>\n",
       "      <th>154073</th>\n",
       "      <td>154073</td>\n",
       "      <td>Reversion of East India Company link \\n\\nThe e...</td>\n",
       "      <td>NoHate</td>\n",
       "      <td>24</td>\n",
       "      <td>[Reversion, of, East, India, Company, link, Th...</td>\n",
       "      <td>reversion of east india company link   the edi...</td>\n",
       "      <td>reversion east india company link edit made co...</td>\n",
       "      <td>reversion east india company link edit made co...</td>\n",
       "      <td>reversion east india company link edit made co...</td>\n",
       "      <td>reversion east india company link edit made co...</td>\n",
       "    </tr>\n",
       "  </tbody>\n",
       "</table>\n",
       "</div>"
      ],
      "text/plain": [
       "        Unnamed: 0                                       comment_text  target  \\\n",
       "64156        64156  whoever has their information for the accident...  NoHate   \n",
       "7724          7724                              SUCK MY FUCKING COCK!    Hate   \n",
       "5904          5904  Thanks. Let me have a peek at the source and s...  NoHate   \n",
       "72711        72711  School \\n\\nHe started school at Motholo primar...  NoHate   \n",
       "23284        23284  Shes reportedly conceiding defeat tonight,http...  NoHate   \n",
       "39061        39061  \"\\nAnd why did you delete the information abou...  NoHate   \n",
       "52244        52244  \"\\nSure. Let's not worry about it at all. |The...  NoHate   \n",
       "108833      108833  Your count of the elapsed time does not accoun...  NoHate   \n",
       "106656      106656                           That's certainly better.  NoHate   \n",
       "154073      154073  Reversion of East India Company link \\n\\nThe e...  NoHate   \n",
       "\n",
       "        Num_words                                              words  \\\n",
       "64156          91  [whoever, has, their, information, for, the, a...   \n",
       "7724            4                         [SUCK, MY, FUCKING, COCK!]   \n",
       "5904           16  [Thanks., Let, me, have, a, peek, at, the, sou...   \n",
       "72711          48  [School, He, started, school, at, Motholo, pri...   \n",
       "23284           8  [Shes, reportedly, conceiding, defeat, tonight...   \n",
       "39061          39  [\", And, why, did, you, delete, the, informati...   \n",
       "52244          11  [\", Sure., Let's, not, worry, about, it, at, a...   \n",
       "108833         21  [Your, count, of, the, elapsed, time, does, no...   \n",
       "106656          3                       [That's, certainly, better.]   \n",
       "154073         24  [Reversion, of, East, India, Company, link, Th...   \n",
       "\n",
       "                                            clean_comment  \\\n",
       "64156   whoever has their information for the accident...   \n",
       "7724                                suck my fucking cock    \n",
       "5904    thanks  let me have a peek at the source and s...   \n",
       "72711   school   he started school at motholo primary ...   \n",
       "23284   shes reportedly conceiding defeat tonight http...   \n",
       "39061     and why did you delete the information about...   \n",
       "52244     sure  let s not worry about it at all   the ...   \n",
       "108833  your count of the elapsed time does not accoun...   \n",
       "106656                           that s certainly better    \n",
       "154073  reversion of east india company link   the edi...   \n",
       "\n",
       "                                    clean_comment_wo_stop  \\\n",
       "64156   whoever information accident happen morning wr...   \n",
       "7724                                    suck fucking cock   \n",
       "5904                    thanks let peek source see cheers   \n",
       "72711   school started school motholo primary school y...   \n",
       "23284   shes reportedly conceiding defeat tonight http...   \n",
       "39061   delete information gardner stuff documentation...   \n",
       "52244                              sure let worry whovian   \n",
       "108833  count elapsed time account previous period deb...   \n",
       "106656                                   certainly better   \n",
       "154073  reversion east india company link edit made co...   \n",
       "\n",
       "                                 clean_comment_lemmatized  \\\n",
       "64156   whoever information accident happen morning wr...   \n",
       "7724                                    suck fucking cock   \n",
       "5904                    thanks let peek source see cheers   \n",
       "72711   school started school motholo primary school y...   \n",
       "23284   shes reportedly conceiding defeat tonight http...   \n",
       "39061   delete information gardner stuff documentation...   \n",
       "52244                              sure let worry whovian   \n",
       "108833  count elapsed time account previous period deb...   \n",
       "106656                                   certainly better   \n",
       "154073  reversion east india company link edit made co...   \n",
       "\n",
       "                                     clean_comment_string  \\\n",
       "64156   whoever information accident happen morning wr...   \n",
       "7724                                    suck fucking cock   \n",
       "5904                    thanks let peek source see cheers   \n",
       "72711   school started school motholo primary school y...   \n",
       "23284   shes reportedly conceiding defeat tonight http...   \n",
       "39061   delete information gardner stuff documentation...   \n",
       "52244                              sure let worry whovian   \n",
       "108833  count elapsed time account previous period deb...   \n",
       "106656                                   certainly better   \n",
       "154073  reversion east india company link edit made co...   \n",
       "\n",
       "                                    clean_comment_string1  \n",
       "64156   whoever information accident happen morning wr...  \n",
       "7724                                    suck fucking cock  \n",
       "5904                    thanks let peek source see cheers  \n",
       "72711   school started school motholo primary school y...  \n",
       "23284   shes reportedly conceiding defeat tonight http...  \n",
       "39061   delete information gardner stuff documentation...  \n",
       "52244                              sure let worry whovian  \n",
       "108833  count elapsed time account previous period deb...  \n",
       "106656                                   certainly better  \n",
       "154073  reversion east india company link edit made co...  "
      ]
     },
     "execution_count": 23,
     "metadata": {},
     "output_type": "execute_result"
    }
   ],
   "source": [
    "data.sample(10)"
   ]
  },
  {
   "cell_type": "code",
   "execution_count": 24,
   "metadata": {},
   "outputs": [],
   "source": [
    "file = data.to_csv(\"data.csv\")"
   ]
  },
  {
   "cell_type": "code",
   "execution_count": 25,
   "metadata": {},
   "outputs": [],
   "source": [
    "# Vectorization\n",
    "\n",
    "docs = list(data['clean_comment_string1'])[:1000]\n",
    "tfidf_vectorizer = TfidfVectorizer(use_idf=True) \n",
    "tfidf_vectorizer_vectors = tfidf_vectorizer.fit_transform(docs)\n",
    "docs = tfidf_vectorizer_vectors.toarray()"
   ]
  },
  {
   "cell_type": "code",
   "execution_count": 26,
   "metadata": {},
   "outputs": [],
   "source": [
    "#### Train Test Split"
   ]
  },
  {
   "cell_type": "code",
   "execution_count": 27,
   "metadata": {},
   "outputs": [],
   "source": [
    "data['target']=data['target'].replace({'NoHate':0,'Hate':1})\n",
    "y=data[['target']][:1000]"
   ]
  },
  {
   "cell_type": "code",
   "execution_count": 28,
   "metadata": {},
   "outputs": [],
   "source": [
    "\n",
    "X_train,X_test,Y_train,Y_test=train_test_split(tfidf_vectorizer_vectors,y,test_size=0.25,random_state=12)"
   ]
  },
  {
   "cell_type": "markdown",
   "metadata": {},
   "source": [
    "Model Building"
   ]
  },
  {
   "cell_type": "code",
   "execution_count": 29,
   "metadata": {},
   "outputs": [],
   "source": [
    "model_DT=DecisionTreeClassifier(criterion='entropy')\n",
    "DT_fit=model_DT.fit(X_train,Y_train)\n",
    "DT_pred=model_DT.predict(X_test)"
   ]
  },
  {
   "cell_type": "code",
   "execution_count": 30,
   "metadata": {},
   "outputs": [
    {
     "data": {
      "text/plain": [
       "{'ccp_alpha': 0.0,\n",
       " 'class_weight': None,\n",
       " 'criterion': 'entropy',\n",
       " 'max_depth': None,\n",
       " 'max_features': None,\n",
       " 'max_leaf_nodes': None,\n",
       " 'min_impurity_decrease': 0.0,\n",
       " 'min_samples_leaf': 1,\n",
       " 'min_samples_split': 2,\n",
       " 'min_weight_fraction_leaf': 0.0,\n",
       " 'random_state': None,\n",
       " 'splitter': 'best'}"
      ]
     },
     "execution_count": 30,
     "metadata": {},
     "output_type": "execute_result"
    }
   ],
   "source": [
    "model_DT.get_params()"
   ]
  },
  {
   "cell_type": "code",
   "execution_count": 31,
   "metadata": {},
   "outputs": [
    {
     "name": "stdout",
     "output_type": "stream",
     "text": [
      "Accuracy using DT Model 0.9\n",
      "Recall Score using DT Model 0.9\n",
      "Precision Score using DT Model 0.9\n",
      "F1 Score using DT Model 0.9\n",
      "Confusion Matrix using DT Model [[215   4]\n",
      " [ 21  10]]\n"
     ]
    }
   ],
   "source": [
    "print(\"Accuracy using DT Model {}\".format(metrics.accuracy_score(Y_test,DT_pred)))\n",
    "print(\"Recall Score using DT Model {}\".format(metrics.recall_score(Y_test,DT_pred,average='micro')))\n",
    "print(\"Precision Score using DT Model {}\".format(metrics.precision_score(Y_test,DT_pred,average='micro')))\n",
    "print(\"F1 Score using DT Model {}\".format(metrics.f1_score(Y_test,DT_pred,average='micro')))\n",
    "print(\"Confusion Matrix using DT Model {}\".format(metrics.confusion_matrix(Y_test,DT_pred)))"
   ]
  },
  {
   "cell_type": "code",
   "execution_count": 32,
   "metadata": {},
   "outputs": [
    {
     "data": {
      "text/plain": [
       "['../model/model_dt.pkl']"
      ]
     },
     "execution_count": 32,
     "metadata": {},
     "output_type": "execute_result"
    }
   ],
   "source": [
    "joblib.dump(model_DT,'../model/model_dt.pkl')"
   ]
  },
  {
   "cell_type": "code",
   "execution_count": 33,
   "metadata": {},
   "outputs": [
    {
     "name": "stdout",
     "output_type": "stream",
     "text": [
      "Accuracy using NB Model 0.876\n",
      "Recall Score using NB Model 0.876\n",
      "Precision Score using NB Model 0.876\n",
      "F1 Score using NB Model 0.8759999999999999\n",
      "Confusion Matrix using NB Model [[219   0]\n",
      " [ 31   0]]\n"
     ]
    },
    {
     "name": "stderr",
     "output_type": "stream",
     "text": [
      "/Users/kohishaaruganti/opt/anaconda3/lib/python3.9/site-packages/sklearn/utils/validation.py:1143: DataConversionWarning: A column-vector y was passed when a 1d array was expected. Please change the shape of y to (n_samples, ), for example using ravel().\n",
      "  y = column_or_1d(y, warn=True)\n"
     ]
    }
   ],
   "source": [
    "# MultiNominal Naive Bayes\n",
    "Model_NB = MultinomialNB()\n",
    "NB_fit=Model_NB.fit(X_train,Y_train)\n",
    "NB_pred = Model_NB.predict(X_test)\n",
    "print(\"Accuracy using NB Model {}\".format(metrics.accuracy_score(Y_test,NB_pred)))\n",
    "print(\"Recall Score using NB Model {}\".format(metrics.recall_score(Y_test,NB_pred,average='micro')))\n",
    "print(\"Precision Score using NB Model {}\".format(metrics.precision_score(Y_test,NB_pred,average='micro')))\n",
    "print(\"F1 Score using NB Model {}\".format(metrics.f1_score(Y_test,NB_pred,average='micro')))\n",
    "print(\"Confusion Matrix using NB Model {}\".format(metrics.confusion_matrix(Y_test,NB_pred)))"
   ]
  },
  {
   "cell_type": "code",
   "execution_count": 34,
   "metadata": {},
   "outputs": [
    {
     "data": {
      "text/plain": [
       "['../model/naive_bayes.pkl']"
      ]
     },
     "execution_count": 34,
     "metadata": {},
     "output_type": "execute_result"
    }
   ],
   "source": [
    "joblib.dump(Model_NB,'../model/naive_bayes.pkl')"
   ]
  },
  {
   "cell_type": "code",
   "execution_count": 35,
   "metadata": {},
   "outputs": [
    {
     "name": "stdout",
     "output_type": "stream",
     "text": [
      "Accuracy using SVM Model 0.888\n",
      "Recall Score using SVM Model 0.888\n",
      "Precision Score using SCM Model 0.888\n",
      "F1 Score using SVM Model 0.888\n",
      "Confusion Matrix using SVM Model [[219   0]\n",
      " [ 28   3]]\n"
     ]
    },
    {
     "name": "stderr",
     "output_type": "stream",
     "text": [
      "/Users/kohishaaruganti/opt/anaconda3/lib/python3.9/site-packages/sklearn/utils/validation.py:1143: DataConversionWarning: A column-vector y was passed when a 1d array was expected. Please change the shape of y to (n_samples, ), for example using ravel().\n",
      "  y = column_or_1d(y, warn=True)\n"
     ]
    }
   ],
   "source": [
    "SVCmodel = LinearSVC()\n",
    "SVCmodel.fit(X_train,Y_train)\n",
    "svm_pred = SVCmodel.predict(X_test)\n",
    "print(\"Accuracy using SVM Model {}\".format(metrics.accuracy_score(Y_test,svm_pred)))\n",
    "print(\"Recall Score using SVM Model {}\".format(metrics.recall_score(Y_test,svm_pred,average='micro')))\n",
    "print(\"Precision Score using SCM Model {}\".format(metrics.precision_score(Y_test,svm_pred,average='micro')))\n",
    "print(\"F1 Score using SVM Model {}\".format(metrics.f1_score(Y_test,svm_pred,average='micro')))\n",
    "print(\"Confusion Matrix using SVM Model {}\".format(metrics.confusion_matrix(Y_test,svm_pred)))"
   ]
  },
  {
   "cell_type": "code",
   "execution_count": 36,
   "metadata": {},
   "outputs": [
    {
     "data": {
      "text/plain": [
       "['../model/svcmodel.pkl']"
      ]
     },
     "execution_count": 36,
     "metadata": {},
     "output_type": "execute_result"
    }
   ],
   "source": [
    "joblib.dump(SVCmodel,'../model/svcmodel.pkl')"
   ]
  },
  {
   "cell_type": "code",
   "execution_count": 37,
   "metadata": {},
   "outputs": [
    {
     "name": "stdout",
     "output_type": "stream",
     "text": [
      "Accuracy using Gradiant Model 0.884\n",
      "Recall Score using Gradiant Model 0.884\n",
      "Precision Score using Gradiant Model 0.884\n",
      "F1 Score using Gradiant Model 0.884\n",
      "Confusion Matrix using Gradiant Model [[216   3]\n",
      " [ 26   5]]\n"
     ]
    },
    {
     "name": "stderr",
     "output_type": "stream",
     "text": [
      "/Users/kohishaaruganti/opt/anaconda3/lib/python3.9/site-packages/sklearn/ensemble/_gb.py:437: DataConversionWarning: A column-vector y was passed when a 1d array was expected. Please change the shape of y to (n_samples, ), for example using ravel().\n",
      "  y = column_or_1d(y, warn=True)\n"
     ]
    }
   ],
   "source": [
    "from sklearn.ensemble import GradientBoostingClassifier\n",
    "\n",
    "model_gradboost = GradientBoostingClassifier(n_estimators=10, learning_rate=1.0)\n",
    "model_gradboost.fit(X_train, Y_train)\n",
    "Gradboost_pred=model_gradboost.predict(X_test)\n",
    "print(\"Accuracy using Gradiant Model {}\".format(metrics.accuracy_score(Y_test,Gradboost_pred)))\n",
    "print(\"Recall Score using Gradiant Model {}\".format(metrics.recall_score(Y_test,Gradboost_pred,average='micro')))\n",
    "print(\"Precision Score using Gradiant Model {}\".format(metrics.precision_score(Y_test,Gradboost_pred,average='micro')))\n",
    "print(\"F1 Score using Gradiant Model {}\".format(metrics.f1_score(Y_test,Gradboost_pred,average='micro')))\n",
    "print(\"Confusion Matrix using Gradiant Model {}\".format(metrics.confusion_matrix(Y_test,Gradboost_pred)))"
   ]
  },
  {
   "cell_type": "code",
   "execution_count": 38,
   "metadata": {},
   "outputs": [
    {
     "data": {
      "text/plain": [
       "['../model/gradboost.pkl']"
      ]
     },
     "execution_count": 38,
     "metadata": {},
     "output_type": "execute_result"
    }
   ],
   "source": [
    "joblib.dump(model_gradboost,'../model/gradboost.pkl')"
   ]
  },
  {
   "cell_type": "markdown",
   "metadata": {},
   "source": []
  }
 ],
 "metadata": {
  "kernelspec": {
   "display_name": "hatespeechvenv",
   "language": "python",
   "name": "python3"
  },
  "language_info": {
   "codemirror_mode": {
    "name": "ipython",
    "version": 3
   },
   "file_extension": ".py",
   "mimetype": "text/x-python",
   "name": "python",
   "nbconvert_exporter": "python",
   "pygments_lexer": "ipython3",
   "version": "3.9.7"
  },
  "orig_nbformat": 4
 },
 "nbformat": 4,
 "nbformat_minor": 2
}
